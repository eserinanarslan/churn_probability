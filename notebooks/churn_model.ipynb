{
 "cells": [
  {
   "cell_type": "code",
   "execution_count": 1,
   "id": "09a7ecd5-0a22-4444-a419-5e272d1bcb5f",
   "metadata": {
    "pycharm": {
     "name": "#%%\n"
    }
   },
   "outputs": [],
   "source": [
    "import pandas as pd\n",
    "import numpy as np\n",
    "import matplotlib.pyplot as plt\n",
    "\n",
    "import seaborn as sns\n",
    "import random\n",
    "\n",
    "import time\n",
    "from datetime import datetime\n",
    "import sqlite3 as sql\n",
    "\n",
    "%matplotlib inline\n",
    "\n",
    "import datetime as dt"
   ]
  },
  {
   "cell_type": "code",
   "execution_count": 2,
   "id": "b5ce9198-9d23-499b-87d9-cc466edc4e21",
   "metadata": {
    "pycharm": {
     "name": "#%%\n"
    }
   },
   "outputs": [],
   "source": [
    "from sklearn.preprocessing import LabelEncoder, OneHotEncoder\n",
    "from sklearn.preprocessing import MinMaxScaler\n",
    "\n",
    "from sklearn.pipeline import make_pipeline\n",
    "from sklearn.metrics import mean_squared_error, mean_absolute_error, mean_squared_log_error, make_scorer, accuracy_score\n",
    "from sklearn.feature_selection import RFECV\n",
    "from sklearn.linear_model import LogisticRegression, RidgeClassifier\n",
    "from sklearn.svm import SVC\n",
    "from sklearn.ensemble import RandomForestClassifier\n",
    "from sklearn.calibration import CalibratedClassifierCV, calibration_curve\n",
    "from sklearn.preprocessing import LabelEncoder, StandardScaler, MinMaxScaler\n",
    "from sklearn.model_selection import train_test_split, GridSearchCV\n",
    "from sklearn.naive_bayes import GaussianNB\n",
    "from sklearn.metrics import confusion_matrix, accuracy_score, f1_score, recall_score, precision_score, classification_report\n",
    "from sklearn.cluster import MeanShift, estimate_bandwidth\n",
    "\n",
    "from sklearn.model_selection import GridSearchCV\n",
    "from sklearn.tree import DecisionTreeRegressor\n",
    "from sklearn.ensemble import RandomForestClassifier\n",
    "\n",
    "from imblearn.over_sampling import SMOTE"
   ]
  },
  {
   "cell_type": "code",
   "execution_count": 3,
   "id": "550cbd89-b486-4081-836c-11603bff7b71",
   "metadata": {
    "pycharm": {
     "name": "#%%\n"
    }
   },
   "outputs": [],
   "source": [
    "import warnings\n",
    "warnings.filterwarnings('ignore')"
   ]
  },
  {
   "cell_type": "code",
   "execution_count": 4,
   "id": "a8f6bc3b-42bc-4878-b9d2-6ba8d10dceb6",
   "metadata": {
    "pycharm": {
     "name": "#%%\n"
    }
   },
   "outputs": [
    {
     "data": {
      "text/html": [
       "<div>\n",
       "<style scoped>\n",
       "    .dataframe tbody tr th:only-of-type {\n",
       "        vertical-align: middle;\n",
       "    }\n",
       "\n",
       "    .dataframe tbody tr th {\n",
       "        vertical-align: top;\n",
       "    }\n",
       "\n",
       "    .dataframe thead th {\n",
       "        text-align: right;\n",
       "    }\n",
       "</style>\n",
       "<table border=\"1\" class=\"dataframe\">\n",
       "  <thead>\n",
       "    <tr style=\"text-align: right;\">\n",
       "      <th></th>\n",
       "      <th>userId</th>\n",
       "      <th>page_turn_count</th>\n",
       "      <th>view_duration</th>\n",
       "      <th>brochure_id</th>\n",
       "      <th>origin</th>\n",
       "      <th>year</th>\n",
       "      <th>month</th>\n",
       "      <th>day</th>\n",
       "      <th>app_origin</th>\n",
       "      <th>model</th>\n",
       "      <th>...</th>\n",
       "      <th>churn</th>\n",
       "      <th>last_year</th>\n",
       "      <th>last_month</th>\n",
       "      <th>last_day</th>\n",
       "      <th>first_year</th>\n",
       "      <th>first_month</th>\n",
       "      <th>first_day</th>\n",
       "      <th>product_cat__com-bonial-kaufda</th>\n",
       "      <th>product_cat__de-kaufda-android</th>\n",
       "      <th>product_cat__de.kaufda.kaufda</th>\n",
       "    </tr>\n",
       "  </thead>\n",
       "  <tbody>\n",
       "    <tr>\n",
       "      <th>0</th>\n",
       "      <td>9491a960-206a-4a58-9177-e78cb1f05e70</td>\n",
       "      <td>0.080000</td>\n",
       "      <td>0.028102</td>\n",
       "      <td>672239440</td>\n",
       "      <td>0</td>\n",
       "      <td>2017</td>\n",
       "      <td>4</td>\n",
       "      <td>30</td>\n",
       "      <td>0.0</td>\n",
       "      <td>34</td>\n",
       "      <td>...</td>\n",
       "      <td>0.0</td>\n",
       "      <td>2017</td>\n",
       "      <td>7</td>\n",
       "      <td>31</td>\n",
       "      <td>2017</td>\n",
       "      <td>4</td>\n",
       "      <td>2</td>\n",
       "      <td>1</td>\n",
       "      <td>0</td>\n",
       "      <td>0</td>\n",
       "    </tr>\n",
       "    <tr>\n",
       "      <th>1</th>\n",
       "      <td>9491a960-206a-4a58-9177-e78cb1f05e70</td>\n",
       "      <td>0.005333</td>\n",
       "      <td>0.005463</td>\n",
       "      <td>673861625</td>\n",
       "      <td>0</td>\n",
       "      <td>2017</td>\n",
       "      <td>4</td>\n",
       "      <td>30</td>\n",
       "      <td>0.0</td>\n",
       "      <td>34</td>\n",
       "      <td>...</td>\n",
       "      <td>0.0</td>\n",
       "      <td>2017</td>\n",
       "      <td>7</td>\n",
       "      <td>31</td>\n",
       "      <td>2017</td>\n",
       "      <td>4</td>\n",
       "      <td>2</td>\n",
       "      <td>1</td>\n",
       "      <td>0</td>\n",
       "      <td>0</td>\n",
       "    </tr>\n",
       "    <tr>\n",
       "      <th>2</th>\n",
       "      <td>9491a960-206a-4a58-9177-e78cb1f05e70</td>\n",
       "      <td>0.002667</td>\n",
       "      <td>0.007946</td>\n",
       "      <td>660764240</td>\n",
       "      <td>0</td>\n",
       "      <td>2017</td>\n",
       "      <td>4</td>\n",
       "      <td>30</td>\n",
       "      <td>0.0</td>\n",
       "      <td>34</td>\n",
       "      <td>...</td>\n",
       "      <td>0.0</td>\n",
       "      <td>2017</td>\n",
       "      <td>7</td>\n",
       "      <td>31</td>\n",
       "      <td>2017</td>\n",
       "      <td>4</td>\n",
       "      <td>2</td>\n",
       "      <td>1</td>\n",
       "      <td>0</td>\n",
       "      <td>0</td>\n",
       "    </tr>\n",
       "    <tr>\n",
       "      <th>3</th>\n",
       "      <td>fa623647-dfc9-49b4-bbb6-77cbacd599f4</td>\n",
       "      <td>0.170667</td>\n",
       "      <td>0.046186</td>\n",
       "      <td>672658544</td>\n",
       "      <td>0</td>\n",
       "      <td>2017</td>\n",
       "      <td>4</td>\n",
       "      <td>30</td>\n",
       "      <td>0.0</td>\n",
       "      <td>40</td>\n",
       "      <td>...</td>\n",
       "      <td>1.0</td>\n",
       "      <td>2017</td>\n",
       "      <td>6</td>\n",
       "      <td>21</td>\n",
       "      <td>2017</td>\n",
       "      <td>4</td>\n",
       "      <td>1</td>\n",
       "      <td>1</td>\n",
       "      <td>0</td>\n",
       "      <td>0</td>\n",
       "    </tr>\n",
       "    <tr>\n",
       "      <th>4</th>\n",
       "      <td>9491a960-206a-4a58-9177-e78cb1f05e70</td>\n",
       "      <td>0.002667</td>\n",
       "      <td>0.012664</td>\n",
       "      <td>660764240</td>\n",
       "      <td>0</td>\n",
       "      <td>2017</td>\n",
       "      <td>4</td>\n",
       "      <td>30</td>\n",
       "      <td>0.0</td>\n",
       "      <td>34</td>\n",
       "      <td>...</td>\n",
       "      <td>0.0</td>\n",
       "      <td>2017</td>\n",
       "      <td>7</td>\n",
       "      <td>31</td>\n",
       "      <td>2017</td>\n",
       "      <td>4</td>\n",
       "      <td>2</td>\n",
       "      <td>1</td>\n",
       "      <td>0</td>\n",
       "      <td>0</td>\n",
       "    </tr>\n",
       "  </tbody>\n",
       "</table>\n",
       "<p>5 rows × 24 columns</p>\n",
       "</div>"
      ],
      "text/plain": [
       "                                 userId  page_turn_count  view_duration  \\\n",
       "0  9491a960-206a-4a58-9177-e78cb1f05e70         0.080000       0.028102   \n",
       "1  9491a960-206a-4a58-9177-e78cb1f05e70         0.005333       0.005463   \n",
       "2  9491a960-206a-4a58-9177-e78cb1f05e70         0.002667       0.007946   \n",
       "3  fa623647-dfc9-49b4-bbb6-77cbacd599f4         0.170667       0.046186   \n",
       "4  9491a960-206a-4a58-9177-e78cb1f05e70         0.002667       0.012664   \n",
       "\n",
       "   brochure_id  origin  year  month  day  app_origin  model  ...  churn  \\\n",
       "0    672239440       0  2017      4   30         0.0     34  ...    0.0   \n",
       "1    673861625       0  2017      4   30         0.0     34  ...    0.0   \n",
       "2    660764240       0  2017      4   30         0.0     34  ...    0.0   \n",
       "3    672658544       0  2017      4   30         0.0     40  ...    1.0   \n",
       "4    660764240       0  2017      4   30         0.0     34  ...    0.0   \n",
       "\n",
       "   last_year  last_month  last_day  first_year  first_month  first_day  \\\n",
       "0       2017           7        31        2017            4          2   \n",
       "1       2017           7        31        2017            4          2   \n",
       "2       2017           7        31        2017            4          2   \n",
       "3       2017           6        21        2017            4          1   \n",
       "4       2017           7        31        2017            4          2   \n",
       "\n",
       "   product_cat__com-bonial-kaufda  product_cat__de-kaufda-android  \\\n",
       "0                               1                               0   \n",
       "1                               1                               0   \n",
       "2                               1                               0   \n",
       "3                               1                               0   \n",
       "4                               1                               0   \n",
       "\n",
       "   product_cat__de.kaufda.kaufda  \n",
       "0                              0  \n",
       "1                              0  \n",
       "2                              0  \n",
       "3                              0  \n",
       "4                              0  \n",
       "\n",
       "[5 rows x 24 columns]"
      ]
     },
     "execution_count": 4,
     "metadata": {},
     "output_type": "execute_result"
    }
   ],
   "source": [
    "train_df4 = pd.read_csv(\"../dataset/churn_dataset.csv\")\n",
    "train_df4.head()"
   ]
  },
  {
   "cell_type": "code",
   "execution_count": 5,
   "id": "1f537832-a12c-4e81-af56-6ef529e4362c",
   "metadata": {
    "pycharm": {
     "name": "#%%\n"
    }
   },
   "outputs": [],
   "source": [
    "train_df5 = train_df4.copy()\n",
    "#train_df4 = train_df4.drop(columns='userId')"
   ]
  },
  {
   "cell_type": "code",
   "execution_count": 6,
   "id": "8a491b2b-4c70-4b31-80d7-b19a29363de2",
   "metadata": {
    "pycharm": {
     "name": "#%%\n"
    }
   },
   "outputs": [],
   "source": [
    "def reduce_mem_usage(df, verbose=True):\n",
    "    numerics = ['int16', 'int32', 'int64', 'float16', 'float32', 'float64']\n",
    "    start_mem = df.memory_usage().sum() / 1024**2    \n",
    "    for col in df.columns:\n",
    "        col_type = df[col].dtypes\n",
    "        if col_type in numerics:\n",
    "            c_min = df[col].min()\n",
    "            c_max = df[col].max()\n",
    "            if str(col_type)[:3] == 'int':\n",
    "                if c_min > np.iinfo(np.int8).min and c_max < np.iinfo(np.int8).max:\n",
    "                    df[col] = df[col].astype(np.int8)\n",
    "                elif c_min > np.iinfo(np.int16).min and c_max < np.iinfo(np.int16).max:\n",
    "                    df[col] = df[col].astype(np.int16)\n",
    "                elif c_min > np.iinfo(np.int32).min and c_max < np.iinfo(np.int32).max:\n",
    "                    df[col] = df[col].astype(np.int32)\n",
    "                elif c_min > np.iinfo(np.int64).min and c_max < np.iinfo(np.int64).max:\n",
    "                    df[col] = df[col].astype(np.int64)  \n",
    "            else:\n",
    "                if c_min > np.finfo(np.float16).min and c_max < np.finfo(np.float16).max:\n",
    "                    df[col] = df[col].astype(np.float16)\n",
    "                elif c_min > np.finfo(np.float32).min and c_max < np.finfo(np.float32).max:\n",
    "                    df[col] = df[col].astype(np.float32)\n",
    "                else:\n",
    "                    df[col] = df[col].astype(np.float64)    \n",
    "    end_mem = df.memory_usage().sum() / 1024**2\n",
    "    if verbose: print('Mem. usage decreased to {:5.2f} Mb ({:.1f}% reduction)'.format(end_mem, 100 * (start_mem - end_mem) / start_mem))\n",
    "    return df"
   ]
  },
  {
   "cell_type": "code",
   "execution_count": 7,
   "id": "80967af1-6ff9-4c4c-9f7c-5a7caeeb6e54",
   "metadata": {
    "pycharm": {
     "name": "#%%\n"
    }
   },
   "outputs": [
    {
     "name": "stdout",
     "output_type": "stream",
     "text": [
      "Mem. usage decreased to 15.44 Mb (76.0% reduction)\n"
     ]
    }
   ],
   "source": [
    "train_df4 = reduce_mem_usage(train_df4)"
   ]
  },
  {
   "cell_type": "raw",
   "id": "af462b18-5f11-45bd-8351-b2357f4dfc47",
   "metadata": {
    "pycharm": {
     "name": "#%% raw\n"
    }
   },
   "source": [
    "final_df = pd.DataFrame()\n",
    "final_df = train_df4[['userId']].reset_index(drop=True)\n",
    "\n",
    "final_df.shape"
   ]
  },
  {
   "cell_type": "code",
   "execution_count": 8,
   "id": "446ed5b4-3cb6-4382-a47d-ef9cae7646d3",
   "metadata": {
    "pycharm": {
     "name": "#%%\n"
    }
   },
   "outputs": [],
   "source": [
    "# creating instance of labelencoder\n",
    "labelencoder = LabelEncoder()\n",
    "# Assigning numerical values and storing in another column\n",
    "train_df4['userId'] = labelencoder.fit_transform(train_df4['userId'])"
   ]
  },
  {
   "cell_type": "code",
   "execution_count": 9,
   "id": "d2f441c6-311f-4185-bdb0-5d066abddcb2",
   "metadata": {
    "pycharm": {
     "name": "#%%\n"
    }
   },
   "outputs": [],
   "source": [
    "X_no = train_df4[train_df4.churn == 0]\n",
    "X_yes = train_df4[train_df4.churn == 1]"
   ]
  },
  {
   "cell_type": "code",
   "execution_count": 10,
   "id": "0f9e8be5-8392-46d1-8fb4-f17dfe0cc603",
   "metadata": {
    "pycharm": {
     "name": "#%%\n"
    }
   },
   "outputs": [
    {
     "name": "stdout",
     "output_type": "stream",
     "text": [
      "265139\n"
     ]
    }
   ],
   "source": [
    "X_yes_upsampled = X_yes.sample(n=len(X_no), replace=True, random_state=42)\n",
    "print(len(X_yes_upsampled))"
   ]
  },
  {
   "cell_type": "code",
   "execution_count": 11,
   "id": "e53cc2d6-2bdc-4f7a-923b-df472715dad1",
   "metadata": {
    "pycharm": {
     "name": "#%%\n"
    }
   },
   "outputs": [
    {
     "data": {
      "text/plain": [
       "Text(0.5, 1.0, 'Class Distribution After Resampling')"
      ]
     },
     "execution_count": 11,
     "metadata": {},
     "output_type": "execute_result"
    },
    {
     "data": {
      "image/png": "[encoded data removed]",
      "text/plain": [
       "<Figure size 432x288 with 1 Axes>"
      ]
     },
     "metadata": {
      "needs_background": "light"
     },
     "output_type": "display_data"
    }
   ],
   "source": [
    "X_upsampled = X_no.append(X_yes_upsampled).reset_index(drop=True)\n",
    "sns.countplot('churn', data=X_upsampled).set_title('Class Distribution After Resampling')"
   ]
  },
  {
   "cell_type": "code",
   "execution_count": 12,
   "id": "6a316157-4568-4534-9618-23a1d5b9fb32",
   "metadata": {
    "pycharm": {
     "name": "#%%\n"
    }
   },
   "outputs": [],
   "source": [
    "X = X_upsampled.drop(['churn'], axis=1) #features (independent variables)\n",
    "y = X_upsampled['churn'] #target (dependent variable)"
   ]
  },
  {
   "cell_type": "code",
   "execution_count": 13,
   "id": "e3c2d064-9474-4916-baaa-7a216bdc5339",
   "metadata": {
    "pycharm": {
     "name": "#%%\n"
    }
   },
   "outputs": [],
   "source": [
    "X_train, X_test, y_train, y_test = train_test_split(X, y, test_size = 0.2, random_state=42)"
   ]
  },
  {
   "cell_type": "code",
   "execution_count": 14,
   "id": "76216910-5f18-4131-808f-bdd0f89d4098",
   "metadata": {
    "pycharm": {
     "name": "#%%\n"
    }
   },
   "outputs": [
    {
     "data": {
      "text/html": [
       "<div>\n",
       "<style scoped>\n",
       "    .dataframe tbody tr th:only-of-type {\n",
       "        vertical-align: middle;\n",
       "    }\n",
       "\n",
       "    .dataframe tbody tr th {\n",
       "        vertical-align: top;\n",
       "    }\n",
       "\n",
       "    .dataframe thead th {\n",
       "        text-align: right;\n",
       "    }\n",
       "</style>\n",
       "<table border=\"1\" class=\"dataframe\">\n",
       "  <thead>\n",
       "    <tr style=\"text-align: right;\">\n",
       "      <th></th>\n",
       "      <th>userId</th>\n",
       "      <th>page_turn_count</th>\n",
       "      <th>view_duration</th>\n",
       "      <th>brochure_id</th>\n",
       "      <th>origin</th>\n",
       "      <th>year</th>\n",
       "      <th>month</th>\n",
       "      <th>day</th>\n",
       "      <th>app_origin</th>\n",
       "      <th>model</th>\n",
       "      <th>...</th>\n",
       "      <th>install_day</th>\n",
       "      <th>last_year</th>\n",
       "      <th>last_month</th>\n",
       "      <th>last_day</th>\n",
       "      <th>first_year</th>\n",
       "      <th>first_month</th>\n",
       "      <th>first_day</th>\n",
       "      <th>product_cat__com-bonial-kaufda</th>\n",
       "      <th>product_cat__de-kaufda-android</th>\n",
       "      <th>product_cat__de.kaufda.kaufda</th>\n",
       "    </tr>\n",
       "  </thead>\n",
       "  <tbody>\n",
       "    <tr>\n",
       "      <th>427517</th>\n",
       "      <td>6552</td>\n",
       "      <td>0.002666</td>\n",
       "      <td>0.013908</td>\n",
       "      <td>660764295</td>\n",
       "      <td>0</td>\n",
       "      <td>2017</td>\n",
       "      <td>6</td>\n",
       "      <td>5</td>\n",
       "      <td>0.0</td>\n",
       "      <td>110</td>\n",
       "      <td>...</td>\n",
       "      <td>1.0</td>\n",
       "      <td>2017</td>\n",
       "      <td>7</td>\n",
       "      <td>11</td>\n",
       "      <td>2017</td>\n",
       "      <td>4</td>\n",
       "      <td>1</td>\n",
       "      <td>1</td>\n",
       "      <td>0</td>\n",
       "      <td>0</td>\n",
       "    </tr>\n",
       "    <tr>\n",
       "      <th>10486</th>\n",
       "      <td>6343</td>\n",
       "      <td>0.072021</td>\n",
       "      <td>0.014153</td>\n",
       "      <td>670440838</td>\n",
       "      <td>0</td>\n",
       "      <td>2017</td>\n",
       "      <td>4</td>\n",
       "      <td>24</td>\n",
       "      <td>0.0</td>\n",
       "      <td>110</td>\n",
       "      <td>...</td>\n",
       "      <td>24.0</td>\n",
       "      <td>2017</td>\n",
       "      <td>7</td>\n",
       "      <td>30</td>\n",
       "      <td>2017</td>\n",
       "      <td>4</td>\n",
       "      <td>24</td>\n",
       "      <td>1</td>\n",
       "      <td>0</td>\n",
       "      <td>0</td>\n",
       "    </tr>\n",
       "    <tr>\n",
       "      <th>293093</th>\n",
       "      <td>3559</td>\n",
       "      <td>0.135986</td>\n",
       "      <td>0.024094</td>\n",
       "      <td>690774029</td>\n",
       "      <td>0</td>\n",
       "      <td>2017</td>\n",
       "      <td>6</td>\n",
       "      <td>17</td>\n",
       "      <td>0.0</td>\n",
       "      <td>166</td>\n",
       "      <td>...</td>\n",
       "      <td>3.0</td>\n",
       "      <td>2017</td>\n",
       "      <td>6</td>\n",
       "      <td>26</td>\n",
       "      <td>2017</td>\n",
       "      <td>4</td>\n",
       "      <td>3</td>\n",
       "      <td>1</td>\n",
       "      <td>0</td>\n",
       "      <td>0</td>\n",
       "    </tr>\n",
       "    <tr>\n",
       "      <th>488448</th>\n",
       "      <td>8917</td>\n",
       "      <td>0.061340</td>\n",
       "      <td>0.040222</td>\n",
       "      <td>678600077</td>\n",
       "      <td>0</td>\n",
       "      <td>2017</td>\n",
       "      <td>5</td>\n",
       "      <td>26</td>\n",
       "      <td>-1.0</td>\n",
       "      <td>87</td>\n",
       "      <td>...</td>\n",
       "      <td>1.0</td>\n",
       "      <td>2017</td>\n",
       "      <td>6</td>\n",
       "      <td>28</td>\n",
       "      <td>2017</td>\n",
       "      <td>4</td>\n",
       "      <td>30</td>\n",
       "      <td>0</td>\n",
       "      <td>0</td>\n",
       "      <td>0</td>\n",
       "    </tr>\n",
       "    <tr>\n",
       "      <th>26533</th>\n",
       "      <td>3465</td>\n",
       "      <td>0.032013</td>\n",
       "      <td>0.032532</td>\n",
       "      <td>666027994</td>\n",
       "      <td>0</td>\n",
       "      <td>2017</td>\n",
       "      <td>4</td>\n",
       "      <td>9</td>\n",
       "      <td>0.0</td>\n",
       "      <td>157</td>\n",
       "      <td>...</td>\n",
       "      <td>5.0</td>\n",
       "      <td>2017</td>\n",
       "      <td>7</td>\n",
       "      <td>31</td>\n",
       "      <td>2017</td>\n",
       "      <td>4</td>\n",
       "      <td>5</td>\n",
       "      <td>1</td>\n",
       "      <td>0</td>\n",
       "      <td>0</td>\n",
       "    </tr>\n",
       "  </tbody>\n",
       "</table>\n",
       "<p>5 rows × 23 columns</p>\n",
       "</div>"
      ],
      "text/plain": [
       "        userId  page_turn_count  view_duration  brochure_id  origin  year  \\\n",
       "427517    6552         0.002666       0.013908    660764295       0  2017   \n",
       "10486     6343         0.072021       0.014153    670440838       0  2017   \n",
       "293093    3559         0.135986       0.024094    690774029       0  2017   \n",
       "488448    8917         0.061340       0.040222    678600077       0  2017   \n",
       "26533     3465         0.032013       0.032532    666027994       0  2017   \n",
       "\n",
       "        month  day  app_origin  model  ...  install_day  last_year  \\\n",
       "427517      6    5         0.0    110  ...          1.0       2017   \n",
       "10486       4   24         0.0    110  ...         24.0       2017   \n",
       "293093      6   17         0.0    166  ...          3.0       2017   \n",
       "488448      5   26        -1.0     87  ...          1.0       2017   \n",
       "26533       4    9         0.0    157  ...          5.0       2017   \n",
       "\n",
       "        last_month  last_day  first_year  first_month  first_day  \\\n",
       "427517           7        11        2017            4          1   \n",
       "10486            7        30        2017            4         24   \n",
       "293093           6        26        2017            4          3   \n",
       "488448           6        28        2017            4         30   \n",
       "26533            7        31        2017            4          5   \n",
       "\n",
       "        product_cat__com-bonial-kaufda  product_cat__de-kaufda-android  \\\n",
       "427517                               1                               0   \n",
       "10486                                1                               0   \n",
       "293093                               1                               0   \n",
       "488448                               0                               0   \n",
       "26533                                1                               0   \n",
       "\n",
       "        product_cat__de.kaufda.kaufda  \n",
       "427517                              0  \n",
       "10486                               0  \n",
       "293093                              0  \n",
       "488448                              0  \n",
       "26533                               0  \n",
       "\n",
       "[5 rows x 23 columns]"
      ]
     },
     "execution_count": 14,
     "metadata": {},
     "output_type": "execute_result"
    }
   ],
   "source": [
    "X_test.head()"
   ]
  },
  {
   "cell_type": "raw",
   "id": "86d161a0-a73b-4eab-a74e-1a2db66ab6e8",
   "metadata": {
    "pycharm": {
     "name": "#%% raw\n"
    }
   },
   "source": [
    "X_train = X_train.drop(columns='userId')\n",
    "X_test = X_test.drop(columns='userId')\n",
    "X_train.shape, X_test.shape"
   ]
  },
  {
   "cell_type": "code",
   "execution_count": null,
   "id": "d16b629c-7b29-440c-8853-8ded647f2577",
   "metadata": {
    "pycharm": {
     "name": "#%%\n"
    }
   },
   "outputs": [],
   "source": []
  },
  {
   "cell_type": "markdown",
   "id": "bc3d01f8-583b-4c40-81e0-994fe8fe0cc0",
   "metadata": {
    "pycharm": {
     "name": "#%% md\n"
    }
   },
   "source": [
    "**#RidgeClassifier**"
   ]
  },
  {
   "cell_type": "code",
   "execution_count": 15,
   "id": "970a0c36-87e0-4e48-9ca3-80a99b89092a",
   "metadata": {
    "pycharm": {
     "name": "#%%\n"
    }
   },
   "outputs": [
    {
     "data": {
      "text/plain": [
       "RidgeClassifier()"
      ]
     },
     "execution_count": 15,
     "metadata": {},
     "output_type": "execute_result"
    }
   ],
   "source": [
    "clf_ridge = RidgeClassifier() #create a ridge classifier object\n",
    "clf_ridge.fit(X_train, y_train) #train the model"
   ]
  },
  {
   "cell_type": "code",
   "execution_count": 18,
   "id": "1562e09c-dcec-4ec9-baa6-a221dc59ceca",
   "metadata": {
    "pycharm": {
     "name": "#%%\n"
    }
   },
   "outputs": [
    {
     "data": {
      "text/html": [
       "<div>\n",
       "<style scoped>\n",
       "    .dataframe tbody tr th:only-of-type {\n",
       "        vertical-align: middle;\n",
       "    }\n",
       "\n",
       "    .dataframe tbody tr th {\n",
       "        vertical-align: top;\n",
       "    }\n",
       "\n",
       "    .dataframe thead th {\n",
       "        text-align: right;\n",
       "    }\n",
       "</style>\n",
       "<table border=\"1\" class=\"dataframe\">\n",
       "  <thead>\n",
       "    <tr style=\"text-align: right;\">\n",
       "      <th></th>\n",
       "      <th>userId</th>\n",
       "      <th>page_turn_count</th>\n",
       "      <th>view_duration</th>\n",
       "      <th>brochure_id</th>\n",
       "      <th>origin</th>\n",
       "      <th>year</th>\n",
       "      <th>month</th>\n",
       "      <th>day</th>\n",
       "      <th>app_origin</th>\n",
       "      <th>model</th>\n",
       "      <th>...</th>\n",
       "      <th>install_day</th>\n",
       "      <th>last_year</th>\n",
       "      <th>last_month</th>\n",
       "      <th>last_day</th>\n",
       "      <th>first_year</th>\n",
       "      <th>first_month</th>\n",
       "      <th>first_day</th>\n",
       "      <th>product_cat__com-bonial-kaufda</th>\n",
       "      <th>product_cat__de-kaufda-android</th>\n",
       "      <th>product_cat__de.kaufda.kaufda</th>\n",
       "    </tr>\n",
       "  </thead>\n",
       "  <tbody>\n",
       "    <tr>\n",
       "      <th>201104</th>\n",
       "      <td>4207</td>\n",
       "      <td>0.034668</td>\n",
       "      <td>0.010429</td>\n",
       "      <td>703347176</td>\n",
       "      <td>1</td>\n",
       "      <td>2017</td>\n",
       "      <td>7</td>\n",
       "      <td>30</td>\n",
       "      <td>1.0</td>\n",
       "      <td>110</td>\n",
       "      <td>...</td>\n",
       "      <td>9.0</td>\n",
       "      <td>2017</td>\n",
       "      <td>7</td>\n",
       "      <td>31</td>\n",
       "      <td>2017</td>\n",
       "      <td>5</td>\n",
       "      <td>9</td>\n",
       "      <td>1</td>\n",
       "      <td>0</td>\n",
       "      <td>0</td>\n",
       "    </tr>\n",
       "    <tr>\n",
       "      <th>343106</th>\n",
       "      <td>9103</td>\n",
       "      <td>0.149292</td>\n",
       "      <td>0.051147</td>\n",
       "      <td>685524964</td>\n",
       "      <td>0</td>\n",
       "      <td>2017</td>\n",
       "      <td>6</td>\n",
       "      <td>5</td>\n",
       "      <td>0.0</td>\n",
       "      <td>110</td>\n",
       "      <td>...</td>\n",
       "      <td>16.0</td>\n",
       "      <td>2017</td>\n",
       "      <td>7</td>\n",
       "      <td>6</td>\n",
       "      <td>2017</td>\n",
       "      <td>4</td>\n",
       "      <td>16</td>\n",
       "      <td>1</td>\n",
       "      <td>0</td>\n",
       "      <td>0</td>\n",
       "    </tr>\n",
       "    <tr>\n",
       "      <th>299308</th>\n",
       "      <td>181</td>\n",
       "      <td>0.010666</td>\n",
       "      <td>0.006454</td>\n",
       "      <td>681241342</td>\n",
       "      <td>0</td>\n",
       "      <td>2017</td>\n",
       "      <td>5</td>\n",
       "      <td>22</td>\n",
       "      <td>-1.0</td>\n",
       "      <td>87</td>\n",
       "      <td>...</td>\n",
       "      <td>1.0</td>\n",
       "      <td>2000</td>\n",
       "      <td>1</td>\n",
       "      <td>1</td>\n",
       "      <td>2000</td>\n",
       "      <td>1</td>\n",
       "      <td>1</td>\n",
       "      <td>0</td>\n",
       "      <td>0</td>\n",
       "      <td>0</td>\n",
       "    </tr>\n",
       "    <tr>\n",
       "      <th>279258</th>\n",
       "      <td>4271</td>\n",
       "      <td>0.042664</td>\n",
       "      <td>0.019119</td>\n",
       "      <td>656072535</td>\n",
       "      <td>0</td>\n",
       "      <td>2017</td>\n",
       "      <td>4</td>\n",
       "      <td>10</td>\n",
       "      <td>0.0</td>\n",
       "      <td>110</td>\n",
       "      <td>...</td>\n",
       "      <td>10.0</td>\n",
       "      <td>2017</td>\n",
       "      <td>4</td>\n",
       "      <td>12</td>\n",
       "      <td>2017</td>\n",
       "      <td>4</td>\n",
       "      <td>10</td>\n",
       "      <td>1</td>\n",
       "      <td>0</td>\n",
       "      <td>0</td>\n",
       "    </tr>\n",
       "    <tr>\n",
       "      <th>407581</th>\n",
       "      <td>3703</td>\n",
       "      <td>0.144043</td>\n",
       "      <td>0.018631</td>\n",
       "      <td>690668565</td>\n",
       "      <td>0</td>\n",
       "      <td>2017</td>\n",
       "      <td>6</td>\n",
       "      <td>18</td>\n",
       "      <td>0.0</td>\n",
       "      <td>110</td>\n",
       "      <td>...</td>\n",
       "      <td>2.0</td>\n",
       "      <td>2017</td>\n",
       "      <td>7</td>\n",
       "      <td>5</td>\n",
       "      <td>2017</td>\n",
       "      <td>4</td>\n",
       "      <td>2</td>\n",
       "      <td>0</td>\n",
       "      <td>1</td>\n",
       "      <td>0</td>\n",
       "    </tr>\n",
       "  </tbody>\n",
       "</table>\n",
       "<p>5 rows × 23 columns</p>\n",
       "</div>"
      ],
      "text/plain": [
       "        userId  page_turn_count  view_duration  brochure_id  origin  year  \\\n",
       "201104    4207         0.034668       0.010429    703347176       1  2017   \n",
       "343106    9103         0.149292       0.051147    685524964       0  2017   \n",
       "299308     181         0.010666       0.006454    681241342       0  2017   \n",
       "279258    4271         0.042664       0.019119    656072535       0  2017   \n",
       "407581    3703         0.144043       0.018631    690668565       0  2017   \n",
       "\n",
       "        month  day  app_origin  model  ...  install_day  last_year  \\\n",
       "201104      7   30         1.0    110  ...          9.0       2017   \n",
       "343106      6    5         0.0    110  ...         16.0       2017   \n",
       "299308      5   22        -1.0     87  ...          1.0       2000   \n",
       "279258      4   10         0.0    110  ...         10.0       2017   \n",
       "407581      6   18         0.0    110  ...          2.0       2017   \n",
       "\n",
       "        last_month  last_day  first_year  first_month  first_day  \\\n",
       "201104           7        31        2017            5          9   \n",
       "343106           7         6        2017            4         16   \n",
       "299308           1         1        2000            1          1   \n",
       "279258           4        12        2017            4         10   \n",
       "407581           7         5        2017            4          2   \n",
       "\n",
       "        product_cat__com-bonial-kaufda  product_cat__de-kaufda-android  \\\n",
       "201104                               1                               0   \n",
       "343106                               1                               0   \n",
       "299308                               0                               0   \n",
       "279258                               1                               0   \n",
       "407581                               0                               1   \n",
       "\n",
       "        product_cat__de.kaufda.kaufda  \n",
       "201104                              0  \n",
       "343106                              0  \n",
       "299308                              0  \n",
       "279258                              0  \n",
       "407581                              0  \n",
       "\n",
       "[5 rows x 23 columns]"
      ]
     },
     "execution_count": 18,
     "metadata": {},
     "output_type": "execute_result"
    }
   ],
   "source": [
    "X_train.head()"
   ]
  },
  {
   "cell_type": "code",
   "execution_count": 17,
   "id": "fe5531f5-b31b-4c98-b55f-f4f5ba8563d9",
   "metadata": {
    "pycharm": {
     "name": "#%%\n"
    }
   },
   "outputs": [
    {
     "name": "stdout",
     "output_type": "stream",
     "text": [
      "Feature: 0, Score: -0.00000\n",
      "Feature: 1, Score: -0.26469\n",
      "Feature: 2, Score: 0.04708\n",
      "Feature: 3, Score: -0.00000\n",
      "Feature: 4, Score: -0.89623\n",
      "Feature: 5, Score: 0.00000\n",
      "Feature: 6, Score: -0.12517\n",
      "Feature: 7, Score: -0.00182\n",
      "Feature: 8, Score: 0.72538\n",
      "Feature: 9, Score: -0.00001\n",
      "Feature: 10, Score: 0.00007\n",
      "Feature: 11, Score: 0.21986\n",
      "Feature: 12, Score: -1.09434\n",
      "Feature: 13, Score: -0.05682\n",
      "Feature: 14, Score: -0.05418\n",
      "Feature: 15, Score: -0.64115\n",
      "Feature: 16, Score: -0.02404\n",
      "Feature: 17, Score: -0.05418\n",
      "Feature: 18, Score: 1.29040\n",
      "Feature: 19, Score: 0.06215\n",
      "Feature: 20, Score: 0.41073\n",
      "Feature: 21, Score: 0.40205\n",
      "Feature: 22, Score: -0.79984\n"
     ]
    },
    {
     "data": {
      "image/png": "[encoded data removed]",
      "text/plain": [
       "<Figure size 432x288 with 1 Axes>"
      ]
     },
     "metadata": {
      "needs_background": "light"
     },
     "output_type": "display_data"
    }
   ],
   "source": [
    "ridge_importance = clf_ridge.coef_[0]\n",
    "# summarize feature importance\n",
    "for i,v in enumerate(ridge_importance):\n",
    "    print('Feature: %0d, Score: %.5f' % (i,v))\n",
    "# plot feature importance\n",
    "plt.bar([x for x in range(len(ridge_importance))], ridge_importance)\n",
    "plt.show()"
   ]
  },
  {
   "cell_type": "code",
   "execution_count": null,
   "id": "90f0ae11-ec71-46b0-af8f-155fb16a123f",
   "metadata": {
    "pycharm": {
     "name": "#%%\n"
    }
   },
   "outputs": [],
   "source": []
  },
  {
   "cell_type": "code",
   "execution_count": 16,
   "id": "0de10dbd-05c4-496a-b3c7-892f439e7ddf",
   "metadata": {
    "pycharm": {
     "name": "#%%\n"
    }
   },
   "outputs": [],
   "source": [
    "ridge_pred_test = clf_ridge.predict(X_test)"
   ]
  },
  {
   "cell_type": "code",
   "execution_count": 17,
   "id": "140e6dce-4937-41a5-a659-87fbe752ee09",
   "metadata": {
    "pycharm": {
     "name": "#%%\n"
    }
   },
   "outputs": [
    {
     "data": {
      "text/plain": [
       "0.8597816248019914"
      ]
     },
     "execution_count": 17,
     "metadata": {},
     "output_type": "execute_result"
    }
   ],
   "source": [
    "accuracy_score(y_test, ridge_pred_test)"
   ]
  },
  {
   "cell_type": "code",
   "execution_count": 18,
   "id": "ef7c9d5f-1693-4264-8fcc-1865871f9919",
   "metadata": {
    "pycharm": {
     "name": "#%%\n"
    }
   },
   "outputs": [
    {
     "name": "stdout",
     "output_type": "stream",
     "text": [
      "              precision    recall  f1-score   support\n",
      "\n",
      "         0.0       0.91      0.80      0.85     53180\n",
      "         1.0       0.82      0.92      0.87     52876\n",
      "\n",
      "    accuracy                           0.86    106056\n",
      "   macro avg       0.87      0.86      0.86    106056\n",
      "weighted avg       0.87      0.86      0.86    106056\n",
      "\n"
     ]
    }
   ],
   "source": [
    "print(classification_report(y_test, ridge_pred_test))"
   ]
  },
  {
   "cell_type": "code",
   "execution_count": null,
   "id": "062cc36a-056d-47f7-bc8f-1d91e758d120",
   "metadata": {
    "pycharm": {
     "name": "#%%\n"
    }
   },
   "outputs": [],
   "source": []
  },
  {
   "cell_type": "markdown",
   "id": "34a9f393-4de1-49e9-bd56-4dfd0254170a",
   "metadata": {
    "pycharm": {
     "name": "#%% md\n"
    }
   },
   "source": [
    "**#RandomForestClassifier**"
   ]
  },
  {
   "cell_type": "code",
   "execution_count": 19,
   "id": "ce68c47f-a3f9-4c4a-98a3-c5f150ab1e57",
   "metadata": {
    "pycharm": {
     "name": "#%%\n"
    }
   },
   "outputs": [],
   "source": [
    "n_estimators = [700]\n",
    "max_depth = [10, 8]\n",
    "min_samples_split = [10, 5]\n",
    "min_samples_leaf = [5, 3]"
   ]
  },
  {
   "cell_type": "code",
   "execution_count": 20,
   "id": "d1fba7ca-28d2-4f7a-a21e-5bb5951b5c09",
   "metadata": {
    "pycharm": {
     "name": "#%%\n"
    }
   },
   "outputs": [],
   "source": [
    "hyper_random = {\"n_estimators\":n_estimators,\n",
    "                \"max_depth\":max_depth,\n",
    "                \"min_samples_split\":min_samples_split,\n",
    "                \"min_samples_leaf\":min_samples_leaf}"
   ]
  },
  {
   "cell_type": "code",
   "execution_count": 21,
   "id": "325b0839-bfb7-4a6e-ab66-8d57e2538425",
   "metadata": {
    "pycharm": {
     "name": "#%%\n"
    }
   },
   "outputs": [
    {
     "name": "stdout",
     "output_type": "stream",
     "text": [
      "1648883553.967665\n",
      "Fitting 5 folds for each of 8 candidates, totalling 40 fits\n",
      "\n",
      "Çalışma süresi: 00:23:45.21\n"
     ]
    }
   ],
   "source": [
    "start = time.time()\n",
    "print(start)\n",
    "clf_rf_tuned = GridSearchCV(RandomForestClassifier(), hyper_random, \n",
    "                            cv = 5, verbose = 1, \n",
    "                            n_jobs = -1)\n",
    "clf_rf_tuned.fit(X_train, y_train)\n",
    "\n",
    "end = time.time()\n",
    "hours, rem = divmod(end-start, 3600)\n",
    "minutes, seconds = divmod(rem, 60)\n",
    "print(\"\\nÇalışma süresi: \"+\"{:0>2}:{:0>2}:{:05.2f}\".format(int(hours),int(minutes),seconds))\n"
   ]
  },
  {
   "cell_type": "code",
   "execution_count": 22,
   "id": "f349089a-eed6-49dc-9da8-66cf49922944",
   "metadata": {
    "pycharm": {
     "name": "#%%\n"
    }
   },
   "outputs": [
    {
     "name": "stdout",
     "output_type": "stream",
     "text": [
      "{'max_depth': 10, 'min_samples_leaf': 3, 'min_samples_split': 5, 'n_estimators': 700}\n"
     ]
    }
   ],
   "source": [
    "best_params_random = clf_rf_tuned.best_params_\n",
    "print(best_params_random)"
   ]
  },
  {
   "cell_type": "code",
   "execution_count": 23,
   "id": "39abd4a7-897d-453c-9177-c708ffcedd08",
   "metadata": {
    "pycharm": {
     "name": "#%%\n"
    }
   },
   "outputs": [],
   "source": [
    "CV_clf_rf = RandomForestClassifier(max_depth=best_params_random[\"max_depth\"],\n",
    "                                   min_samples_leaf=best_params_random[\"min_samples_leaf\"],\n",
    "                                   min_samples_split=best_params_random[\"min_samples_split\"],\n",
    "                                   n_estimators= best_params_random[\"n_estimators\"])"
   ]
  },
  {
   "cell_type": "code",
   "execution_count": 24,
   "id": "71ff80b4-7d75-427c-b3d1-d1df62267d68",
   "metadata": {
    "pycharm": {
     "name": "#%%\n"
    }
   },
   "outputs": [],
   "source": [
    "CV_clf_rf.fit(X_train, y_train)\n",
    "y_test_predict_random = CV_clf_rf.predict_proba(X_test)[:, 1]\n",
    "yhat_random = CV_clf_rf.predict(X_test)\n",
    "fraction_of_positives, mean_predicted_value = calibration_curve(y_test, y_test_predict_random, n_bins=10)"
   ]
  },
  {
   "cell_type": "code",
   "execution_count": 25,
   "id": "421cb386-5015-4d90-b3ff-d70427b0035b",
   "metadata": {
    "pycharm": {
     "name": "#%%\n"
    }
   },
   "outputs": [
    {
     "name": "stdout",
     "output_type": "stream",
     "text": [
      "              precision    recall  f1-score   support\n",
      "\n",
      "         0.0       0.92      0.88      0.90     53180\n",
      "         1.0       0.89      0.93      0.91     52876\n",
      "\n",
      "    accuracy                           0.90    106056\n",
      "   macro avg       0.91      0.90      0.90    106056\n",
      "weighted avg       0.91      0.90      0.90    106056\n",
      "\n"
     ]
    }
   ],
   "source": [
    "print(classification_report(y_test, yhat_random))"
   ]
  },
  {
   "cell_type": "code",
   "execution_count": null,
   "id": "2db26d84-8a73-43b4-bf3b-38cd8f5f8c39",
   "metadata": {
    "pycharm": {
     "name": "#%%\n"
    }
   },
   "outputs": [],
   "source": []
  },
  {
   "cell_type": "code",
   "execution_count": 26,
   "id": "cc8e6bdd-463c-4c38-b534-c292f8b1cef4",
   "metadata": {
    "pycharm": {
     "name": "#%%\n"
    }
   },
   "outputs": [],
   "source": [
    "final_df = pd.DataFrame()\n"
   ]
  },
  {
   "cell_type": "code",
   "execution_count": 27,
   "id": "2bdd559b-c042-4b0c-8042-c70646e2bf91",
   "metadata": {
    "pycharm": {
     "name": "#%%\n"
    }
   },
   "outputs": [
    {
     "data": {
      "text/plain": [
       "(106056, 3)"
      ]
     },
     "execution_count": 27,
     "metadata": {},
     "output_type": "execute_result"
    }
   ],
   "source": [
    "final_df['userId'] = X_test.userId\n",
    "final_df['Actual_Churn'] = y_test\n",
    "final_df['Random_Forest_Probability'] = y_test_predict_random\n",
    "final_df.shape"
   ]
  },
  {
   "cell_type": "markdown",
   "id": "87913a6d-464c-4c67-a0e8-5ee6edbd5ec6",
   "metadata": {
    "pycharm": {
     "name": "#%% md\n"
    }
   },
   "source": [
    "**#CalibratedClassifierCV**"
   ]
  },
  {
   "cell_type": "code",
   "execution_count": 28,
   "id": "fc50446e-c45b-434a-8e63-71c24ad10083",
   "metadata": {
    "pycharm": {
     "name": "#%%\n"
    }
   },
   "outputs": [
    {
     "name": "stdout",
     "output_type": "stream",
     "text": [
      "\n",
      "Çalışma süresi: 00:26:25.61\n"
     ]
    }
   ],
   "source": [
    "start = time.time()\n",
    "\n",
    "# Create a corrected classifier.\n",
    "\n",
    "clf_sigmoid = CalibratedClassifierCV(CV_clf_rf, cv=10, method='sigmoid')\n",
    "clf_sigmoid.fit(X_train, y_train)\n",
    "y_test_predict_random_calibrated = clf_sigmoid.predict_proba(X_test)[:, 1]\n",
    "yhat_calibrated_random = clf_sigmoid.predict(X_test)\n",
    "fraction_of_positives, mean_predicted_value = calibration_curve(y_test, y_test_predict_random_calibrated, n_bins=10)\n",
    "\n",
    "\n",
    "end = time.time()\n",
    "hours, rem = divmod(end-start, 3600)\n",
    "minutes, seconds = divmod(rem, 60)\n",
    "print(\"\\nÇalışma süresi: \"+\"{:0>2}:{:0>2}:{:05.2f}\".format(int(hours),int(minutes),seconds))"
   ]
  },
  {
   "cell_type": "code",
   "execution_count": 29,
   "id": "5b29cef6-fdb2-4a7f-afa8-fdbaa69f732d",
   "metadata": {
    "pycharm": {
     "name": "#%%\n"
    }
   },
   "outputs": [
    {
     "name": "stdout",
     "output_type": "stream",
     "text": [
      "              precision    recall  f1-score   support\n",
      "\n",
      "         0.0       0.92      0.88      0.90     53180\n",
      "         1.0       0.89      0.92      0.91     52876\n",
      "\n",
      "    accuracy                           0.90    106056\n",
      "   macro avg       0.90      0.90      0.90    106056\n",
      "weighted avg       0.90      0.90      0.90    106056\n",
      "\n"
     ]
    }
   ],
   "source": [
    "print(classification_report(y_test, yhat_calibrated_random))"
   ]
  },
  {
   "cell_type": "code",
   "execution_count": 30,
   "id": "4f434c57-62f9-4bf3-ba0b-90e84e8cde68",
   "metadata": {
    "pycharm": {
     "name": "#%%\n"
    }
   },
   "outputs": [
    {
     "data": {
      "text/plain": [
       "(106056, 4)"
      ]
     },
     "execution_count": 30,
     "metadata": {},
     "output_type": "execute_result"
    }
   ],
   "source": [
    "final_df['Calibrated_Random_Forest_Probability'] = y_test_predict_random_calibrated\n",
    "final_df.shape"
   ]
  },
  {
   "cell_type": "code",
   "execution_count": null,
   "id": "7e9a5ee8-2da2-4810-9489-4a3f86d2e86f",
   "metadata": {
    "pycharm": {
     "name": "#%%\n"
    }
   },
   "outputs": [],
   "source": []
  },
  {
   "cell_type": "code",
   "execution_count": 31,
   "id": "5644af01-67a8-4e11-906b-b75cdfd7176a",
   "metadata": {
    "pycharm": {
     "name": "#%%\n"
    }
   },
   "outputs": [
    {
     "name": "stdout",
     "output_type": "stream",
     "text": [
      "              precision    recall  f1-score   support\n",
      "\n",
      "         0.0       0.91      0.80      0.85     53180\n",
      "         1.0       0.82      0.92      0.87     52876\n",
      "\n",
      "    accuracy                           0.86    106056\n",
      "   macro avg       0.87      0.86      0.86    106056\n",
      "weighted avg       0.87      0.86      0.86    106056\n",
      "\n"
     ]
    }
   ],
   "source": [
    "print(classification_report(y_test, ridge_pred_test))"
   ]
  },
  {
   "cell_type": "code",
   "execution_count": 32,
   "id": "c4de5e42-c1c3-4c63-a4d9-c1734bdec61b",
   "metadata": {
    "pycharm": {
     "name": "#%%\n"
    }
   },
   "outputs": [
    {
     "name": "stdout",
     "output_type": "stream",
     "text": [
      "              precision    recall  f1-score   support\n",
      "\n",
      "         0.0       0.92      0.88      0.90     53180\n",
      "         1.0       0.89      0.93      0.91     52876\n",
      "\n",
      "    accuracy                           0.90    106056\n",
      "   macro avg       0.91      0.90      0.90    106056\n",
      "weighted avg       0.91      0.90      0.90    106056\n",
      "\n"
     ]
    }
   ],
   "source": [
    "print(classification_report(y_test, yhat_random))"
   ]
  },
  {
   "cell_type": "code",
   "execution_count": 33,
   "id": "9bd0d506-ae8b-40a7-94b8-d5264a926a27",
   "metadata": {
    "pycharm": {
     "name": "#%%\n"
    }
   },
   "outputs": [
    {
     "name": "stdout",
     "output_type": "stream",
     "text": [
      "              precision    recall  f1-score   support\n",
      "\n",
      "         0.0       0.92      0.88      0.90     53180\n",
      "         1.0       0.89      0.92      0.91     52876\n",
      "\n",
      "    accuracy                           0.90    106056\n",
      "   macro avg       0.90      0.90      0.90    106056\n",
      "weighted avg       0.90      0.90      0.90    106056\n",
      "\n"
     ]
    }
   ],
   "source": [
    "print(classification_report(y_test, yhat_calibrated_random))"
   ]
  },
  {
   "cell_type": "code",
   "execution_count": null,
   "id": "e3e46550-2b9f-43c0-a6d6-9b6dadcb70ef",
   "metadata": {
    "pycharm": {
     "name": "#%%\n"
    }
   },
   "outputs": [],
   "source": []
  },
  {
   "cell_type": "markdown",
   "id": "3f5c50d0-ea70-4f8f-a652-6bcd26e5a682",
   "metadata": {
    "pycharm": {
     "name": "#%% md\n"
    }
   },
   "source": [
    "**#GaussianNaiveBias**"
   ]
  },
  {
   "cell_type": "code",
   "execution_count": 34,
   "id": "c6e44f33-4385-4ca0-b3c5-c9868ac75652",
   "metadata": {
    "pycharm": {
     "name": "#%%\n"
    }
   },
   "outputs": [
    {
     "name": "stdout",
     "output_type": "stream",
     "text": [
      "\n",
      "Çalışma süresi: 00:00:08.10\n"
     ]
    }
   ],
   "source": [
    "start = time.time()\n",
    "# Uncalibrated\n",
    "clf_nb = GaussianNB()\n",
    "clf_nb.fit(X_train, y_train)\n",
    "y_test_predict_nb = clf_nb.predict_proba(X_test)[:, 1]\n",
    "yhat_nb = clf_nb.predict(X_test)\n",
    "fraction_of_positives_nb, mean_predicted_value_nb = calibration_curve(y_test, y_test_predict_nb, n_bins=10)\n",
    "\n",
    "#plt.plot(mean_predicted_value_nb, fraction_of_positives_nb, 's-', label='Uncalibrated')\n",
    "\n",
    "# Calibrated\n",
    "clf_sigmoid_nb = CalibratedClassifierCV(clf_nb, cv=10, method='isotonic')\n",
    "clf_sigmoid_nb.fit(X_train, y_train)\n",
    "y_test_predict_nb_calib = clf_sigmoid_nb.predict_proba(X_test)[:, 1]\n",
    "yhat_calibrated_nb = clf_sigmoid_nb.predict(X_test)\n",
    "fraction_of_positives_nb_calib, mean_predicted_value_nb_calib = calibration_curve(y_test, y_test_predict_nb_calib, n_bins=10)\n",
    "\n",
    "#plt.plot(mean_predicted_value_nb_calib, fraction_of_positives_nb_calib, 's-', color='red', label='Calibrated (Isotonic)')\n",
    "\n",
    "# Calibrated, Platt\n",
    "clf_sigmoid_nb_calib_sig = CalibratedClassifierCV(clf_nb, cv=10, method='sigmoid')\n",
    "clf_sigmoid_nb_calib_sig.fit(X_train, y_train)\n",
    "\n",
    "y_test_predict_nb_calib_platt = clf_sigmoid_nb_calib_sig.predict_proba(X_test)[:, 1]\n",
    "yhat_calibrated_platt = clf_sigmoid_nb_calib_sig.predict(X_test)\n",
    "\n",
    "fraction_of_positives_nb_calib_platt, mean_predicted_value_nb_calib_platt = calibration_curve(y_test, y_test_predict_nb_calib_platt, n_bins=10)\n",
    "#plt.plot(mean_predicted_value_nb_calib_platt, fraction_of_positives_nb_calib_platt, 's-', color='orange', label='Calibrated (Platt)')\n",
    "\n",
    "end = time.time()\n",
    "hours, rem = divmod(end-start, 3600)\n",
    "minutes, seconds = divmod(rem, 60)\n",
    "print(\"\\nÇalışma süresi: \"+\"{:0>2}:{:0>2}:{:05.2f}\".format(int(hours),int(minutes),seconds))"
   ]
  },
  {
   "cell_type": "code",
   "execution_count": 35,
   "id": "c0f3ad9a-37f4-4e67-83bd-631864148469",
   "metadata": {
    "pycharm": {
     "name": "#%%\n"
    }
   },
   "outputs": [
    {
     "name": "stdout",
     "output_type": "stream",
     "text": [
      "              precision    recall  f1-score   support\n",
      "\n",
      "         0.0       0.72      0.62      0.66     53180\n",
      "         1.0       0.66      0.76      0.71     52876\n",
      "\n",
      "    accuracy                           0.69    106056\n",
      "   macro avg       0.69      0.69      0.69    106056\n",
      "weighted avg       0.69      0.69      0.69    106056\n",
      "\n"
     ]
    }
   ],
   "source": [
    "print(classification_report(y_test, yhat_nb))"
   ]
  },
  {
   "cell_type": "code",
   "execution_count": 36,
   "id": "136ef5d3-4d95-4455-86d3-6d8fd3a44e30",
   "metadata": {
    "pycharm": {
     "name": "#%%\n"
    }
   },
   "outputs": [
    {
     "name": "stdout",
     "output_type": "stream",
     "text": [
      "              precision    recall  f1-score   support\n",
      "\n",
      "         0.0       0.78      0.54      0.64     53180\n",
      "         1.0       0.65      0.85      0.73     52876\n",
      "\n",
      "    accuracy                           0.69    106056\n",
      "   macro avg       0.71      0.69      0.68    106056\n",
      "weighted avg       0.71      0.69      0.68    106056\n",
      "\n"
     ]
    }
   ],
   "source": [
    "print(classification_report(y_test, yhat_calibrated_nb))\n"
   ]
  },
  {
   "cell_type": "code",
   "execution_count": 37,
   "id": "adeedb9c-b94c-465a-8c93-8d0664377d57",
   "metadata": {
    "pycharm": {
     "name": "#%%\n"
    }
   },
   "outputs": [
    {
     "name": "stdout",
     "output_type": "stream",
     "text": [
      "              precision    recall  f1-score   support\n",
      "\n",
      "         0.0       0.71      0.63      0.67     53180\n",
      "         1.0       0.67      0.74      0.70     52876\n",
      "\n",
      "    accuracy                           0.68    106056\n",
      "   macro avg       0.69      0.68      0.68    106056\n",
      "weighted avg       0.69      0.68      0.68    106056\n",
      "\n"
     ]
    }
   ],
   "source": [
    "print(classification_report(y_test, yhat_calibrated_platt))"
   ]
  },
  {
   "cell_type": "code",
   "execution_count": 38,
   "id": "48294a89-cb08-4125-8490-01a93b609cb4",
   "metadata": {
    "pycharm": {
     "name": "#%%\n"
    }
   },
   "outputs": [
    {
     "data": {
      "text/plain": [
       "(106056, 7)"
      ]
     },
     "execution_count": 38,
     "metadata": {},
     "output_type": "execute_result"
    }
   ],
   "source": [
    "final_df['Naive_Bias_Probability'] = y_test_predict_nb\n",
    "final_df['Isotonic_Calibrated_Naive_Bias_Probability'] = y_test_predict_nb_calib\n",
    "final_df['Sigmoid_Calibrated_Naive_Bias_Probability'] = y_test_predict_nb_calib_platt\n",
    "\n",
    "final_df.shape"
   ]
  },
  {
   "cell_type": "code",
   "execution_count": 39,
   "id": "c36728c2-ad24-490a-882a-00321d984e6f",
   "metadata": {
    "pycharm": {
     "name": "#%%\n"
    }
   },
   "outputs": [
    {
     "data": {
      "text/html": [
       "<div>\n",
       "<style scoped>\n",
       "    .dataframe tbody tr th:only-of-type {\n",
       "        vertical-align: middle;\n",
       "    }\n",
       "\n",
       "    .dataframe tbody tr th {\n",
       "        vertical-align: top;\n",
       "    }\n",
       "\n",
       "    .dataframe thead th {\n",
       "        text-align: right;\n",
       "    }\n",
       "</style>\n",
       "<table border=\"1\" class=\"dataframe\">\n",
       "  <thead>\n",
       "    <tr style=\"text-align: right;\">\n",
       "      <th></th>\n",
       "      <th>userId</th>\n",
       "      <th>Actual_Churn</th>\n",
       "      <th>Random_Forest_Probability</th>\n",
       "      <th>Calibrated_Random_Forest_Probability</th>\n",
       "      <th>Naive_Bias_Probability</th>\n",
       "      <th>Isotonic_Calibrated_Naive_Bias_Probability</th>\n",
       "      <th>Sigmoid_Calibrated_Naive_Bias_Probability</th>\n",
       "    </tr>\n",
       "  </thead>\n",
       "  <tbody>\n",
       "    <tr>\n",
       "      <th>427517</th>\n",
       "      <td>6552</td>\n",
       "      <td>1.0</td>\n",
       "      <td>0.379130</td>\n",
       "      <td>0.247146</td>\n",
       "      <td>0.648125</td>\n",
       "      <td>0.684556</td>\n",
       "      <td>0.741489</td>\n",
       "    </tr>\n",
       "    <tr>\n",
       "      <th>10486</th>\n",
       "      <td>6343</td>\n",
       "      <td>0.0</td>\n",
       "      <td>0.137587</td>\n",
       "      <td>0.033723</td>\n",
       "      <td>0.590879</td>\n",
       "      <td>0.680801</td>\n",
       "      <td>0.652669</td>\n",
       "    </tr>\n",
       "    <tr>\n",
       "      <th>293093</th>\n",
       "      <td>3559</td>\n",
       "      <td>1.0</td>\n",
       "      <td>0.915144</td>\n",
       "      <td>0.971234</td>\n",
       "      <td>0.381928</td>\n",
       "      <td>0.323934</td>\n",
       "      <td>0.286382</td>\n",
       "    </tr>\n",
       "    <tr>\n",
       "      <th>488448</th>\n",
       "      <td>8917</td>\n",
       "      <td>1.0</td>\n",
       "      <td>0.909400</td>\n",
       "      <td>0.970192</td>\n",
       "      <td>0.516978</td>\n",
       "      <td>0.598095</td>\n",
       "      <td>0.521183</td>\n",
       "    </tr>\n",
       "    <tr>\n",
       "      <th>26533</th>\n",
       "      <td>3465</td>\n",
       "      <td>0.0</td>\n",
       "      <td>0.042955</td>\n",
       "      <td>0.015609</td>\n",
       "      <td>0.626129</td>\n",
       "      <td>0.684556</td>\n",
       "      <td>0.709142</td>\n",
       "    </tr>\n",
       "  </tbody>\n",
       "</table>\n",
       "</div>"
      ],
      "text/plain": [
       "        userId  Actual_Churn  Random_Forest_Probability  \\\n",
       "427517    6552           1.0                   0.379130   \n",
       "10486     6343           0.0                   0.137587   \n",
       "293093    3559           1.0                   0.915144   \n",
       "488448    8917           1.0                   0.909400   \n",
       "26533     3465           0.0                   0.042955   \n",
       "\n",
       "        Calibrated_Random_Forest_Probability  Naive_Bias_Probability  \\\n",
       "427517                              0.247146                0.648125   \n",
       "10486                               0.033723                0.590879   \n",
       "293093                              0.971234                0.381928   \n",
       "488448                              0.970192                0.516978   \n",
       "26533                               0.015609                0.626129   \n",
       "\n",
       "        Isotonic_Calibrated_Naive_Bias_Probability  \\\n",
       "427517                                    0.684556   \n",
       "10486                                     0.680801   \n",
       "293093                                    0.323934   \n",
       "488448                                    0.598095   \n",
       "26533                                     0.684556   \n",
       "\n",
       "        Sigmoid_Calibrated_Naive_Bias_Probability  \n",
       "427517                                   0.741489  \n",
       "10486                                    0.652669  \n",
       "293093                                   0.286382  \n",
       "488448                                   0.521183  \n",
       "26533                                    0.709142  "
      ]
     },
     "execution_count": 39,
     "metadata": {},
     "output_type": "execute_result"
    }
   ],
   "source": [
    "final_df.head()"
   ]
  },
  {
   "cell_type": "markdown",
   "id": "e538fb86-68e6-4682-be86-50d368df3f65",
   "metadata": {
    "pycharm": {
     "name": "#%% md\n"
    }
   },
   "source": [
    "**#Train Results**\n"
   ]
  },
  {
   "cell_type": "code",
   "execution_count": 40,
   "id": "946b8b2e-863e-4eb0-86e0-7cb2ac623e03",
   "metadata": {
    "pycharm": {
     "name": "#%%\n"
    }
   },
   "outputs": [],
   "source": [
    "# Random Forest\n",
    "y_predict_train = CV_clf_rf.predict_proba(X_train)[:, 1]\n",
    "yhat_predict_train = CV_clf_rf.predict(X_train)\n",
    "\n",
    "# Calibrated Random Forest\n",
    "y_predict_crf_train = clf_sigmoid.predict_proba(X_train)[:, 1]\n",
    "yhat_predict_crf_train = clf_sigmoid.predict(X_train)\n",
    "\n",
    "#NB\n",
    "\n",
    "y_predict_nb_train = clf_nb.predict_proba(X_train)[:, 1]\n",
    "yhat_predict_nb_train = clf_nb.predict(X_train)\n",
    "\n",
    "# Isotonic\n",
    "y_predict_nb_isotonic_train = clf_sigmoid_nb.predict_proba(X_train)[:, 1]\n",
    "yhat_predict_isotonic_train = clf_sigmoid_nb.predict(X_train)\n",
    "\n",
    "# Sigmoid\n",
    "y_predict_nb_sigmoid_train = clf_sigmoid_nb_calib_sig.predict_proba(X_train)[:, 1]\n",
    "yhat_predict_sigmoid_train = clf_sigmoid_nb_calib_sig.predict(X_train)"
   ]
  },
  {
   "cell_type": "code",
   "execution_count": 104,
   "id": "193ae7cd-b8e6-4501-961c-d0623216fce1",
   "metadata": {
    "pycharm": {
     "name": "#%%\n"
    }
   },
   "outputs": [
    {
     "data": {
      "text/plain": [
       "(424222, 7)"
      ]
     },
     "execution_count": 104,
     "metadata": {},
     "output_type": "execute_result"
    }
   ],
   "source": [
    "final_train_df = pd.DataFrame()\n",
    "final_train_df['userId'] = X_train.userId\n",
    "final_train_df['Actual_Churn'] = y_train\n",
    "\n",
    "final_train_df['Random_Forest_Probability'] = y_predict_train\n",
    "final_train_df['Calibrated_Random_Forest_Probability'] = y_predict_crf_train\n",
    "final_train_df['Naive_Bias_Probability'] = y_predict_nb_train\n",
    "final_train_df['Isotonic_Calibrated_Naive_Bias_Probability'] = y_predict_nb_isotonic_train\n",
    "final_train_df['Sigmoid_Calibrated_Naive_Bias_Probability'] = y_predict_nb_sigmoid_train\n",
    "final_train_df.shape"
   ]
  },
  {
   "cell_type": "code",
   "execution_count": 105,
   "id": "2907e8b7-5cd3-4bd7-b1ee-6ae365bdbcf4",
   "metadata": {
    "pycharm": {
     "name": "#%%\n"
    }
   },
   "outputs": [
    {
     "data": {
      "text/plain": [
       "530278"
      ]
     },
     "execution_count": 105,
     "metadata": {},
     "output_type": "execute_result"
    }
   ],
   "source": [
    "final_df.shape[0] + final_train_df.shape[0]"
   ]
  },
  {
   "cell_type": "code",
   "execution_count": 106,
   "id": "9ef6dcd3-542d-4857-9325-d06e200ed983",
   "metadata": {
    "pycharm": {
     "name": "#%%\n"
    }
   },
   "outputs": [
    {
     "data": {
      "text/plain": [
       "(530278, 7)"
      ]
     },
     "execution_count": 106,
     "metadata": {},
     "output_type": "execute_result"
    }
   ],
   "source": [
    "churn_df = final_df.append(final_train_df, ignore_index=True)\n",
    "churn_df.shape"
   ]
  },
  {
   "cell_type": "code",
   "execution_count": 108,
   "id": "747f1477-a449-452f-89e7-60f86ff23f1f",
   "metadata": {
    "pycharm": {
     "name": "#%%\n"
    }
   },
   "outputs": [
    {
     "data": {
      "text/html": [
       "<div>\n",
       "<style scoped>\n",
       "    .dataframe tbody tr th:only-of-type {\n",
       "        vertical-align: middle;\n",
       "    }\n",
       "\n",
       "    .dataframe tbody tr th {\n",
       "        vertical-align: top;\n",
       "    }\n",
       "\n",
       "    .dataframe thead th {\n",
       "        text-align: right;\n",
       "    }\n",
       "</style>\n",
       "<table border=\"1\" class=\"dataframe\">\n",
       "  <thead>\n",
       "    <tr style=\"text-align: right;\">\n",
       "      <th></th>\n",
       "      <th>userId</th>\n",
       "      <th>Actual_Churn</th>\n",
       "      <th>Random_Forest_Probability</th>\n",
       "      <th>Calibrated_Random_Forest_Probability</th>\n",
       "      <th>Naive_Bias_Probability</th>\n",
       "      <th>Isotonic_Calibrated_Naive_Bias_Probability</th>\n",
       "      <th>Sigmoid_Calibrated_Naive_Bias_Probability</th>\n",
       "    </tr>\n",
       "  </thead>\n",
       "  <tbody>\n",
       "    <tr>\n",
       "      <th>0</th>\n",
       "      <td>985f1fc3-bce0-471e-b7b8-d518de876c26</td>\n",
       "      <td>1.0</td>\n",
       "      <td>0.379130</td>\n",
       "      <td>0.247146</td>\n",
       "      <td>0.648125</td>\n",
       "      <td>0.684556</td>\n",
       "      <td>0.741489</td>\n",
       "    </tr>\n",
       "    <tr>\n",
       "      <th>1</th>\n",
       "      <td>9310554d-f01a-4e7d-bffb-00808e1beb3a</td>\n",
       "      <td>0.0</td>\n",
       "      <td>0.137587</td>\n",
       "      <td>0.033723</td>\n",
       "      <td>0.590879</td>\n",
       "      <td>0.680801</td>\n",
       "      <td>0.652669</td>\n",
       "    </tr>\n",
       "    <tr>\n",
       "      <th>2</th>\n",
       "      <td>517721da-4043-4ec7-9805-581173ac6113</td>\n",
       "      <td>1.0</td>\n",
       "      <td>0.915144</td>\n",
       "      <td>0.971234</td>\n",
       "      <td>0.381928</td>\n",
       "      <td>0.323934</td>\n",
       "      <td>0.286382</td>\n",
       "    </tr>\n",
       "    <tr>\n",
       "      <th>3</th>\n",
       "      <td>c02a56c0-200e-4dae-9add-cae2a779682c</td>\n",
       "      <td>1.0</td>\n",
       "      <td>0.909400</td>\n",
       "      <td>0.970192</td>\n",
       "      <td>0.516978</td>\n",
       "      <td>0.598095</td>\n",
       "      <td>0.521183</td>\n",
       "    </tr>\n",
       "    <tr>\n",
       "      <th>4</th>\n",
       "      <td>4f1f7cf8-bfe3-4fea-b176-0cf8dfd80591</td>\n",
       "      <td>0.0</td>\n",
       "      <td>0.042955</td>\n",
       "      <td>0.015609</td>\n",
       "      <td>0.626129</td>\n",
       "      <td>0.684556</td>\n",
       "      <td>0.709142</td>\n",
       "    </tr>\n",
       "  </tbody>\n",
       "</table>\n",
       "</div>"
      ],
      "text/plain": [
       "                                 userId  Actual_Churn  \\\n",
       "0  985f1fc3-bce0-471e-b7b8-d518de876c26           1.0   \n",
       "1  9310554d-f01a-4e7d-bffb-00808e1beb3a           0.0   \n",
       "2  517721da-4043-4ec7-9805-581173ac6113           1.0   \n",
       "3  c02a56c0-200e-4dae-9add-cae2a779682c           1.0   \n",
       "4  4f1f7cf8-bfe3-4fea-b176-0cf8dfd80591           0.0   \n",
       "\n",
       "   Random_Forest_Probability  Calibrated_Random_Forest_Probability  \\\n",
       "0                   0.379130                              0.247146   \n",
       "1                   0.137587                              0.033723   \n",
       "2                   0.915144                              0.971234   \n",
       "3                   0.909400                              0.970192   \n",
       "4                   0.042955                              0.015609   \n",
       "\n",
       "   Naive_Bias_Probability  Isotonic_Calibrated_Naive_Bias_Probability  \\\n",
       "0                0.648125                                    0.684556   \n",
       "1                0.590879                                    0.680801   \n",
       "2                0.381928                                    0.323934   \n",
       "3                0.516978                                    0.598095   \n",
       "4                0.626129                                    0.684556   \n",
       "\n",
       "   Sigmoid_Calibrated_Naive_Bias_Probability  \n",
       "0                                   0.741489  \n",
       "1                                   0.652669  \n",
       "2                                   0.286382  \n",
       "3                                   0.521183  \n",
       "4                                   0.709142  "
      ]
     },
     "execution_count": 108,
     "metadata": {},
     "output_type": "execute_result"
    }
   ],
   "source": [
    "churn_df['userId'] = labelencoder.inverse_transform(churn_df['userId'])\n",
    "churn_df.head()"
   ]
  },
  {
   "cell_type": "code",
   "execution_count": 109,
   "id": "7033acb5-e400-4a46-ad74-4584b6fa8b06",
   "metadata": {
    "pycharm": {
     "name": "#%%\n"
    }
   },
   "outputs": [],
   "source": [
    "def calc_churn_score(final_df):\n",
    "    final_df['Churn_Score'] = (final_df['Random_Forest_Probability']*0.90) + (final_df['Calibrated_Random_Forest_Probability']*0.90) + (final_df['Naive_Bias_Probability']*0.69) + (final_df['Isotonic_Calibrated_Naive_Bias_Probability']*0.69) + (final_df['Sigmoid_Calibrated_Naive_Bias_Probability']*0.68)\n",
    "    \n",
    "    def NormalizeData(data):\n",
    "        return (data - np.min(data)) / (np.max(data) - np.min(data))\n",
    "    \n",
    "    final_df['Churn_Score'] = NormalizeData(final_df['Churn_Score'])\n",
    "    return final_df"
   ]
  },
  {
   "cell_type": "code",
   "execution_count": 110,
   "id": "f5cadde5-b351-491a-ad01-3701ad2196d3",
   "metadata": {
    "pycharm": {
     "name": "#%%\n"
    }
   },
   "outputs": [],
   "source": [
    "churn_df2 = churn_df.groupby(['userId', 'Actual_Churn'], as_index=False)['Random_Forest_Probability', 'Calibrated_Random_Forest_Probability', 'Naive_Bias_Probability', 'Isotonic_Calibrated_Naive_Bias_Probability', 'Sigmoid_Calibrated_Naive_Bias_Probability'].mean()\n",
    "\n",
    "#rf_list = churn_df.groupby(['userId', 'Actual_Churn'])['Random_Forest_Probability'].mean()\n",
    "#crf_list = churn_df.groupby(['userId', 'Actual_Churn'])['Calibrated_Random_Forest_Probability'].mean()\n",
    "#nb_list = churn_df.groupby(['userId', 'Actual_Churn'])['Naive_Bias_Probability'].mean()\n",
    "#inb_list = churn_df.groupby(['userId', 'Actual_Churn'])['Isotonic_Calibrated_Naive_Bias_Probability'].mean()\n",
    "#snb_list = churn_df.groupby(['userId', 'Actual_Churn'])['Sigmoid_Calibrated_Naive_Bias_Probability'].mean()"
   ]
  },
  {
   "cell_type": "code",
   "execution_count": 112,
   "id": "f80f54c0-18a0-4774-b226-49d722c77454",
   "metadata": {
    "pycharm": {
     "name": "#%%\n"
    }
   },
   "outputs": [
    {
     "data": {
      "text/html": [
       "<div>\n",
       "<style scoped>\n",
       "    .dataframe tbody tr th:only-of-type {\n",
       "        vertical-align: middle;\n",
       "    }\n",
       "\n",
       "    .dataframe tbody tr th {\n",
       "        vertical-align: top;\n",
       "    }\n",
       "\n",
       "    .dataframe thead th {\n",
       "        text-align: right;\n",
       "    }\n",
       "</style>\n",
       "<table border=\"1\" class=\"dataframe\">\n",
       "  <thead>\n",
       "    <tr style=\"text-align: right;\">\n",
       "      <th></th>\n",
       "      <th>userId</th>\n",
       "      <th>Actual_Churn</th>\n",
       "      <th>Random_Forest_Probability</th>\n",
       "      <th>Calibrated_Random_Forest_Probability</th>\n",
       "      <th>Naive_Bias_Probability</th>\n",
       "      <th>Isotonic_Calibrated_Naive_Bias_Probability</th>\n",
       "      <th>Sigmoid_Calibrated_Naive_Bias_Probability</th>\n",
       "    </tr>\n",
       "  </thead>\n",
       "  <tbody>\n",
       "    <tr>\n",
       "      <th>0</th>\n",
       "      <td>0002C218-D30F-402E-AE08-1280AD4FB669</td>\n",
       "      <td>1.0</td>\n",
       "      <td>0.731484</td>\n",
       "      <td>0.874370</td>\n",
       "      <td>0.584981</td>\n",
       "      <td>0.649804</td>\n",
       "      <td>0.658299</td>\n",
       "    </tr>\n",
       "    <tr>\n",
       "      <th>1</th>\n",
       "      <td>00095350-9e64-4b34-9112-b9869703248b</td>\n",
       "      <td>1.0</td>\n",
       "      <td>0.974088</td>\n",
       "      <td>0.983857</td>\n",
       "      <td>0.646214</td>\n",
       "      <td>0.684556</td>\n",
       "      <td>0.738415</td>\n",
       "    </tr>\n",
       "    <tr>\n",
       "      <th>2</th>\n",
       "      <td>00095653-80f8-4fba-93d9-44ae70bb6263</td>\n",
       "      <td>1.0</td>\n",
       "      <td>0.939572</td>\n",
       "      <td>0.978172</td>\n",
       "      <td>0.430832</td>\n",
       "      <td>0.398299</td>\n",
       "      <td>0.370653</td>\n",
       "    </tr>\n",
       "    <tr>\n",
       "      <th>3</th>\n",
       "      <td>0010E3BE-81BD-48A3-8282-8C8D0B1F9629</td>\n",
       "      <td>0.0</td>\n",
       "      <td>0.355808</td>\n",
       "      <td>0.306935</td>\n",
       "      <td>0.468026</td>\n",
       "      <td>0.454924</td>\n",
       "      <td>0.452065</td>\n",
       "    </tr>\n",
       "    <tr>\n",
       "      <th>4</th>\n",
       "      <td>0015a4a8-99f1-4119-9e10-0ac9773ae48a</td>\n",
       "      <td>1.0</td>\n",
       "      <td>0.977035</td>\n",
       "      <td>0.983986</td>\n",
       "      <td>0.555581</td>\n",
       "      <td>0.650397</td>\n",
       "      <td>0.591459</td>\n",
       "    </tr>\n",
       "  </tbody>\n",
       "</table>\n",
       "</div>"
      ],
      "text/plain": [
       "                                 userId  Actual_Churn  \\\n",
       "0  0002C218-D30F-402E-AE08-1280AD4FB669           1.0   \n",
       "1  00095350-9e64-4b34-9112-b9869703248b           1.0   \n",
       "2  00095653-80f8-4fba-93d9-44ae70bb6263           1.0   \n",
       "3  0010E3BE-81BD-48A3-8282-8C8D0B1F9629           0.0   \n",
       "4  0015a4a8-99f1-4119-9e10-0ac9773ae48a           1.0   \n",
       "\n",
       "   Random_Forest_Probability  Calibrated_Random_Forest_Probability  \\\n",
       "0                   0.731484                              0.874370   \n",
       "1                   0.974088                              0.983857   \n",
       "2                   0.939572                              0.978172   \n",
       "3                   0.355808                              0.306935   \n",
       "4                   0.977035                              0.983986   \n",
       "\n",
       "   Naive_Bias_Probability  Isotonic_Calibrated_Naive_Bias_Probability  \\\n",
       "0                0.584981                                    0.649804   \n",
       "1                0.646214                                    0.684556   \n",
       "2                0.430832                                    0.398299   \n",
       "3                0.468026                                    0.454924   \n",
       "4                0.555581                                    0.650397   \n",
       "\n",
       "   Sigmoid_Calibrated_Naive_Bias_Probability  \n",
       "0                                   0.658299  \n",
       "1                                   0.738415  \n",
       "2                                   0.370653  \n",
       "3                                   0.452065  \n",
       "4                                   0.591459  "
      ]
     },
     "execution_count": 112,
     "metadata": {},
     "output_type": "execute_result"
    }
   ],
   "source": [
    "churn_df2.head()"
   ]
  },
  {
   "cell_type": "code",
   "execution_count": 113,
   "id": "ca1383aa-6abf-488a-931c-dead8adb773c",
   "metadata": {
    "pycharm": {
     "name": "#%%\n"
    }
   },
   "outputs": [],
   "source": [
    "churn_df2 = calc_churn_score(churn_df2)\n",
    "churn_df = calc_churn_score(churn_df)"
   ]
  },
  {
   "cell_type": "code",
   "execution_count": 114,
   "id": "dba6cfa7-4865-4b71-9895-e6e4e8714372",
   "metadata": {
    "pycharm": {
     "name": "#%%\n"
    }
   },
   "outputs": [
    {
     "data": {
      "text/html": [
       "<div>\n",
       "<style scoped>\n",
       "    .dataframe tbody tr th:only-of-type {\n",
       "        vertical-align: middle;\n",
       "    }\n",
       "\n",
       "    .dataframe tbody tr th {\n",
       "        vertical-align: top;\n",
       "    }\n",
       "\n",
       "    .dataframe thead th {\n",
       "        text-align: right;\n",
       "    }\n",
       "</style>\n",
       "<table border=\"1\" class=\"dataframe\">\n",
       "  <thead>\n",
       "    <tr style=\"text-align: right;\">\n",
       "      <th></th>\n",
       "      <th>userId</th>\n",
       "      <th>Actual_Churn</th>\n",
       "      <th>Random_Forest_Probability</th>\n",
       "      <th>Calibrated_Random_Forest_Probability</th>\n",
       "      <th>Naive_Bias_Probability</th>\n",
       "      <th>Isotonic_Calibrated_Naive_Bias_Probability</th>\n",
       "      <th>Sigmoid_Calibrated_Naive_Bias_Probability</th>\n",
       "      <th>Churn_Score</th>\n",
       "    </tr>\n",
       "  </thead>\n",
       "  <tbody>\n",
       "    <tr>\n",
       "      <th>0</th>\n",
       "      <td>985f1fc3-bce0-471e-b7b8-d518de876c26</td>\n",
       "      <td>1.0</td>\n",
       "      <td>0.379130</td>\n",
       "      <td>0.247146</td>\n",
       "      <td>0.648125</td>\n",
       "      <td>0.684556</td>\n",
       "      <td>0.741489</td>\n",
       "      <td>0.592558</td>\n",
       "    </tr>\n",
       "    <tr>\n",
       "      <th>1</th>\n",
       "      <td>9310554d-f01a-4e7d-bffb-00808e1beb3a</td>\n",
       "      <td>0.0</td>\n",
       "      <td>0.137587</td>\n",
       "      <td>0.033723</td>\n",
       "      <td>0.590879</td>\n",
       "      <td>0.680801</td>\n",
       "      <td>0.652669</td>\n",
       "      <td>0.433397</td>\n",
       "    </tr>\n",
       "    <tr>\n",
       "      <th>2</th>\n",
       "      <td>517721da-4043-4ec7-9805-581173ac6113</td>\n",
       "      <td>1.0</td>\n",
       "      <td>0.915144</td>\n",
       "      <td>0.971234</td>\n",
       "      <td>0.381928</td>\n",
       "      <td>0.323934</td>\n",
       "      <td>0.286382</td>\n",
       "      <td>0.714460</td>\n",
       "    </tr>\n",
       "    <tr>\n",
       "      <th>3</th>\n",
       "      <td>c02a56c0-200e-4dae-9add-cae2a779682c</td>\n",
       "      <td>1.0</td>\n",
       "      <td>0.909400</td>\n",
       "      <td>0.970192</td>\n",
       "      <td>0.516978</td>\n",
       "      <td>0.598095</td>\n",
       "      <td>0.521183</td>\n",
       "      <td>0.849979</td>\n",
       "    </tr>\n",
       "    <tr>\n",
       "      <th>4</th>\n",
       "      <td>4f1f7cf8-bfe3-4fea-b176-0cf8dfd80591</td>\n",
       "      <td>0.0</td>\n",
       "      <td>0.042955</td>\n",
       "      <td>0.015609</td>\n",
       "      <td>0.626129</td>\n",
       "      <td>0.684556</td>\n",
       "      <td>0.709142</td>\n",
       "      <td>0.422157</td>\n",
       "    </tr>\n",
       "  </tbody>\n",
       "</table>\n",
       "</div>"
      ],
      "text/plain": [
       "                                 userId  Actual_Churn  \\\n",
       "0  985f1fc3-bce0-471e-b7b8-d518de876c26           1.0   \n",
       "1  9310554d-f01a-4e7d-bffb-00808e1beb3a           0.0   \n",
       "2  517721da-4043-4ec7-9805-581173ac6113           1.0   \n",
       "3  c02a56c0-200e-4dae-9add-cae2a779682c           1.0   \n",
       "4  4f1f7cf8-bfe3-4fea-b176-0cf8dfd80591           0.0   \n",
       "\n",
       "   Random_Forest_Probability  Calibrated_Random_Forest_Probability  \\\n",
       "0                   0.379130                              0.247146   \n",
       "1                   0.137587                              0.033723   \n",
       "2                   0.915144                              0.971234   \n",
       "3                   0.909400                              0.970192   \n",
       "4                   0.042955                              0.015609   \n",
       "\n",
       "   Naive_Bias_Probability  Isotonic_Calibrated_Naive_Bias_Probability  \\\n",
       "0                0.648125                                    0.684556   \n",
       "1                0.590879                                    0.680801   \n",
       "2                0.381928                                    0.323934   \n",
       "3                0.516978                                    0.598095   \n",
       "4                0.626129                                    0.684556   \n",
       "\n",
       "   Sigmoid_Calibrated_Naive_Bias_Probability  Churn_Score  \n",
       "0                                   0.741489     0.592558  \n",
       "1                                   0.652669     0.433397  \n",
       "2                                   0.286382     0.714460  \n",
       "3                                   0.521183     0.849979  \n",
       "4                                   0.709142     0.422157  "
      ]
     },
     "execution_count": 114,
     "metadata": {},
     "output_type": "execute_result"
    }
   ],
   "source": [
    "churn_df.head()"
   ]
  },
  {
   "cell_type": "code",
   "execution_count": 121,
   "id": "96c39c1f-b8bd-4125-b86e-3ee0bb126cab",
   "metadata": {
    "pycharm": {
     "name": "#%%\n"
    }
   },
   "outputs": [
    {
     "data": {
      "text/plain": [
       "['userId',\n",
       " 'Actual_Churn',\n",
       " 'Churn_Score',\n",
       " 'Random_Forest_Probability',\n",
       " 'Calibrated_Random_Forest_Probability',\n",
       " 'Naive_Bias_Probability',\n",
       " 'Isotonic_Calibrated_Naive_Bias_Probability',\n",
       " 'Sigmoid_Calibrated_Naive_Bias_Probability']"
      ]
     },
     "execution_count": 121,
     "metadata": {},
     "output_type": "execute_result"
    }
   ],
   "source": [
    "cols = churn_df.columns.tolist()\n",
    "cols = cols[:2] + cols[-1:] + cols[2:-1]\n",
    "cols"
   ]
  },
  {
   "cell_type": "code",
   "execution_count": 130,
   "id": "1e31c573-480e-4228-b367-9d2d62a6e59e",
   "metadata": {
    "pycharm": {
     "name": "#%%\n"
    }
   },
   "outputs": [],
   "source": [
    "churn_df = churn_df[cols]\n",
    "churn_df2 = churn_df2[cols]"
   ]
  },
  {
   "cell_type": "code",
   "execution_count": 132,
   "id": "93054570-69e3-4626-820f-61fe49aac6d1",
   "metadata": {
    "pycharm": {
     "name": "#%%\n"
    }
   },
   "outputs": [],
   "source": [
    "churn_df.to_csv(\"../dataset/Churn_Results.csv\", index=False)\n",
    "churn_df2.to_csv(\"../dataset/Unique_Churn_Results.csv\", index=False)"
   ]
  },
  {
   "cell_type": "code",
   "execution_count": 133,
   "id": "41ebf3be-3bf7-4d4d-aa5c-20f8081f3c2d",
   "metadata": {
    "pycharm": {
     "name": "#%%\n"
    }
   },
   "outputs": [
    {
     "data": {
      "text/html": [
       "<div>\n",
       "<style scoped>\n",
       "    .dataframe tbody tr th:only-of-type {\n",
       "        vertical-align: middle;\n",
       "    }\n",
       "\n",
       "    .dataframe tbody tr th {\n",
       "        vertical-align: top;\n",
       "    }\n",
       "\n",
       "    .dataframe thead th {\n",
       "        text-align: right;\n",
       "    }\n",
       "</style>\n",
       "<table border=\"1\" class=\"dataframe\">\n",
       "  <thead>\n",
       "    <tr style=\"text-align: right;\">\n",
       "      <th></th>\n",
       "      <th>userId</th>\n",
       "      <th>Actual_Churn</th>\n",
       "      <th>Churn_Score</th>\n",
       "      <th>Random_Forest_Probability</th>\n",
       "      <th>Calibrated_Random_Forest_Probability</th>\n",
       "      <th>Naive_Bias_Probability</th>\n",
       "      <th>Isotonic_Calibrated_Naive_Bias_Probability</th>\n",
       "      <th>Sigmoid_Calibrated_Naive_Bias_Probability</th>\n",
       "    </tr>\n",
       "  </thead>\n",
       "  <tbody>\n",
       "    <tr>\n",
       "      <th>0</th>\n",
       "      <td>0002C218-D30F-402E-AE08-1280AD4FB669</td>\n",
       "      <td>1.0</td>\n",
       "      <td>0.832141</td>\n",
       "      <td>0.731484</td>\n",
       "      <td>0.874370</td>\n",
       "      <td>0.584981</td>\n",
       "      <td>0.649804</td>\n",
       "      <td>0.658299</td>\n",
       "    </tr>\n",
       "    <tr>\n",
       "      <th>1</th>\n",
       "      <td>00095350-9e64-4b34-9112-b9869703248b</td>\n",
       "      <td>1.0</td>\n",
       "      <td>0.972889</td>\n",
       "      <td>0.974088</td>\n",
       "      <td>0.983857</td>\n",
       "      <td>0.646214</td>\n",
       "      <td>0.684556</td>\n",
       "      <td>0.738415</td>\n",
       "    </tr>\n",
       "    <tr>\n",
       "      <th>2</th>\n",
       "      <td>00095653-80f8-4fba-93d9-44ae70bb6263</td>\n",
       "      <td>1.0</td>\n",
       "      <td>0.769485</td>\n",
       "      <td>0.939572</td>\n",
       "      <td>0.978172</td>\n",
       "      <td>0.430832</td>\n",
       "      <td>0.398299</td>\n",
       "      <td>0.370653</td>\n",
       "    </tr>\n",
       "    <tr>\n",
       "      <th>3</th>\n",
       "      <td>0010E3BE-81BD-48A3-8282-8C8D0B1F9629</td>\n",
       "      <td>0.0</td>\n",
       "      <td>0.444815</td>\n",
       "      <td>0.355808</td>\n",
       "      <td>0.306935</td>\n",
       "      <td>0.468026</td>\n",
       "      <td>0.454924</td>\n",
       "      <td>0.452065</td>\n",
       "    </tr>\n",
       "    <tr>\n",
       "      <th>4</th>\n",
       "      <td>0015a4a8-99f1-4119-9e10-0ac9773ae48a</td>\n",
       "      <td>1.0</td>\n",
       "      <td>0.913942</td>\n",
       "      <td>0.977035</td>\n",
       "      <td>0.983986</td>\n",
       "      <td>0.555581</td>\n",
       "      <td>0.650397</td>\n",
       "      <td>0.591459</td>\n",
       "    </tr>\n",
       "  </tbody>\n",
       "</table>\n",
       "</div>"
      ],
      "text/plain": [
       "                                 userId  Actual_Churn  Churn_Score  \\\n",
       "0  0002C218-D30F-402E-AE08-1280AD4FB669           1.0     0.832141   \n",
       "1  00095350-9e64-4b34-9112-b9869703248b           1.0     0.972889   \n",
       "2  00095653-80f8-4fba-93d9-44ae70bb6263           1.0     0.769485   \n",
       "3  0010E3BE-81BD-48A3-8282-8C8D0B1F9629           0.0     0.444815   \n",
       "4  0015a4a8-99f1-4119-9e10-0ac9773ae48a           1.0     0.913942   \n",
       "\n",
       "   Random_Forest_Probability  Calibrated_Random_Forest_Probability  \\\n",
       "0                   0.731484                              0.874370   \n",
       "1                   0.974088                              0.983857   \n",
       "2                   0.939572                              0.978172   \n",
       "3                   0.355808                              0.306935   \n",
       "4                   0.977035                              0.983986   \n",
       "\n",
       "   Naive_Bias_Probability  Isotonic_Calibrated_Naive_Bias_Probability  \\\n",
       "0                0.584981                                    0.649804   \n",
       "1                0.646214                                    0.684556   \n",
       "2                0.430832                                    0.398299   \n",
       "3                0.468026                                    0.454924   \n",
       "4                0.555581                                    0.650397   \n",
       "\n",
       "   Sigmoid_Calibrated_Naive_Bias_Probability  \n",
       "0                                   0.658299  \n",
       "1                                   0.738415  \n",
       "2                                   0.370653  \n",
       "3                                   0.452065  \n",
       "4                                   0.591459  "
      ]
     },
     "execution_count": 133,
     "metadata": {},
     "output_type": "execute_result"
    }
   ],
   "source": [
    "amk = pd.read_csv(\"../dataset/Unique_Churn_Results.csv\")\n",
    "amk.head()"
   ]
  },
  {
   "cell_type": "code",
   "execution_count": 127,
   "id": "a3b5d54c-36a8-47a2-956c-37af481d1040",
   "metadata": {
    "pycharm": {
     "name": "#%%\n"
    }
   },
   "outputs": [
    {
     "data": {
      "text/plain": [
       "530278"
      ]
     },
     "execution_count": 127,
     "metadata": {},
     "output_type": "execute_result"
    }
   ],
   "source": [
    "conn = sql.connect(\"../dataset/churn_df.db\")\n",
    "churn_df.to_sql(\"../dataset/churn_df\", conn, if_exists='replace')"
   ]
  },
  {
   "cell_type": "code",
   "execution_count": 128,
   "id": "e0e71c5c-9c62-488f-b912-f6bb13c1b6d3",
   "metadata": {
    "pycharm": {
     "name": "#%%\n"
    }
   },
   "outputs": [
    {
     "data": {
      "text/plain": [
       "11004"
      ]
     },
     "execution_count": 128,
     "metadata": {},
     "output_type": "execute_result"
    }
   ],
   "source": [
    "conn2 = sql.connect(\"../dataset/Unique_Churn_Results.db\")\n",
    "churn_df2.to_sql(\"../dataset/Unique_Churn_Results\", conn2, if_exists='replace')"
   ]
  },
  {
   "cell_type": "code",
   "execution_count": null,
   "id": "d3794101-060e-47f2-ba31-9892887acc50",
   "metadata": {
    "pycharm": {
     "name": "#%%\n"
    }
   },
   "outputs": [],
   "source": []
  }
 ],
 "metadata": {
  "kernelspec": {
   "display_name": "Python 3 (ipykernel)",
   "language": "python",
   "name": "python3"
  },
  "language_info": {
   "codemirror_mode": {
    "name": "ipython",
    "version": 3
   },
   "file_extension": ".py",
   "mimetype": "text/x-python",
   "name": "python",
   "nbconvert_exporter": "python",
   "pygments_lexer": "ipython3",
   "version": "3.9.12"
  }
 },
 "nbformat": 4,
 "nbformat_minor": 5
}