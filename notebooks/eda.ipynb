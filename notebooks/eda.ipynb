{
 "cells": [
  {
   "cell_type": "code",
   "execution_count": null,
   "id": "f4409411-e436-4c8b-884c-a9ff9825412d",
   "metadata": {
    "pycharm": {
     "name": "#%%\n"
    }
   },
   "outputs": [],
   "source": [
    "!pip install pandas\n",
    "!pip install seaborn"
   ]
  },
  {
   "cell_type": "code",
   "execution_count": 1,
   "id": "ae45fb32-74c1-4a74-9f3d-aa367dbc032a",
   "metadata": {
    "pycharm": {
     "name": "#%%\n"
    }
   },
   "outputs": [],
   "source": [
    "import pandas as pd\n",
    "import numpy as np\n",
    "import matplotlib.pyplot as plt\n",
    "import seaborn as sns\n",
    "import random\n"
   ]
  },
  {
   "cell_type": "code",
   "execution_count": 2,
   "id": "47ddb816-c82e-4757-a0bc-aa52e08e04d1",
   "metadata": {
    "pycharm": {
     "name": "#%%\n"
    }
   },
   "outputs": [
    {
     "data": {
      "text/html": [
       "<div>\n",
       "<style scoped>\n",
       "    .dataframe tbody tr th:only-of-type {\n",
       "        vertical-align: middle;\n",
       "    }\n",
       "\n",
       "    .dataframe tbody tr th {\n",
       "        vertical-align: top;\n",
       "    }\n",
       "\n",
       "    .dataframe thead th {\n",
       "        text-align: right;\n",
       "    }\n",
       "</style>\n",
       "<table border=\"1\" class=\"dataframe\">\n",
       "  <thead>\n",
       "    <tr style=\"text-align: right;\">\n",
       "      <th></th>\n",
       "      <th>dateCreated</th>\n",
       "      <th>userId</th>\n",
       "    </tr>\n",
       "  </thead>\n",
       "  <tbody>\n",
       "    <tr>\n",
       "      <th>0</th>\n",
       "      <td>2017-07-31 21:24:51.4230000</td>\n",
       "      <td>c6adac02-336f-4cfb-9478-f7b822200215</td>\n",
       "    </tr>\n",
       "    <tr>\n",
       "      <th>1</th>\n",
       "      <td>2017-07-31 21:10:24.9810000</td>\n",
       "      <td>4b498ee2-2207-45d6-805e-929491a0bb6a</td>\n",
       "    </tr>\n",
       "    <tr>\n",
       "      <th>2</th>\n",
       "      <td>2017-07-31 20:58:27.6010000</td>\n",
       "      <td>e49dd902-816e-4e32-8320-9580340eaa1d</td>\n",
       "    </tr>\n",
       "    <tr>\n",
       "      <th>3</th>\n",
       "      <td>2017-07-31 20:41:32.7670000</td>\n",
       "      <td>b28aaf42-476f-489d-8b90-f430a3788c5a</td>\n",
       "    </tr>\n",
       "    <tr>\n",
       "      <th>4</th>\n",
       "      <td>2017-07-29 16:51:55.2170000</td>\n",
       "      <td>4bfb581c-a205-4189-bac1-c579fb92c575</td>\n",
       "    </tr>\n",
       "  </tbody>\n",
       "</table>\n",
       "</div>"
      ],
      "text/plain": [
       "                   dateCreated                                userId\n",
       "0  2017-07-31 21:24:51.4230000  c6adac02-336f-4cfb-9478-f7b822200215\n",
       "1  2017-07-31 21:10:24.9810000  4b498ee2-2207-45d6-805e-929491a0bb6a\n",
       "2  2017-07-31 20:58:27.6010000  e49dd902-816e-4e32-8320-9580340eaa1d\n",
       "3  2017-07-31 20:41:32.7670000  b28aaf42-476f-489d-8b90-f430a3788c5a\n",
       "4  2017-07-29 16:51:55.2170000  4bfb581c-a205-4189-bac1-c579fb92c575"
      ]
     },
     "execution_count": 2,
     "metadata": {},
     "output_type": "execute_result"
    }
   ],
   "source": [
    "app_starts_july_df = pd.read_csv(\"../dataset/app starts july.txt\", delimiter=\"\\t\")\n",
    "app_starts_july_df.head()"
   ]
  },
  {
   "cell_type": "code",
   "execution_count": 3,
   "id": "3a5abc93-2049-4255-a336-fdc4f8727033",
   "metadata": {
    "pycharm": {
     "name": "#%%\n"
    }
   },
   "outputs": [
    {
     "data": {
      "text/plain": [
       "4919"
      ]
     },
     "execution_count": 3,
     "metadata": {},
     "output_type": "execute_result"
    }
   ],
   "source": [
    "app_starts_july_df.userId.nunique()"
   ]
  },
  {
   "cell_type": "code",
   "execution_count": 4,
   "id": "67e68703-0558-4bd2-91c1-d530a36d73e7",
   "metadata": {
    "pycharm": {
     "name": "#%%\n"
    }
   },
   "outputs": [
    {
     "data": {
      "text/plain": [
       "(39969, 2)"
      ]
     },
     "execution_count": 4,
     "metadata": {},
     "output_type": "execute_result"
    }
   ],
   "source": [
    "app_starts_july_df.shape"
   ]
  },
  {
   "cell_type": "code",
   "execution_count": 5,
   "id": "478bc745-b6c0-4bb0-a2ba-a9ae8c46543a",
   "metadata": {
    "pycharm": {
     "name": "#%%\n"
    }
   },
   "outputs": [
    {
     "data": {
      "text/html": [
       "<div>\n",
       "<style scoped>\n",
       "    .dataframe tbody tr th:only-of-type {\n",
       "        vertical-align: middle;\n",
       "    }\n",
       "\n",
       "    .dataframe tbody tr th {\n",
       "        vertical-align: top;\n",
       "    }\n",
       "\n",
       "    .dataframe thead th {\n",
       "        text-align: right;\n",
       "    }\n",
       "</style>\n",
       "<table border=\"1\" class=\"dataframe\">\n",
       "  <thead>\n",
       "    <tr style=\"text-align: right;\">\n",
       "      <th></th>\n",
       "      <th>dateCreated</th>\n",
       "      <th>userId</th>\n",
       "    </tr>\n",
       "  </thead>\n",
       "  <tbody>\n",
       "    <tr>\n",
       "      <th>0</th>\n",
       "      <td>2017-06-30 14:14:54.7930000</td>\n",
       "      <td>50e72534-a4f4-40d7-96d5-ecbe4eb314e9</td>\n",
       "    </tr>\n",
       "    <tr>\n",
       "      <th>1</th>\n",
       "      <td>2017-06-30 14:03:13.0100000</td>\n",
       "      <td>b3712849-595e-403f-84d2-4698439056b0</td>\n",
       "    </tr>\n",
       "    <tr>\n",
       "      <th>2</th>\n",
       "      <td>2017-06-28 16:26:48.3830000</td>\n",
       "      <td>99cea50b-3ecf-4102-8290-997eaf32a6b6</td>\n",
       "    </tr>\n",
       "    <tr>\n",
       "      <th>3</th>\n",
       "      <td>2017-06-27 10:23:29.9430000</td>\n",
       "      <td>78c06433-9ea8-4835-aff5-f64b262d0fb4</td>\n",
       "    </tr>\n",
       "    <tr>\n",
       "      <th>4</th>\n",
       "      <td>2017-06-27 10:11:27.6340000</td>\n",
       "      <td>510c5f9e-de54-45ee-909c-c14103130e5e</td>\n",
       "    </tr>\n",
       "  </tbody>\n",
       "</table>\n",
       "</div>"
      ],
      "text/plain": [
       "                   dateCreated                                userId\n",
       "0  2017-06-30 14:14:54.7930000  50e72534-a4f4-40d7-96d5-ecbe4eb314e9\n",
       "1  2017-06-30 14:03:13.0100000  b3712849-595e-403f-84d2-4698439056b0\n",
       "2  2017-06-28 16:26:48.3830000  99cea50b-3ecf-4102-8290-997eaf32a6b6\n",
       "3  2017-06-27 10:23:29.9430000  78c06433-9ea8-4835-aff5-f64b262d0fb4\n",
       "4  2017-06-27 10:11:27.6340000  510c5f9e-de54-45ee-909c-c14103130e5e"
      ]
     },
     "execution_count": 5,
     "metadata": {},
     "output_type": "execute_result"
    }
   ],
   "source": [
    "app_starts_df = pd.read_csv(\"../dataset/app starts.txt\", delimiter=\"\\t\")\n",
    "app_starts_df.head()"
   ]
  },
  {
   "cell_type": "code",
   "execution_count": 6,
   "id": "3c448c53-fa61-4b97-b44e-f03da7a34126",
   "metadata": {
    "pycharm": {
     "name": "#%%\n"
    }
   },
   "outputs": [
    {
     "data": {
      "text/plain": [
       "20073"
      ]
     },
     "execution_count": 6,
     "metadata": {},
     "output_type": "execute_result"
    }
   ],
   "source": [
    "app_starts_df.userId.nunique()"
   ]
  },
  {
   "cell_type": "code",
   "execution_count": 7,
   "id": "1c1e695c-1199-4c2e-a436-9add59ee1fae",
   "metadata": {
    "pycharm": {
     "name": "#%%\n"
    }
   },
   "outputs": [
    {
     "data": {
      "text/plain": [
       "(144104, 2)"
      ]
     },
     "execution_count": 7,
     "metadata": {},
     "output_type": "execute_result"
    }
   ],
   "source": [
    "app_starts_df.shape"
   ]
  },
  {
   "cell_type": "code",
   "execution_count": null,
   "id": "da6dbed8-bff2-4011-b0fe-ae336f2f7ae6",
   "metadata": {
    "pycharm": {
     "name": "#%%\n"
    }
   },
   "outputs": [],
   "source": []
  },
  {
   "cell_type": "code",
   "execution_count": 8,
   "id": "c7e81dc8-c163-4ead-b6a7-beb2555bfc31",
   "metadata": {
    "pycharm": {
     "name": "#%%\n"
    }
   },
   "outputs": [
    {
     "data": {
      "text/html": [
       "<div>\n",
       "<style scoped>\n",
       "    .dataframe tbody tr th:only-of-type {\n",
       "        vertical-align: middle;\n",
       "    }\n",
       "\n",
       "    .dataframe tbody tr th {\n",
       "        vertical-align: top;\n",
       "    }\n",
       "\n",
       "    .dataframe thead th {\n",
       "        text-align: right;\n",
       "    }\n",
       "</style>\n",
       "<table border=\"1\" class=\"dataframe\">\n",
       "  <thead>\n",
       "    <tr style=\"text-align: right;\">\n",
       "      <th></th>\n",
       "      <th>id</th>\n",
       "      <th>userId</th>\n",
       "      <th>dateCreated</th>\n",
       "      <th>page_turn_count</th>\n",
       "      <th>view_duration</th>\n",
       "      <th>brochure_id</th>\n",
       "    </tr>\n",
       "  </thead>\n",
       "  <tbody>\n",
       "    <tr>\n",
       "      <th>0</th>\n",
       "      <td>10670800401</td>\n",
       "      <td>a1bf423c-35d2-4509-8ad2-ec262e46bdb8</td>\n",
       "      <td>2017-07-30 23:55:20.4010000</td>\n",
       "      <td>44</td>\n",
       "      <td>182139.0</td>\n",
       "      <td>631732085</td>\n",
       "    </tr>\n",
       "    <tr>\n",
       "      <th>1</th>\n",
       "      <td>12024284821</td>\n",
       "      <td>C9DAFB1D-5D4C-40C4-B3F7-9C542594D128</td>\n",
       "      <td>2017-07-29 12:34:07.0660000</td>\n",
       "      <td>2</td>\n",
       "      <td>3000.0</td>\n",
       "      <td>708990288</td>\n",
       "    </tr>\n",
       "    <tr>\n",
       "      <th>2</th>\n",
       "      <td>12026473907</td>\n",
       "      <td>C9DAFB1D-5D4C-40C4-B3F7-9C542594D128</td>\n",
       "      <td>2017-07-29 12:33:21.5520000</td>\n",
       "      <td>26</td>\n",
       "      <td>41000.0</td>\n",
       "      <td>631734737</td>\n",
       "    </tr>\n",
       "    <tr>\n",
       "      <th>3</th>\n",
       "      <td>12026471343</td>\n",
       "      <td>C9DAFB1D-5D4C-40C4-B3F7-9C542594D128</td>\n",
       "      <td>2017-07-29 12:32:48.5690000</td>\n",
       "      <td>2</td>\n",
       "      <td>28000.0</td>\n",
       "      <td>709711204</td>\n",
       "    </tr>\n",
       "    <tr>\n",
       "      <th>4</th>\n",
       "      <td>12026471276</td>\n",
       "      <td>C9DAFB1D-5D4C-40C4-B3F7-9C542594D128</td>\n",
       "      <td>2017-07-29 12:32:39.8430000</td>\n",
       "      <td>4</td>\n",
       "      <td>6000.0</td>\n",
       "      <td>709626332</td>\n",
       "    </tr>\n",
       "  </tbody>\n",
       "</table>\n",
       "</div>"
      ],
      "text/plain": [
       "            id                                userId  \\\n",
       "0  10670800401  a1bf423c-35d2-4509-8ad2-ec262e46bdb8   \n",
       "1  12024284821  C9DAFB1D-5D4C-40C4-B3F7-9C542594D128   \n",
       "2  12026473907  C9DAFB1D-5D4C-40C4-B3F7-9C542594D128   \n",
       "3  12026471343  C9DAFB1D-5D4C-40C4-B3F7-9C542594D128   \n",
       "4  12026471276  C9DAFB1D-5D4C-40C4-B3F7-9C542594D128   \n",
       "\n",
       "                   dateCreated  page_turn_count  view_duration  brochure_id  \n",
       "0  2017-07-30 23:55:20.4010000               44       182139.0    631732085  \n",
       "1  2017-07-29 12:34:07.0660000                2         3000.0    708990288  \n",
       "2  2017-07-29 12:33:21.5520000               26        41000.0    631734737  \n",
       "3  2017-07-29 12:32:48.5690000                2        28000.0    709711204  \n",
       "4  2017-07-29 12:32:39.8430000                4         6000.0    709626332  "
      ]
     },
     "execution_count": 8,
     "metadata": {},
     "output_type": "execute_result"
    }
   ],
   "source": [
    "brochure_views_july_df = pd.read_csv(\"../dataset/brochure views july.txt\", delimiter=\"\\t\")\n",
    "brochure_views_july_df.head()"
   ]
  },
  {
   "cell_type": "code",
   "execution_count": 9,
   "id": "ea7ff247-a9d6-46ef-8f2b-da0f39ab7c41",
   "metadata": {
    "pycharm": {
     "name": "#%%\n"
    }
   },
   "outputs": [
    {
     "data": {
      "text/plain": [
       "3751"
      ]
     },
     "execution_count": 9,
     "metadata": {},
     "output_type": "execute_result"
    }
   ],
   "source": [
    "brochure_views_july_df.userId.nunique()"
   ]
  },
  {
   "cell_type": "code",
   "execution_count": 10,
   "id": "dddb19a3-7e00-4b21-ba2e-601ec79640dd",
   "metadata": {
    "pycharm": {
     "name": "#%%\n"
    }
   },
   "outputs": [
    {
     "data": {
      "text/plain": [
       "6322"
      ]
     },
     "execution_count": 10,
     "metadata": {},
     "output_type": "execute_result"
    }
   ],
   "source": [
    "brochure_views_july_df.brochure_id.nunique()"
   ]
  },
  {
   "cell_type": "code",
   "execution_count": 11,
   "id": "832c8b5e-d9e6-4425-b552-07e4687a4344",
   "metadata": {
    "pycharm": {
     "name": "#%%\n"
    }
   },
   "outputs": [
    {
     "data": {
      "text/plain": [
       "(0, 257)"
      ]
     },
     "execution_count": 11,
     "metadata": {},
     "output_type": "execute_result"
    }
   ],
   "source": [
    "brochure_views_july_df.page_turn_count.min(), brochure_views_july_df.page_turn_count.max()"
   ]
  },
  {
   "cell_type": "code",
   "execution_count": 12,
   "id": "abd04d70-b04a-4f99-b469-75e89737e36a",
   "metadata": {
    "pycharm": {
     "name": "#%%\n"
    }
   },
   "outputs": [
    {
     "data": {
      "text/plain": [
       "(74431, 6)"
      ]
     },
     "execution_count": 12,
     "metadata": {},
     "output_type": "execute_result"
    }
   ],
   "source": [
    "brochure_views_july_df.shape"
   ]
  },
  {
   "cell_type": "code",
   "execution_count": null,
   "id": "4479373a-510f-4d97-8139-d2d20ca75bd3",
   "metadata": {
    "pycharm": {
     "name": "#%%\n"
    }
   },
   "outputs": [],
   "source": []
  },
  {
   "cell_type": "code",
   "execution_count": 13,
   "id": "ed417655-09e3-499f-a023-daf3a7bec3b6",
   "metadata": {
    "pycharm": {
     "name": "#%%\n"
    }
   },
   "outputs": [
    {
     "data": {
      "text/html": [
       "<div>\n",
       "<style scoped>\n",
       "    .dataframe tbody tr th:only-of-type {\n",
       "        vertical-align: middle;\n",
       "    }\n",
       "\n",
       "    .dataframe tbody tr th {\n",
       "        vertical-align: top;\n",
       "    }\n",
       "\n",
       "    .dataframe thead th {\n",
       "        text-align: right;\n",
       "    }\n",
       "</style>\n",
       "<table border=\"1\" class=\"dataframe\">\n",
       "  <thead>\n",
       "    <tr style=\"text-align: right;\">\n",
       "      <th></th>\n",
       "      <th>id</th>\n",
       "      <th>userId</th>\n",
       "      <th>dateCreated</th>\n",
       "      <th>page_turn_count</th>\n",
       "      <th>view_duration</th>\n",
       "      <th>brochure_id</th>\n",
       "    </tr>\n",
       "  </thead>\n",
       "  <tbody>\n",
       "    <tr>\n",
       "      <th>0</th>\n",
       "      <td>6269194661</td>\n",
       "      <td>9491a960-206a-4a58-9177-e78cb1f05e70</td>\n",
       "      <td>2017-04-30 23:47:09.5390000</td>\n",
       "      <td>30</td>\n",
       "      <td>95172.0</td>\n",
       "      <td>672239440</td>\n",
       "    </tr>\n",
       "    <tr>\n",
       "      <th>1</th>\n",
       "      <td>6269192581</td>\n",
       "      <td>9491a960-206a-4a58-9177-e78cb1f05e70</td>\n",
       "      <td>2017-04-30 23:47:00.6970000</td>\n",
       "      <td>2</td>\n",
       "      <td>4000.0</td>\n",
       "      <td>673861625</td>\n",
       "    </tr>\n",
       "    <tr>\n",
       "      <th>2</th>\n",
       "      <td>6269188351</td>\n",
       "      <td>9491a960-206a-4a58-9177-e78cb1f05e70</td>\n",
       "      <td>2017-04-30 23:46:39.9170000</td>\n",
       "      <td>1</td>\n",
       "      <td>14000.0</td>\n",
       "      <td>660764240</td>\n",
       "    </tr>\n",
       "    <tr>\n",
       "      <th>3</th>\n",
       "      <td>6204426632</td>\n",
       "      <td>fa623647-dfc9-49b4-bbb6-77cbacd599f4</td>\n",
       "      <td>2017-04-30 23:46:13.5970000</td>\n",
       "      <td>64</td>\n",
       "      <td>168000.0</td>\n",
       "      <td>672658544</td>\n",
       "    </tr>\n",
       "    <tr>\n",
       "      <th>4</th>\n",
       "      <td>6204424112</td>\n",
       "      <td>9491a960-206a-4a58-9177-e78cb1f05e70</td>\n",
       "      <td>2017-04-30 23:46:02.1970000</td>\n",
       "      <td>1</td>\n",
       "      <td>33000.0</td>\n",
       "      <td>660764240</td>\n",
       "    </tr>\n",
       "  </tbody>\n",
       "</table>\n",
       "</div>"
      ],
      "text/plain": [
       "           id                                userId  \\\n",
       "0  6269194661  9491a960-206a-4a58-9177-e78cb1f05e70   \n",
       "1  6269192581  9491a960-206a-4a58-9177-e78cb1f05e70   \n",
       "2  6269188351  9491a960-206a-4a58-9177-e78cb1f05e70   \n",
       "3  6204426632  fa623647-dfc9-49b4-bbb6-77cbacd599f4   \n",
       "4  6204424112  9491a960-206a-4a58-9177-e78cb1f05e70   \n",
       "\n",
       "                   dateCreated  page_turn_count  view_duration  brochure_id  \n",
       "0  2017-04-30 23:47:09.5390000               30        95172.0    672239440  \n",
       "1  2017-04-30 23:47:00.6970000                2         4000.0    673861625  \n",
       "2  2017-04-30 23:46:39.9170000                1        14000.0    660764240  \n",
       "3  2017-04-30 23:46:13.5970000               64       168000.0    672658544  \n",
       "4  2017-04-30 23:46:02.1970000                1        33000.0    660764240  "
      ]
     },
     "execution_count": 13,
     "metadata": {},
     "output_type": "execute_result"
    }
   ],
   "source": [
    "brochure_views_df = pd.read_csv(\"../dataset/brochure views.txt\", delimiter=\"\\t\")\n",
    "brochure_views_df.head()"
   ]
  },
  {
   "cell_type": "code",
   "execution_count": 14,
   "id": "9c05e101-2427-4f6e-b2bb-060f71653d33",
   "metadata": {
    "pycharm": {
     "name": "#%%\n"
    }
   },
   "outputs": [
    {
     "data": {
      "text/plain": [
       "10943"
      ]
     },
     "execution_count": 14,
     "metadata": {},
     "output_type": "execute_result"
    }
   ],
   "source": [
    "brochure_views_df.userId.nunique()"
   ]
  },
  {
   "cell_type": "code",
   "execution_count": 15,
   "id": "c6466dcd-32dd-45c0-8da3-cd4494466122",
   "metadata": {
    "pycharm": {
     "name": "#%%\n"
    }
   },
   "outputs": [
    {
     "data": {
      "text/plain": [
       "17147"
      ]
     },
     "execution_count": 15,
     "metadata": {},
     "output_type": "execute_result"
    }
   ],
   "source": [
    "brochure_views_df.brochure_id.nunique()"
   ]
  },
  {
   "cell_type": "code",
   "execution_count": 16,
   "id": "5d81cc68-9f87-4621-8988-7b33974a0df3",
   "metadata": {
    "pycharm": {
     "name": "#%%\n"
    }
   },
   "outputs": [
    {
     "data": {
      "text/plain": [
       "(1, 375)"
      ]
     },
     "execution_count": 16,
     "metadata": {},
     "output_type": "execute_result"
    }
   ],
   "source": [
    "brochure_views_df.page_turn_count.min(), brochure_views_df.page_turn_count.max()"
   ]
  },
  {
   "cell_type": "code",
   "execution_count": 17,
   "id": "77c3a9be-9002-4c8a-91ce-b0b4da8b4f2f",
   "metadata": {
    "pycharm": {
     "name": "#%%\n"
    }
   },
   "outputs": [
    {
     "data": {
      "text/plain": [
       "(279213, 6)"
      ]
     },
     "execution_count": 17,
     "metadata": {},
     "output_type": "execute_result"
    }
   ],
   "source": [
    "brochure_views_df.shape"
   ]
  },
  {
   "cell_type": "code",
   "execution_count": 18,
   "id": "167137e9-5ef7-416d-a6e7-447298ec2d18",
   "metadata": {
    "pycharm": {
     "name": "#%%\n"
    }
   },
   "outputs": [
    {
     "data": {
      "text/html": [
       "<div>\n",
       "<style scoped>\n",
       "    .dataframe tbody tr th:only-of-type {\n",
       "        vertical-align: middle;\n",
       "    }\n",
       "\n",
       "    .dataframe tbody tr th {\n",
       "        vertical-align: top;\n",
       "    }\n",
       "\n",
       "    .dataframe thead th {\n",
       "        text-align: right;\n",
       "    }\n",
       "</style>\n",
       "<table border=\"1\" class=\"dataframe\">\n",
       "  <thead>\n",
       "    <tr style=\"text-align: right;\">\n",
       "      <th></th>\n",
       "      <th>id</th>\n",
       "      <th>InstallDate</th>\n",
       "      <th>productId</th>\n",
       "      <th>userId</th>\n",
       "      <th>model</th>\n",
       "      <th>campaignId</th>\n",
       "    </tr>\n",
       "  </thead>\n",
       "  <tbody>\n",
       "    <tr>\n",
       "      <th>0</th>\n",
       "      <td>37371890</td>\n",
       "      <td>2017-05-04 10:06:27.8070000</td>\n",
       "      <td>de.kaufda.kaufda</td>\n",
       "      <td>5fc13850-de51-4426-96ce-72aaec895abb</td>\n",
       "      <td>ipad2,7</td>\n",
       "      <td>000000</td>\n",
       "    </tr>\n",
       "    <tr>\n",
       "      <th>1</th>\n",
       "      <td>36979918</td>\n",
       "      <td>2017-04-24 09:27:16.1730000</td>\n",
       "      <td>com-bonial-kaufda</td>\n",
       "      <td>b13a035e-e9bf-49db-8f93-b49d491bef53</td>\n",
       "      <td>sm-g800f</td>\n",
       "      <td>3iikhy</td>\n",
       "    </tr>\n",
       "    <tr>\n",
       "      <th>2</th>\n",
       "      <td>37371070</td>\n",
       "      <td>2017-05-04 16:05:09.5680000</td>\n",
       "      <td>de.kaufda.kaufda</td>\n",
       "      <td>5deb0aad-43bb-4ee1-868b-98f36c3d5bbf</td>\n",
       "      <td>iphone8,4</td>\n",
       "      <td>tl3cy8</td>\n",
       "    </tr>\n",
       "    <tr>\n",
       "      <th>3</th>\n",
       "      <td>36897929</td>\n",
       "      <td>2017-04-22 13:18:18.4370000</td>\n",
       "      <td>com-bonial-kaufda</td>\n",
       "      <td>64707e97-d5e1-4622-a89a-bebf8432fd33</td>\n",
       "      <td>sm-g955f</td>\n",
       "      <td>000000</td>\n",
       "    </tr>\n",
       "    <tr>\n",
       "      <th>4</th>\n",
       "      <td>36606053</td>\n",
       "      <td>2017-04-15 14:03:51.1990000</td>\n",
       "      <td>com-bonial-kaufda</td>\n",
       "      <td>770a391d-eda5-423b-b672-845f1e12661f</td>\n",
       "      <td>sm-j320h</td>\n",
       "      <td>000000</td>\n",
       "    </tr>\n",
       "  </tbody>\n",
       "</table>\n",
       "</div>"
      ],
      "text/plain": [
       "         id                  InstallDate          productId  \\\n",
       "0  37371890  2017-05-04 10:06:27.8070000   de.kaufda.kaufda   \n",
       "1  36979918  2017-04-24 09:27:16.1730000  com-bonial-kaufda   \n",
       "2  37371070  2017-05-04 16:05:09.5680000   de.kaufda.kaufda   \n",
       "3  36897929  2017-04-22 13:18:18.4370000  com-bonial-kaufda   \n",
       "4  36606053  2017-04-15 14:03:51.1990000  com-bonial-kaufda   \n",
       "\n",
       "                                 userId      model campaignId  \n",
       "0  5fc13850-de51-4426-96ce-72aaec895abb    ipad2,7     000000  \n",
       "1  b13a035e-e9bf-49db-8f93-b49d491bef53   sm-g800f     3iikhy  \n",
       "2  5deb0aad-43bb-4ee1-868b-98f36c3d5bbf  iphone8,4     tl3cy8  \n",
       "3  64707e97-d5e1-4622-a89a-bebf8432fd33   sm-g955f     000000  \n",
       "4  770a391d-eda5-423b-b672-845f1e12661f   sm-j320h     000000  "
      ]
     },
     "execution_count": 18,
     "metadata": {},
     "output_type": "execute_result"
    }
   ],
   "source": [
    "installs_df = pd.read_csv(\"../dataset/installs.txt\", delimiter=\"\\t\")\n",
    "installs_df.head()"
   ]
  },
  {
   "cell_type": "code",
   "execution_count": 19,
   "id": "e3e000d6-7c42-45e2-a22b-887dc9cc8786",
   "metadata": {
    "pycharm": {
     "name": "#%%\n"
    }
   },
   "outputs": [
    {
     "data": {
      "text/plain": [
       "(20000, 6)"
      ]
     },
     "execution_count": 19,
     "metadata": {},
     "output_type": "execute_result"
    }
   ],
   "source": [
    "installs_df.shape"
   ]
  },
  {
   "cell_type": "code",
   "execution_count": 20,
   "id": "a3ff9b5a-eb1c-495b-8b4e-d474eea28326",
   "metadata": {
    "pycharm": {
     "name": "#%%\n"
    }
   },
   "outputs": [
    {
     "data": {
      "text/plain": [
       "933"
      ]
     },
     "execution_count": 20,
     "metadata": {},
     "output_type": "execute_result"
    }
   ],
   "source": [
    "installs_df.campaignId.nunique()"
   ]
  },
  {
   "cell_type": "code",
   "execution_count": 21,
   "id": "e7d693d4-0a49-4092-887f-6b1c4347736f",
   "metadata": {
    "pycharm": {
     "name": "#%%\n"
    }
   },
   "outputs": [
    {
     "data": {
      "text/plain": [
       "20000"
      ]
     },
     "execution_count": 21,
     "metadata": {},
     "output_type": "execute_result"
    }
   ],
   "source": [
    "installs_df.userId.nunique()"
   ]
  },
  {
   "cell_type": "code",
   "execution_count": 22,
   "id": "8fd74603-a3da-407e-abef-28b8973ca4dd",
   "metadata": {
    "pycharm": {
     "name": "#%%\n"
    }
   },
   "outputs": [
    {
     "data": {
      "text/plain": [
       "array(['de.kaufda.kaufda', 'com-bonial-kaufda', 'de-kaufda-android'],\n",
       "      dtype=object)"
      ]
     },
     "execution_count": 22,
     "metadata": {},
     "output_type": "execute_result"
    }
   ],
   "source": [
    "installs_df.productId.unique()"
   ]
  },
  {
   "cell_type": "code",
   "execution_count": 23,
   "id": "aae86258-f5f9-45d2-9205-9a82ebdce260",
   "metadata": {
    "pycharm": {
     "name": "#%%\n"
    }
   },
   "outputs": [
    {
     "data": {
      "text/plain": [
       "array(['ipad2,7', 'sm-g800f', 'iphone8,4', 'sm-g955f', 'sm-j320h',\n",
       "       'gt-n7105', 'GT-I9300', 'sm-n9005', 'gt-i9505', 'sm-a500fu',\n",
       "       'sm-j500fn', 'iphone9,3', 'sm-g935f', 'gt-i9195', 'sm-g901f',\n",
       "       'gt-i9515', 'iphone6,2', 'iPhone9,3', 'lg-h850', 'sm-t210',\n",
       "       'gt-i9301i', 'iphone5,2', 'f5121', 'sm-j100h', 'huawei+scl-l01',\n",
       "       'HUAWEI+VNS-L31', 'iphone8,1', 'sm-g903f', 'sm-n910f', 'iphone7,2',\n",
       "       'sm-t535', 'gt-i9300', 'huawei+cun-l21', 'f8331', 'sm-g925f',\n",
       "       'sm-t530', 'SM-G920F', 'sm-j710f', 'sm-g930f', 'sm-t230',\n",
       "       'SM-T580', 'sm-g800h', 'sm-a300fu', 'd5803', 'gt-s7562',\n",
       "       'sm-g920f', 'sm-j320f', 'ipad4,4', 'sm-a510f', 'GT-I9301I',\n",
       "       'huawei+y360-u61', 'ipad3,6', 'redmi+note+3', 'iphone9,4',\n",
       "       'lg-d620', 'f3111', 'mha-l29'], dtype=object)"
      ]
     },
     "execution_count": 23,
     "metadata": {},
     "output_type": "execute_result"
    }
   ],
   "source": [
    "installs_df[:100].model.unique()"
   ]
  },
  {
   "cell_type": "code",
   "execution_count": 24,
   "id": "937bf11b-05f3-4a51-9c48-f4eabf15c470",
   "metadata": {
    "pycharm": {
     "name": "#%%\n"
    }
   },
   "outputs": [
    {
     "data": {
      "text/html": [
       "<div>\n",
       "<style scoped>\n",
       "    .dataframe tbody tr th:only-of-type {\n",
       "        vertical-align: middle;\n",
       "    }\n",
       "\n",
       "    .dataframe tbody tr th {\n",
       "        vertical-align: top;\n",
       "    }\n",
       "\n",
       "    .dataframe thead th {\n",
       "        text-align: right;\n",
       "    }\n",
       "</style>\n",
       "<table border=\"1\" class=\"dataframe\">\n",
       "  <thead>\n",
       "    <tr style=\"text-align: right;\">\n",
       "      <th></th>\n",
       "      <th>id</th>\n",
       "      <th>InstallDate</th>\n",
       "      <th>productId</th>\n",
       "      <th>userId</th>\n",
       "      <th>model</th>\n",
       "      <th>campaignId</th>\n",
       "    </tr>\n",
       "  </thead>\n",
       "  <tbody>\n",
       "    <tr>\n",
       "      <th>3</th>\n",
       "      <td>36897929</td>\n",
       "      <td>2017-04-22 13:18:18.4370000</td>\n",
       "      <td>com-bonial-kaufda</td>\n",
       "      <td>64707e97-d5e1-4622-a89a-bebf8432fd33</td>\n",
       "      <td>sm-g955f</td>\n",
       "      <td>000000</td>\n",
       "    </tr>\n",
       "    <tr>\n",
       "      <th>464</th>\n",
       "      <td>37763395</td>\n",
       "      <td>2017-05-12 21:46:39.9090000</td>\n",
       "      <td>com-bonial-kaufda</td>\n",
       "      <td>4149ded5-d9cb-43a9-92eb-9b6d0a1b37e1</td>\n",
       "      <td>sm-g955f</td>\n",
       "      <td>000000</td>\n",
       "    </tr>\n",
       "    <tr>\n",
       "      <th>492</th>\n",
       "      <td>36852563</td>\n",
       "      <td>2017-04-21 20:38:46.8890000</td>\n",
       "      <td>com-bonial-kaufda</td>\n",
       "      <td>d23f2e65-c27e-4cf9-a4b6-bec06f282723</td>\n",
       "      <td>sm-g955f</td>\n",
       "      <td>000000</td>\n",
       "    </tr>\n",
       "    <tr>\n",
       "      <th>714</th>\n",
       "      <td>38409114</td>\n",
       "      <td>2017-05-30 19:22:00.7700000</td>\n",
       "      <td>com-bonial-kaufda</td>\n",
       "      <td>66bc056e-57ad-40c5-9029-56f2f16d8d3b</td>\n",
       "      <td>sm-g955f</td>\n",
       "      <td>000000</td>\n",
       "    </tr>\n",
       "    <tr>\n",
       "      <th>953</th>\n",
       "      <td>36775119</td>\n",
       "      <td>2017-04-19 11:36:19.8690000</td>\n",
       "      <td>com-bonial-kaufda</td>\n",
       "      <td>ffaf75f0-a10d-4b59-b8c3-700da4758e90</td>\n",
       "      <td>sm-g955f</td>\n",
       "      <td>000000</td>\n",
       "    </tr>\n",
       "  </tbody>\n",
       "</table>\n",
       "</div>"
      ],
      "text/plain": [
       "           id                  InstallDate          productId  \\\n",
       "3    36897929  2017-04-22 13:18:18.4370000  com-bonial-kaufda   \n",
       "464  37763395  2017-05-12 21:46:39.9090000  com-bonial-kaufda   \n",
       "492  36852563  2017-04-21 20:38:46.8890000  com-bonial-kaufda   \n",
       "714  38409114  2017-05-30 19:22:00.7700000  com-bonial-kaufda   \n",
       "953  36775119  2017-04-19 11:36:19.8690000  com-bonial-kaufda   \n",
       "\n",
       "                                   userId     model campaignId  \n",
       "3    64707e97-d5e1-4622-a89a-bebf8432fd33  sm-g955f     000000  \n",
       "464  4149ded5-d9cb-43a9-92eb-9b6d0a1b37e1  sm-g955f     000000  \n",
       "492  d23f2e65-c27e-4cf9-a4b6-bec06f282723  sm-g955f     000000  \n",
       "714  66bc056e-57ad-40c5-9029-56f2f16d8d3b  sm-g955f     000000  \n",
       "953  ffaf75f0-a10d-4b59-b8c3-700da4758e90  sm-g955f     000000  "
      ]
     },
     "execution_count": 24,
     "metadata": {},
     "output_type": "execute_result"
    }
   ],
   "source": [
    "installs_df[installs_df.model == \"sm-g955f\"].head()"
   ]
  },
  {
   "cell_type": "code",
   "execution_count": 25,
   "id": "e89b0049-3b48-4e07-89d6-a7e676c98171",
   "metadata": {
    "pycharm": {
     "name": "#%%\n"
    }
   },
   "outputs": [
    {
     "name": "stdout",
     "output_type": "stream",
     "text": [
      "**** brochure_views *****\n",
      "Index(['id', 'userId', 'dateCreated', 'page_turn_count', 'view_duration',\n",
      "       'brochure_id'],\n",
      "      dtype='object')\n",
      "Index(['id', 'userId', 'dateCreated', 'page_turn_count', 'view_duration',\n",
      "       'brochure_id'],\n",
      "      dtype='object')\n",
      "**** app_starts *****\n",
      "Index(['dateCreated', 'userId'], dtype='object')\n",
      "Index(['dateCreated', 'userId'], dtype='object')\n",
      "**** installs *****\n",
      "Index(['id', 'InstallDate', 'productId', 'userId', 'model', 'campaignId'], dtype='object')\n"
     ]
    }
   ],
   "source": [
    "print(\"**** brochure_views *****\")\n",
    "print(brochure_views_df.columns)\n",
    "print(brochure_views_july_df.columns)\n",
    "\n",
    "print(\"**** app_starts *****\")\n",
    "print(app_starts_df.columns)\n",
    "print(app_starts_july_df.columns)\n",
    "\n",
    "print(\"**** installs *****\")\n",
    "print(installs_df.columns)"
   ]
  },
  {
   "cell_type": "code",
   "execution_count": 26,
   "id": "6811562d-f004-4e55-b238-359fc443d708",
   "metadata": {
    "pycharm": {
     "name": "#%%\n"
    }
   },
   "outputs": [
    {
     "data": {
      "text/html": [
       "<div>\n",
       "<style scoped>\n",
       "    .dataframe tbody tr th:only-of-type {\n",
       "        vertical-align: middle;\n",
       "    }\n",
       "\n",
       "    .dataframe tbody tr th {\n",
       "        vertical-align: top;\n",
       "    }\n",
       "\n",
       "    .dataframe thead th {\n",
       "        text-align: right;\n",
       "    }\n",
       "</style>\n",
       "<table border=\"1\" class=\"dataframe\">\n",
       "  <thead>\n",
       "    <tr style=\"text-align: right;\">\n",
       "      <th></th>\n",
       "      <th>id</th>\n",
       "      <th>userId</th>\n",
       "      <th>dateCreated</th>\n",
       "      <th>page_turn_count</th>\n",
       "      <th>view_duration</th>\n",
       "      <th>brochure_id</th>\n",
       "    </tr>\n",
       "  </thead>\n",
       "  <tbody>\n",
       "    <tr>\n",
       "      <th>19248</th>\n",
       "      <td>6110098132</td>\n",
       "      <td>64707e97-d5e1-4622-a89a-bebf8432fd33</td>\n",
       "      <td>2017-04-24 13:38:02.6840000</td>\n",
       "      <td>18</td>\n",
       "      <td>36000.0</td>\n",
       "      <td>670596015</td>\n",
       "    </tr>\n",
       "    <tr>\n",
       "      <th>20942</th>\n",
       "      <td>6086310882</td>\n",
       "      <td>64707e97-d5e1-4622-a89a-bebf8432fd33</td>\n",
       "      <td>2017-04-23 10:44:42.5860000</td>\n",
       "      <td>40</td>\n",
       "      <td>161000.0</td>\n",
       "      <td>669810850</td>\n",
       "    </tr>\n",
       "    <tr>\n",
       "      <th>153931</th>\n",
       "      <td>6342029972</td>\n",
       "      <td>64707e97-d5e1-4622-a89a-bebf8432fd33</td>\n",
       "      <td>2017-05-08 19:24:12.4570000</td>\n",
       "      <td>25</td>\n",
       "      <td>53000.0</td>\n",
       "      <td>676033070</td>\n",
       "    </tr>\n",
       "    <tr>\n",
       "      <th>153932</th>\n",
       "      <td>6342019852</td>\n",
       "      <td>64707e97-d5e1-4622-a89a-bebf8432fd33</td>\n",
       "      <td>2017-05-08 19:23:40.1170000</td>\n",
       "      <td>25</td>\n",
       "      <td>27000.0</td>\n",
       "      <td>675999196</td>\n",
       "    </tr>\n",
       "    <tr>\n",
       "      <th>153962</th>\n",
       "      <td>6341976422</td>\n",
       "      <td>64707e97-d5e1-4622-a89a-bebf8432fd33</td>\n",
       "      <td>2017-05-08 19:21:16.0240000</td>\n",
       "      <td>8</td>\n",
       "      <td>140000.0</td>\n",
       "      <td>675457873</td>\n",
       "    </tr>\n",
       "    <tr>\n",
       "      <th>172211</th>\n",
       "      <td>6248183532</td>\n",
       "      <td>64707e97-d5e1-4622-a89a-bebf8432fd33</td>\n",
       "      <td>2017-05-03 13:34:37.3720000</td>\n",
       "      <td>38</td>\n",
       "      <td>29000.0</td>\n",
       "      <td>672280670</td>\n",
       "    </tr>\n",
       "    <tr>\n",
       "      <th>172212</th>\n",
       "      <td>6248176832</td>\n",
       "      <td>64707e97-d5e1-4622-a89a-bebf8432fd33</td>\n",
       "      <td>2017-05-03 13:34:08.1630000</td>\n",
       "      <td>20</td>\n",
       "      <td>27000.0</td>\n",
       "      <td>672280670</td>\n",
       "    </tr>\n",
       "    <tr>\n",
       "      <th>191564</th>\n",
       "      <td>7155422341</td>\n",
       "      <td>64707e97-d5e1-4622-a89a-bebf8432fd33</td>\n",
       "      <td>2017-06-26 18:21:57.0730000</td>\n",
       "      <td>38</td>\n",
       "      <td>38000.0</td>\n",
       "      <td>695219814</td>\n",
       "    </tr>\n",
       "    <tr>\n",
       "      <th>191565</th>\n",
       "      <td>7092864772</td>\n",
       "      <td>64707e97-d5e1-4622-a89a-bebf8432fd33</td>\n",
       "      <td>2017-06-26 18:21:16.1810000</td>\n",
       "      <td>50</td>\n",
       "      <td>40000.0</td>\n",
       "      <td>693961177</td>\n",
       "    </tr>\n",
       "    <tr>\n",
       "      <th>191566</th>\n",
       "      <td>7092861802</td>\n",
       "      <td>64707e97-d5e1-4622-a89a-bebf8432fd33</td>\n",
       "      <td>2017-06-26 18:21:02.4190000</td>\n",
       "      <td>19</td>\n",
       "      <td>11000.0</td>\n",
       "      <td>696294627</td>\n",
       "    </tr>\n",
       "    <tr>\n",
       "      <th>191567</th>\n",
       "      <td>7092860212</td>\n",
       "      <td>64707e97-d5e1-4622-a89a-bebf8432fd33</td>\n",
       "      <td>2017-06-26 18:20:54.3360000</td>\n",
       "      <td>2</td>\n",
       "      <td>8000.0</td>\n",
       "      <td>686182377</td>\n",
       "    </tr>\n",
       "  </tbody>\n",
       "</table>\n",
       "</div>"
      ],
      "text/plain": [
       "                id                                userId  \\\n",
       "19248   6110098132  64707e97-d5e1-4622-a89a-bebf8432fd33   \n",
       "20942   6086310882  64707e97-d5e1-4622-a89a-bebf8432fd33   \n",
       "153931  6342029972  64707e97-d5e1-4622-a89a-bebf8432fd33   \n",
       "153932  6342019852  64707e97-d5e1-4622-a89a-bebf8432fd33   \n",
       "153962  6341976422  64707e97-d5e1-4622-a89a-bebf8432fd33   \n",
       "172211  6248183532  64707e97-d5e1-4622-a89a-bebf8432fd33   \n",
       "172212  6248176832  64707e97-d5e1-4622-a89a-bebf8432fd33   \n",
       "191564  7155422341  64707e97-d5e1-4622-a89a-bebf8432fd33   \n",
       "191565  7092864772  64707e97-d5e1-4622-a89a-bebf8432fd33   \n",
       "191566  7092861802  64707e97-d5e1-4622-a89a-bebf8432fd33   \n",
       "191567  7092860212  64707e97-d5e1-4622-a89a-bebf8432fd33   \n",
       "\n",
       "                        dateCreated  page_turn_count  view_duration  \\\n",
       "19248   2017-04-24 13:38:02.6840000               18        36000.0   \n",
       "20942   2017-04-23 10:44:42.5860000               40       161000.0   \n",
       "153931  2017-05-08 19:24:12.4570000               25        53000.0   \n",
       "153932  2017-05-08 19:23:40.1170000               25        27000.0   \n",
       "153962  2017-05-08 19:21:16.0240000                8       140000.0   \n",
       "172211  2017-05-03 13:34:37.3720000               38        29000.0   \n",
       "172212  2017-05-03 13:34:08.1630000               20        27000.0   \n",
       "191564  2017-06-26 18:21:57.0730000               38        38000.0   \n",
       "191565  2017-06-26 18:21:16.1810000               50        40000.0   \n",
       "191566  2017-06-26 18:21:02.4190000               19        11000.0   \n",
       "191567  2017-06-26 18:20:54.3360000                2         8000.0   \n",
       "\n",
       "        brochure_id  \n",
       "19248     670596015  \n",
       "20942     669810850  \n",
       "153931    676033070  \n",
       "153932    675999196  \n",
       "153962    675457873  \n",
       "172211    672280670  \n",
       "172212    672280670  \n",
       "191564    695219814  \n",
       "191565    693961177  \n",
       "191566    696294627  \n",
       "191567    686182377  "
      ]
     },
     "execution_count": 26,
     "metadata": {},
     "output_type": "execute_result"
    }
   ],
   "source": [
    "brochure_views_df[brochure_views_df.userId == \"64707e97-d5e1-4622-a89a-bebf8432fd33\"]"
   ]
  },
  {
   "cell_type": "code",
   "execution_count": 27,
   "id": "3e44539b-5e98-4f58-96b9-f7b36611036b",
   "metadata": {
    "pycharm": {
     "name": "#%%\n"
    }
   },
   "outputs": [
    {
     "data": {
      "text/html": [
       "<div>\n",
       "<style scoped>\n",
       "    .dataframe tbody tr th:only-of-type {\n",
       "        vertical-align: middle;\n",
       "    }\n",
       "\n",
       "    .dataframe tbody tr th {\n",
       "        vertical-align: top;\n",
       "    }\n",
       "\n",
       "    .dataframe thead th {\n",
       "        text-align: right;\n",
       "    }\n",
       "</style>\n",
       "<table border=\"1\" class=\"dataframe\">\n",
       "  <thead>\n",
       "    <tr style=\"text-align: right;\">\n",
       "      <th></th>\n",
       "      <th>id</th>\n",
       "      <th>userId</th>\n",
       "      <th>dateCreated</th>\n",
       "      <th>page_turn_count</th>\n",
       "      <th>view_duration</th>\n",
       "      <th>brochure_id</th>\n",
       "    </tr>\n",
       "  </thead>\n",
       "  <tbody>\n",
       "  </tbody>\n",
       "</table>\n",
       "</div>"
      ],
      "text/plain": [
       "Empty DataFrame\n",
       "Columns: [id, userId, dateCreated, page_turn_count, view_duration, brochure_id]\n",
       "Index: []"
      ]
     },
     "execution_count": 27,
     "metadata": {},
     "output_type": "execute_result"
    }
   ],
   "source": [
    "brochure_views_july_df[brochure_views_july_df.userId == \"64707e97-d5e1-4622-a89a-bebf8432fd33\"]"
   ]
  },
  {
   "cell_type": "code",
   "execution_count": 28,
   "id": "af0c80f8-98eb-4cb6-81ac-b1e396aa3ffe",
   "metadata": {
    "pycharm": {
     "name": "#%%\n"
    }
   },
   "outputs": [
    {
     "data": {
      "text/html": [
       "<div>\n",
       "<style scoped>\n",
       "    .dataframe tbody tr th:only-of-type {\n",
       "        vertical-align: middle;\n",
       "    }\n",
       "\n",
       "    .dataframe tbody tr th {\n",
       "        vertical-align: top;\n",
       "    }\n",
       "\n",
       "    .dataframe thead th {\n",
       "        text-align: right;\n",
       "    }\n",
       "</style>\n",
       "<table border=\"1\" class=\"dataframe\">\n",
       "  <thead>\n",
       "    <tr style=\"text-align: right;\">\n",
       "      <th></th>\n",
       "      <th>dateCreated</th>\n",
       "      <th>userId</th>\n",
       "    </tr>\n",
       "  </thead>\n",
       "  <tbody>\n",
       "    <tr>\n",
       "      <th>3546</th>\n",
       "      <td>2017-06-18 14:37:37.9440000</td>\n",
       "      <td>64707e97-d5e1-4622-a89a-bebf8432fd33</td>\n",
       "    </tr>\n",
       "    <tr>\n",
       "      <th>5971</th>\n",
       "      <td>2017-06-12 22:01:10.1370000</td>\n",
       "      <td>64707e97-d5e1-4622-a89a-bebf8432fd33</td>\n",
       "    </tr>\n",
       "    <tr>\n",
       "      <th>19005</th>\n",
       "      <td>2017-05-03 13:33:59.7640000</td>\n",
       "      <td>64707e97-d5e1-4622-a89a-bebf8432fd33</td>\n",
       "    </tr>\n",
       "    <tr>\n",
       "      <th>21714</th>\n",
       "      <td>2017-04-28 19:59:15.8070000</td>\n",
       "      <td>64707e97-d5e1-4622-a89a-bebf8432fd33</td>\n",
       "    </tr>\n",
       "    <tr>\n",
       "      <th>24570</th>\n",
       "      <td>2017-06-17 16:23:33.1480000</td>\n",
       "      <td>64707e97-d5e1-4622-a89a-bebf8432fd33</td>\n",
       "    </tr>\n",
       "    <tr>\n",
       "      <th>28712</th>\n",
       "      <td>2017-04-29 01:35:00.5760000</td>\n",
       "      <td>64707e97-d5e1-4622-a89a-bebf8432fd33</td>\n",
       "    </tr>\n",
       "    <tr>\n",
       "      <th>51908</th>\n",
       "      <td>2017-05-08 19:21:14.6090000</td>\n",
       "      <td>64707e97-d5e1-4622-a89a-bebf8432fd33</td>\n",
       "    </tr>\n",
       "    <tr>\n",
       "      <th>51949</th>\n",
       "      <td>2017-06-26 18:20:45.3800000</td>\n",
       "      <td>64707e97-d5e1-4622-a89a-bebf8432fd33</td>\n",
       "    </tr>\n",
       "    <tr>\n",
       "      <th>69823</th>\n",
       "      <td>2017-05-11 14:06:54.7120000</td>\n",
       "      <td>64707e97-d5e1-4622-a89a-bebf8432fd33</td>\n",
       "    </tr>\n",
       "    <tr>\n",
       "      <th>73750</th>\n",
       "      <td>2017-05-06 20:26:25.5530000</td>\n",
       "      <td>64707e97-d5e1-4622-a89a-bebf8432fd33</td>\n",
       "    </tr>\n",
       "    <tr>\n",
       "      <th>94984</th>\n",
       "      <td>2017-04-23 10:44:42.4750000</td>\n",
       "      <td>64707e97-d5e1-4622-a89a-bebf8432fd33</td>\n",
       "    </tr>\n",
       "    <tr>\n",
       "      <th>107879</th>\n",
       "      <td>2017-04-22 13:18:18.5500000</td>\n",
       "      <td>64707e97-d5e1-4622-a89a-bebf8432fd33</td>\n",
       "    </tr>\n",
       "    <tr>\n",
       "      <th>119102</th>\n",
       "      <td>2017-04-29 08:20:28.7230000</td>\n",
       "      <td>64707e97-d5e1-4622-a89a-bebf8432fd33</td>\n",
       "    </tr>\n",
       "    <tr>\n",
       "      <th>119165</th>\n",
       "      <td>2017-04-25 21:46:27.3920000</td>\n",
       "      <td>64707e97-d5e1-4622-a89a-bebf8432fd33</td>\n",
       "    </tr>\n",
       "    <tr>\n",
       "      <th>143851</th>\n",
       "      <td>2017-04-24 13:37:47.6700000</td>\n",
       "      <td>64707e97-d5e1-4622-a89a-bebf8432fd33</td>\n",
       "    </tr>\n",
       "  </tbody>\n",
       "</table>\n",
       "</div>"
      ],
      "text/plain": [
       "                        dateCreated                                userId\n",
       "3546    2017-06-18 14:37:37.9440000  64707e97-d5e1-4622-a89a-bebf8432fd33\n",
       "5971    2017-06-12 22:01:10.1370000  64707e97-d5e1-4622-a89a-bebf8432fd33\n",
       "19005   2017-05-03 13:33:59.7640000  64707e97-d5e1-4622-a89a-bebf8432fd33\n",
       "21714   2017-04-28 19:59:15.8070000  64707e97-d5e1-4622-a89a-bebf8432fd33\n",
       "24570   2017-06-17 16:23:33.1480000  64707e97-d5e1-4622-a89a-bebf8432fd33\n",
       "28712   2017-04-29 01:35:00.5760000  64707e97-d5e1-4622-a89a-bebf8432fd33\n",
       "51908   2017-05-08 19:21:14.6090000  64707e97-d5e1-4622-a89a-bebf8432fd33\n",
       "51949   2017-06-26 18:20:45.3800000  64707e97-d5e1-4622-a89a-bebf8432fd33\n",
       "69823   2017-05-11 14:06:54.7120000  64707e97-d5e1-4622-a89a-bebf8432fd33\n",
       "73750   2017-05-06 20:26:25.5530000  64707e97-d5e1-4622-a89a-bebf8432fd33\n",
       "94984   2017-04-23 10:44:42.4750000  64707e97-d5e1-4622-a89a-bebf8432fd33\n",
       "107879  2017-04-22 13:18:18.5500000  64707e97-d5e1-4622-a89a-bebf8432fd33\n",
       "119102  2017-04-29 08:20:28.7230000  64707e97-d5e1-4622-a89a-bebf8432fd33\n",
       "119165  2017-04-25 21:46:27.3920000  64707e97-d5e1-4622-a89a-bebf8432fd33\n",
       "143851  2017-04-24 13:37:47.6700000  64707e97-d5e1-4622-a89a-bebf8432fd33"
      ]
     },
     "execution_count": 28,
     "metadata": {},
     "output_type": "execute_result"
    }
   ],
   "source": [
    "app_starts_df[app_starts_df.userId == \"64707e97-d5e1-4622-a89a-bebf8432fd33\"]"
   ]
  },
  {
   "cell_type": "code",
   "execution_count": 29,
   "id": "a63a15c5-9509-499e-bd3d-83b35011a0a7",
   "metadata": {
    "pycharm": {
     "name": "#%%\n"
    }
   },
   "outputs": [
    {
     "data": {
      "text/html": [
       "<div>\n",
       "<style scoped>\n",
       "    .dataframe tbody tr th:only-of-type {\n",
       "        vertical-align: middle;\n",
       "    }\n",
       "\n",
       "    .dataframe tbody tr th {\n",
       "        vertical-align: top;\n",
       "    }\n",
       "\n",
       "    .dataframe thead th {\n",
       "        text-align: right;\n",
       "    }\n",
       "</style>\n",
       "<table border=\"1\" class=\"dataframe\">\n",
       "  <thead>\n",
       "    <tr style=\"text-align: right;\">\n",
       "      <th></th>\n",
       "      <th>dateCreated</th>\n",
       "      <th>userId</th>\n",
       "    </tr>\n",
       "  </thead>\n",
       "  <tbody>\n",
       "    <tr>\n",
       "      <th>29098</th>\n",
       "      <td>2017-07-22 22:32:35.4240000</td>\n",
       "      <td>64707e97-d5e1-4622-a89a-bebf8432fd33</td>\n",
       "    </tr>\n",
       "    <tr>\n",
       "      <th>33720</th>\n",
       "      <td>2017-07-11 15:41:56.5040000</td>\n",
       "      <td>64707e97-d5e1-4622-a89a-bebf8432fd33</td>\n",
       "    </tr>\n",
       "  </tbody>\n",
       "</table>\n",
       "</div>"
      ],
      "text/plain": [
       "                       dateCreated                                userId\n",
       "29098  2017-07-22 22:32:35.4240000  64707e97-d5e1-4622-a89a-bebf8432fd33\n",
       "33720  2017-07-11 15:41:56.5040000  64707e97-d5e1-4622-a89a-bebf8432fd33"
      ]
     },
     "execution_count": 29,
     "metadata": {},
     "output_type": "execute_result"
    }
   ],
   "source": [
    "app_starts_july_df[app_starts_july_df.userId == \"64707e97-d5e1-4622-a89a-bebf8432fd33\"]"
   ]
  },
  {
   "cell_type": "code",
   "execution_count": 30,
   "id": "3e324eed-20e1-49c1-97a5-6c3c6a04a14c",
   "metadata": {
    "pycharm": {
     "name": "#%%\n"
    }
   },
   "outputs": [
    {
     "data": {
      "text/html": [
       "<div>\n",
       "<style scoped>\n",
       "    .dataframe tbody tr th:only-of-type {\n",
       "        vertical-align: middle;\n",
       "    }\n",
       "\n",
       "    .dataframe tbody tr th {\n",
       "        vertical-align: top;\n",
       "    }\n",
       "\n",
       "    .dataframe thead th {\n",
       "        text-align: right;\n",
       "    }\n",
       "</style>\n",
       "<table border=\"1\" class=\"dataframe\">\n",
       "  <thead>\n",
       "    <tr style=\"text-align: right;\">\n",
       "      <th></th>\n",
       "      <th>id</th>\n",
       "      <th>InstallDate</th>\n",
       "      <th>productId</th>\n",
       "      <th>userId</th>\n",
       "      <th>model</th>\n",
       "      <th>campaignId</th>\n",
       "    </tr>\n",
       "  </thead>\n",
       "  <tbody>\n",
       "    <tr>\n",
       "      <th>3</th>\n",
       "      <td>36897929</td>\n",
       "      <td>2017-04-22 13:18:18.4370000</td>\n",
       "      <td>com-bonial-kaufda</td>\n",
       "      <td>64707e97-d5e1-4622-a89a-bebf8432fd33</td>\n",
       "      <td>sm-g955f</td>\n",
       "      <td>000000</td>\n",
       "    </tr>\n",
       "  </tbody>\n",
       "</table>\n",
       "</div>"
      ],
      "text/plain": [
       "         id                  InstallDate          productId  \\\n",
       "3  36897929  2017-04-22 13:18:18.4370000  com-bonial-kaufda   \n",
       "\n",
       "                                 userId     model campaignId  \n",
       "3  64707e97-d5e1-4622-a89a-bebf8432fd33  sm-g955f     000000  "
      ]
     },
     "execution_count": 30,
     "metadata": {},
     "output_type": "execute_result"
    }
   ],
   "source": [
    "installs_df[installs_df.userId == \"64707e97-d5e1-4622-a89a-bebf8432fd33\"]"
   ]
  },
  {
   "cell_type": "code",
   "execution_count": 31,
   "id": "de26b6f4-77b5-4461-9634-aa1a5495ba6b",
   "metadata": {
    "pycharm": {
     "name": "#%%\n"
    }
   },
   "outputs": [
    {
     "data": {
      "text/plain": [
       "((20000, 6), 20000)"
      ]
     },
     "execution_count": 31,
     "metadata": {},
     "output_type": "execute_result"
    }
   ],
   "source": [
    "installs_df.shape, installs_df.userId.nunique()"
   ]
  },
  {
   "cell_type": "code",
   "execution_count": 32,
   "id": "34ebbe15-1a3e-410c-86b0-6792cda6fda7",
   "metadata": {
    "pycharm": {
     "name": "#%%\n"
    }
   },
   "outputs": [
    {
     "data": {
      "text/plain": [
       "((279213, 7), (74431, 7))"
      ]
     },
     "execution_count": 32,
     "metadata": {},
     "output_type": "execute_result"
    }
   ],
   "source": [
    "brochure_views_df['origin'] = \"past\"\n",
    "brochure_views_july_df['origin'] = \"july\"\n",
    "brochure_views_df.shape, brochure_views_july_df.shape\n"
   ]
  },
  {
   "cell_type": "code",
   "execution_count": 33,
   "id": "e0127601-9e8e-46ba-a726-9d751902c9e0",
   "metadata": {
    "pycharm": {
     "name": "#%%\n"
    }
   },
   "outputs": [
    {
     "data": {
      "text/plain": [
       "279213"
      ]
     },
     "execution_count": 33,
     "metadata": {},
     "output_type": "execute_result"
    }
   ],
   "source": [
    "brochure_views_df.id.nunique()"
   ]
  },
  {
   "cell_type": "code",
   "execution_count": 34,
   "id": "843d5278-49de-429e-b7cd-8dbc87777f0d",
   "metadata": {
    "pycharm": {
     "name": "#%%\n"
    }
   },
   "outputs": [
    {
     "name": "stderr",
     "output_type": "stream",
     "text": [
      "C:\\Users\\eias\\AppData\\Local\\Temp\\ipykernel_19808\\3178870620.py:1: FutureWarning: The frame.append method is deprecated and will be removed from pandas in a future version. Use pandas.concat instead.\n",
      "  train_df = brochure_views_df.append(brochure_views_july_df, ignore_index=True)\n"
     ]
    },
    {
     "data": {
      "text/plain": [
       "(353644, 7)"
      ]
     },
     "execution_count": 34,
     "metadata": {},
     "output_type": "execute_result"
    }
   ],
   "source": [
    "train_df = brochure_views_df.append(brochure_views_july_df, ignore_index=True)\n",
    "train_df.shape"
   ]
  },
  {
   "cell_type": "code",
   "execution_count": 35,
   "id": "afcc9bee-5a5d-4910-861d-94ed3616d3d5",
   "metadata": {
    "pycharm": {
     "name": "#%%\n"
    }
   },
   "outputs": [
    {
     "data": {
      "text/html": [
       "<div>\n",
       "<style scoped>\n",
       "    .dataframe tbody tr th:only-of-type {\n",
       "        vertical-align: middle;\n",
       "    }\n",
       "\n",
       "    .dataframe tbody tr th {\n",
       "        vertical-align: top;\n",
       "    }\n",
       "\n",
       "    .dataframe thead th {\n",
       "        text-align: right;\n",
       "    }\n",
       "</style>\n",
       "<table border=\"1\" class=\"dataframe\">\n",
       "  <thead>\n",
       "    <tr style=\"text-align: right;\">\n",
       "      <th></th>\n",
       "      <th>id</th>\n",
       "      <th>userId</th>\n",
       "      <th>dateCreated</th>\n",
       "      <th>page_turn_count</th>\n",
       "      <th>view_duration</th>\n",
       "      <th>brochure_id</th>\n",
       "      <th>origin</th>\n",
       "    </tr>\n",
       "  </thead>\n",
       "  <tbody>\n",
       "    <tr>\n",
       "      <th>0</th>\n",
       "      <td>6269194661</td>\n",
       "      <td>9491a960-206a-4a58-9177-e78cb1f05e70</td>\n",
       "      <td>2017-04-30 23:47:09.5390000</td>\n",
       "      <td>30</td>\n",
       "      <td>95172.0</td>\n",
       "      <td>672239440</td>\n",
       "      <td>past</td>\n",
       "    </tr>\n",
       "    <tr>\n",
       "      <th>1</th>\n",
       "      <td>6269192581</td>\n",
       "      <td>9491a960-206a-4a58-9177-e78cb1f05e70</td>\n",
       "      <td>2017-04-30 23:47:00.6970000</td>\n",
       "      <td>2</td>\n",
       "      <td>4000.0</td>\n",
       "      <td>673861625</td>\n",
       "      <td>past</td>\n",
       "    </tr>\n",
       "    <tr>\n",
       "      <th>2</th>\n",
       "      <td>6269188351</td>\n",
       "      <td>9491a960-206a-4a58-9177-e78cb1f05e70</td>\n",
       "      <td>2017-04-30 23:46:39.9170000</td>\n",
       "      <td>1</td>\n",
       "      <td>14000.0</td>\n",
       "      <td>660764240</td>\n",
       "      <td>past</td>\n",
       "    </tr>\n",
       "    <tr>\n",
       "      <th>3</th>\n",
       "      <td>6204426632</td>\n",
       "      <td>fa623647-dfc9-49b4-bbb6-77cbacd599f4</td>\n",
       "      <td>2017-04-30 23:46:13.5970000</td>\n",
       "      <td>64</td>\n",
       "      <td>168000.0</td>\n",
       "      <td>672658544</td>\n",
       "      <td>past</td>\n",
       "    </tr>\n",
       "    <tr>\n",
       "      <th>4</th>\n",
       "      <td>6204424112</td>\n",
       "      <td>9491a960-206a-4a58-9177-e78cb1f05e70</td>\n",
       "      <td>2017-04-30 23:46:02.1970000</td>\n",
       "      <td>1</td>\n",
       "      <td>33000.0</td>\n",
       "      <td>660764240</td>\n",
       "      <td>past</td>\n",
       "    </tr>\n",
       "  </tbody>\n",
       "</table>\n",
       "</div>"
      ],
      "text/plain": [
       "           id                                userId  \\\n",
       "0  6269194661  9491a960-206a-4a58-9177-e78cb1f05e70   \n",
       "1  6269192581  9491a960-206a-4a58-9177-e78cb1f05e70   \n",
       "2  6269188351  9491a960-206a-4a58-9177-e78cb1f05e70   \n",
       "3  6204426632  fa623647-dfc9-49b4-bbb6-77cbacd599f4   \n",
       "4  6204424112  9491a960-206a-4a58-9177-e78cb1f05e70   \n",
       "\n",
       "                   dateCreated  page_turn_count  view_duration  brochure_id  \\\n",
       "0  2017-04-30 23:47:09.5390000               30        95172.0    672239440   \n",
       "1  2017-04-30 23:47:00.6970000                2         4000.0    673861625   \n",
       "2  2017-04-30 23:46:39.9170000                1        14000.0    660764240   \n",
       "3  2017-04-30 23:46:13.5970000               64       168000.0    672658544   \n",
       "4  2017-04-30 23:46:02.1970000                1        33000.0    660764240   \n",
       "\n",
       "  origin  \n",
       "0   past  \n",
       "1   past  \n",
       "2   past  \n",
       "3   past  \n",
       "4   past  "
      ]
     },
     "execution_count": 35,
     "metadata": {},
     "output_type": "execute_result"
    }
   ],
   "source": [
    "train_df.head()"
   ]
  },
  {
   "cell_type": "code",
   "execution_count": 36,
   "id": "9fb0f1a9-0c7c-4d39-8bbd-9bedc99bc39e",
   "metadata": {
    "pycharm": {
     "name": "#%%\n"
    }
   },
   "outputs": [],
   "source": [
    "train_df = train_df.rename(columns = {'dateCreated': 'brochure_dateCreated'}, inplace = False)\n"
   ]
  },
  {
   "cell_type": "code",
   "execution_count": 37,
   "id": "6c299a99-57d8-4896-8f8b-ebca8f12cc9a",
   "metadata": {
    "pycharm": {
     "name": "#%%\n"
    }
   },
   "outputs": [
    {
     "data": {
      "text/plain": [
       "353644"
      ]
     },
     "execution_count": 37,
     "metadata": {},
     "output_type": "execute_result"
    }
   ],
   "source": [
    "train_df.id.nunique()"
   ]
  },
  {
   "cell_type": "code",
   "execution_count": 38,
   "id": "0b640699-a46b-4a4c-8dcf-1614805e8f72",
   "metadata": {
    "pycharm": {
     "name": "#%%\n"
    }
   },
   "outputs": [],
   "source": [
    "app_starts_df['app_origin'] = \"past\"\n",
    "app_starts_july_df['app_origin'] = \"july\""
   ]
  },
  {
   "cell_type": "code",
   "execution_count": 39,
   "id": "e8a59a54-13dd-4eda-a580-780311ea7808",
   "metadata": {
    "pycharm": {
     "name": "#%%\n"
    }
   },
   "outputs": [
    {
     "name": "stderr",
     "output_type": "stream",
     "text": [
      "C:\\Users\\eias\\AppData\\Local\\Temp\\ipykernel_19808\\2429464619.py:1: FutureWarning: The frame.append method is deprecated and will be removed from pandas in a future version. Use pandas.concat instead.\n",
      "  train_app_df = app_starts_df.append(app_starts_july_df, ignore_index=True)\n"
     ]
    }
   ],
   "source": [
    "train_app_df = app_starts_df.append(app_starts_july_df, ignore_index=True)\n"
   ]
  },
  {
   "cell_type": "code",
   "execution_count": 40,
   "id": "f6753c6a-681e-4373-ba0c-e3a490ff6bc6",
   "metadata": {
    "pycharm": {
     "name": "#%%\n"
    }
   },
   "outputs": [
    {
     "data": {
      "text/html": [
       "<div>\n",
       "<style scoped>\n",
       "    .dataframe tbody tr th:only-of-type {\n",
       "        vertical-align: middle;\n",
       "    }\n",
       "\n",
       "    .dataframe tbody tr th {\n",
       "        vertical-align: top;\n",
       "    }\n",
       "\n",
       "    .dataframe thead th {\n",
       "        text-align: right;\n",
       "    }\n",
       "</style>\n",
       "<table border=\"1\" class=\"dataframe\">\n",
       "  <thead>\n",
       "    <tr style=\"text-align: right;\">\n",
       "      <th></th>\n",
       "      <th>id</th>\n",
       "      <th>userId</th>\n",
       "      <th>brochure_dateCreated</th>\n",
       "      <th>page_turn_count</th>\n",
       "      <th>view_duration</th>\n",
       "      <th>brochure_id</th>\n",
       "      <th>origin</th>\n",
       "    </tr>\n",
       "  </thead>\n",
       "  <tbody>\n",
       "    <tr>\n",
       "      <th>0</th>\n",
       "      <td>6269194661</td>\n",
       "      <td>9491a960-206a-4a58-9177-e78cb1f05e70</td>\n",
       "      <td>2017-04-30 23:47:09.5390000</td>\n",
       "      <td>30</td>\n",
       "      <td>95172.0</td>\n",
       "      <td>672239440</td>\n",
       "      <td>past</td>\n",
       "    </tr>\n",
       "    <tr>\n",
       "      <th>1</th>\n",
       "      <td>6269192581</td>\n",
       "      <td>9491a960-206a-4a58-9177-e78cb1f05e70</td>\n",
       "      <td>2017-04-30 23:47:00.6970000</td>\n",
       "      <td>2</td>\n",
       "      <td>4000.0</td>\n",
       "      <td>673861625</td>\n",
       "      <td>past</td>\n",
       "    </tr>\n",
       "    <tr>\n",
       "      <th>2</th>\n",
       "      <td>6269188351</td>\n",
       "      <td>9491a960-206a-4a58-9177-e78cb1f05e70</td>\n",
       "      <td>2017-04-30 23:46:39.9170000</td>\n",
       "      <td>1</td>\n",
       "      <td>14000.0</td>\n",
       "      <td>660764240</td>\n",
       "      <td>past</td>\n",
       "    </tr>\n",
       "    <tr>\n",
       "      <th>3</th>\n",
       "      <td>6204426632</td>\n",
       "      <td>fa623647-dfc9-49b4-bbb6-77cbacd599f4</td>\n",
       "      <td>2017-04-30 23:46:13.5970000</td>\n",
       "      <td>64</td>\n",
       "      <td>168000.0</td>\n",
       "      <td>672658544</td>\n",
       "      <td>past</td>\n",
       "    </tr>\n",
       "    <tr>\n",
       "      <th>4</th>\n",
       "      <td>6204424112</td>\n",
       "      <td>9491a960-206a-4a58-9177-e78cb1f05e70</td>\n",
       "      <td>2017-04-30 23:46:02.1970000</td>\n",
       "      <td>1</td>\n",
       "      <td>33000.0</td>\n",
       "      <td>660764240</td>\n",
       "      <td>past</td>\n",
       "    </tr>\n",
       "  </tbody>\n",
       "</table>\n",
       "</div>"
      ],
      "text/plain": [
       "           id                                userId  \\\n",
       "0  6269194661  9491a960-206a-4a58-9177-e78cb1f05e70   \n",
       "1  6269192581  9491a960-206a-4a58-9177-e78cb1f05e70   \n",
       "2  6269188351  9491a960-206a-4a58-9177-e78cb1f05e70   \n",
       "3  6204426632  fa623647-dfc9-49b4-bbb6-77cbacd599f4   \n",
       "4  6204424112  9491a960-206a-4a58-9177-e78cb1f05e70   \n",
       "\n",
       "          brochure_dateCreated  page_turn_count  view_duration  brochure_id  \\\n",
       "0  2017-04-30 23:47:09.5390000               30        95172.0    672239440   \n",
       "1  2017-04-30 23:47:00.6970000                2         4000.0    673861625   \n",
       "2  2017-04-30 23:46:39.9170000                1        14000.0    660764240   \n",
       "3  2017-04-30 23:46:13.5970000               64       168000.0    672658544   \n",
       "4  2017-04-30 23:46:02.1970000                1        33000.0    660764240   \n",
       "\n",
       "  origin  \n",
       "0   past  \n",
       "1   past  \n",
       "2   past  \n",
       "3   past  \n",
       "4   past  "
      ]
     },
     "execution_count": 40,
     "metadata": {},
     "output_type": "execute_result"
    }
   ],
   "source": [
    "train_df.head()"
   ]
  },
  {
   "cell_type": "code",
   "execution_count": 41,
   "id": "d5c54bff-3eb4-482e-ad5f-9032ce5ee96d",
   "metadata": {
    "pycharm": {
     "name": "#%%\n"
    }
   },
   "outputs": [
    {
     "data": {
      "text/html": [
       "<div>\n",
       "<style scoped>\n",
       "    .dataframe tbody tr th:only-of-type {\n",
       "        vertical-align: middle;\n",
       "    }\n",
       "\n",
       "    .dataframe tbody tr th {\n",
       "        vertical-align: top;\n",
       "    }\n",
       "\n",
       "    .dataframe thead th {\n",
       "        text-align: right;\n",
       "    }\n",
       "</style>\n",
       "<table border=\"1\" class=\"dataframe\">\n",
       "  <thead>\n",
       "    <tr style=\"text-align: right;\">\n",
       "      <th></th>\n",
       "      <th>dateCreated</th>\n",
       "      <th>userId</th>\n",
       "      <th>app_origin</th>\n",
       "    </tr>\n",
       "  </thead>\n",
       "  <tbody>\n",
       "    <tr>\n",
       "      <th>0</th>\n",
       "      <td>2017-06-30 14:14:54.7930000</td>\n",
       "      <td>50e72534-a4f4-40d7-96d5-ecbe4eb314e9</td>\n",
       "      <td>past</td>\n",
       "    </tr>\n",
       "    <tr>\n",
       "      <th>1</th>\n",
       "      <td>2017-06-30 14:03:13.0100000</td>\n",
       "      <td>b3712849-595e-403f-84d2-4698439056b0</td>\n",
       "      <td>past</td>\n",
       "    </tr>\n",
       "    <tr>\n",
       "      <th>2</th>\n",
       "      <td>2017-06-28 16:26:48.3830000</td>\n",
       "      <td>99cea50b-3ecf-4102-8290-997eaf32a6b6</td>\n",
       "      <td>past</td>\n",
       "    </tr>\n",
       "    <tr>\n",
       "      <th>3</th>\n",
       "      <td>2017-06-27 10:23:29.9430000</td>\n",
       "      <td>78c06433-9ea8-4835-aff5-f64b262d0fb4</td>\n",
       "      <td>past</td>\n",
       "    </tr>\n",
       "    <tr>\n",
       "      <th>4</th>\n",
       "      <td>2017-06-27 10:11:27.6340000</td>\n",
       "      <td>510c5f9e-de54-45ee-909c-c14103130e5e</td>\n",
       "      <td>past</td>\n",
       "    </tr>\n",
       "  </tbody>\n",
       "</table>\n",
       "</div>"
      ],
      "text/plain": [
       "                   dateCreated                                userId  \\\n",
       "0  2017-06-30 14:14:54.7930000  50e72534-a4f4-40d7-96d5-ecbe4eb314e9   \n",
       "1  2017-06-30 14:03:13.0100000  b3712849-595e-403f-84d2-4698439056b0   \n",
       "2  2017-06-28 16:26:48.3830000  99cea50b-3ecf-4102-8290-997eaf32a6b6   \n",
       "3  2017-06-27 10:23:29.9430000  78c06433-9ea8-4835-aff5-f64b262d0fb4   \n",
       "4  2017-06-27 10:11:27.6340000  510c5f9e-de54-45ee-909c-c14103130e5e   \n",
       "\n",
       "  app_origin  \n",
       "0       past  \n",
       "1       past  \n",
       "2       past  \n",
       "3       past  \n",
       "4       past  "
      ]
     },
     "execution_count": 41,
     "metadata": {},
     "output_type": "execute_result"
    }
   ],
   "source": [
    "train_app_df.head()"
   ]
  },
  {
   "cell_type": "code",
   "execution_count": 42,
   "id": "2103dceb-7b0e-4481-90be-a6c7d55ff06f",
   "metadata": {
    "pycharm": {
     "name": "#%%\n"
    }
   },
   "outputs": [],
   "source": [
    "train_app_df = train_app_df.rename(columns = {'dateCreated': 'app_start_dateCreated'}, inplace = False)\n"
   ]
  },
  {
   "cell_type": "code",
   "execution_count": 43,
   "id": "110374dd-6882-44f6-ab84-9dbaaa94aa54",
   "metadata": {
    "pycharm": {
     "name": "#%%\n"
    }
   },
   "outputs": [
    {
     "data": {
      "text/plain": [
       "(184073, 3)"
      ]
     },
     "execution_count": 43,
     "metadata": {},
     "output_type": "execute_result"
    }
   ],
   "source": [
    "train_app_df.shape"
   ]
  },
  {
   "cell_type": "code",
   "execution_count": 44,
   "id": "c033f4f7-4fa4-4b47-82d1-c83b4001bd07",
   "metadata": {
    "pycharm": {
     "name": "#%%\n"
    }
   },
   "outputs": [
    {
     "data": {
      "text/html": [
       "<div>\n",
       "<style scoped>\n",
       "    .dataframe tbody tr th:only-of-type {\n",
       "        vertical-align: middle;\n",
       "    }\n",
       "\n",
       "    .dataframe tbody tr th {\n",
       "        vertical-align: top;\n",
       "    }\n",
       "\n",
       "    .dataframe thead th {\n",
       "        text-align: right;\n",
       "    }\n",
       "</style>\n",
       "<table border=\"1\" class=\"dataframe\">\n",
       "  <thead>\n",
       "    <tr style=\"text-align: right;\">\n",
       "      <th></th>\n",
       "      <th>app_start_dateCreated</th>\n",
       "      <th>userId</th>\n",
       "      <th>app_origin</th>\n",
       "    </tr>\n",
       "  </thead>\n",
       "  <tbody>\n",
       "    <tr>\n",
       "      <th>0</th>\n",
       "      <td>2017-06-30 14:14:54.7930000</td>\n",
       "      <td>50e72534-a4f4-40d7-96d5-ecbe4eb314e9</td>\n",
       "      <td>past</td>\n",
       "    </tr>\n",
       "  </tbody>\n",
       "</table>\n",
       "</div>"
      ],
      "text/plain": [
       "         app_start_dateCreated                                userId  \\\n",
       "0  2017-06-30 14:14:54.7930000  50e72534-a4f4-40d7-96d5-ecbe4eb314e9   \n",
       "\n",
       "  app_origin  \n",
       "0       past  "
      ]
     },
     "execution_count": 44,
     "metadata": {},
     "output_type": "execute_result"
    }
   ],
   "source": [
    "train_app_df[train_app_df.app_start_dateCreated == '2017-06-30 14:14:54.7930000']"
   ]
  },
  {
   "cell_type": "code",
   "execution_count": 45,
   "id": "1c654400-4b1b-4ac6-a439-a251229014af",
   "metadata": {
    "pycharm": {
     "name": "#%%\n"
    }
   },
   "outputs": [
    {
     "data": {
      "text/html": [
       "<div>\n",
       "<style scoped>\n",
       "    .dataframe tbody tr th:only-of-type {\n",
       "        vertical-align: middle;\n",
       "    }\n",
       "\n",
       "    .dataframe tbody tr th {\n",
       "        vertical-align: top;\n",
       "    }\n",
       "\n",
       "    .dataframe thead th {\n",
       "        text-align: right;\n",
       "    }\n",
       "</style>\n",
       "<table border=\"1\" class=\"dataframe\">\n",
       "  <thead>\n",
       "    <tr style=\"text-align: right;\">\n",
       "      <th></th>\n",
       "      <th>id</th>\n",
       "      <th>userId</th>\n",
       "      <th>brochure_dateCreated</th>\n",
       "      <th>page_turn_count</th>\n",
       "      <th>view_duration</th>\n",
       "      <th>brochure_id</th>\n",
       "      <th>origin</th>\n",
       "    </tr>\n",
       "  </thead>\n",
       "  <tbody>\n",
       "  </tbody>\n",
       "</table>\n",
       "</div>"
      ],
      "text/plain": [
       "Empty DataFrame\n",
       "Columns: [id, userId, brochure_dateCreated, page_turn_count, view_duration, brochure_id, origin]\n",
       "Index: []"
      ]
     },
     "execution_count": 45,
     "metadata": {},
     "output_type": "execute_result"
    }
   ],
   "source": [
    "train_df[train_df.brochure_dateCreated == '2017-06-30 14:14:54.7930000']"
   ]
  },
  {
   "cell_type": "code",
   "execution_count": 46,
   "id": "aabe13ec-b4c9-4f13-9227-66eafb25bf69",
   "metadata": {
    "pycharm": {
     "name": "#%%\n"
    }
   },
   "outputs": [
    {
     "data": {
      "text/plain": [
       "Index(['id', 'InstallDate', 'productId', 'userId', 'model', 'campaignId'], dtype='object')"
      ]
     },
     "execution_count": 46,
     "metadata": {},
     "output_type": "execute_result"
    }
   ],
   "source": [
    "installs_df.columns"
   ]
  },
  {
   "cell_type": "code",
   "execution_count": 47,
   "id": "5e1a1ea5-f4cd-45c1-ab8c-dc31663ffffe",
   "metadata": {
    "pycharm": {
     "name": "#%%\n"
    }
   },
   "outputs": [
    {
     "data": {
      "text/plain": [
       "array(['2017-04-21 13:16:18.5990000'], dtype=object)"
      ]
     },
     "execution_count": 47,
     "metadata": {},
     "output_type": "execute_result"
    }
   ],
   "source": [
    "installs_df[installs_df.userId == '50e72534-a4f4-40d7-96d5-ecbe4eb314e9'].InstallDate.unique()"
   ]
  },
  {
   "cell_type": "code",
   "execution_count": 48,
   "id": "fbfd87ea-45f1-4fdd-a3d1-2c45d794166c",
   "metadata": {
    "pycharm": {
     "name": "#%%\n"
    }
   },
   "outputs": [
    {
     "data": {
      "text/plain": [
       "(11061, 20000)"
      ]
     },
     "execution_count": 48,
     "metadata": {},
     "output_type": "execute_result"
    }
   ],
   "source": [
    "train_df.userId.nunique(), installs_df.userId.nunique()"
   ]
  },
  {
   "cell_type": "code",
   "execution_count": 49,
   "id": "ceacf9f2-4b99-43f5-986a-1f6519f5de48",
   "metadata": {
    "pycharm": {
     "name": "#%%\n"
    }
   },
   "outputs": [
    {
     "data": {
      "text/html": [
       "<div>\n",
       "<style scoped>\n",
       "    .dataframe tbody tr th:only-of-type {\n",
       "        vertical-align: middle;\n",
       "    }\n",
       "\n",
       "    .dataframe tbody tr th {\n",
       "        vertical-align: top;\n",
       "    }\n",
       "\n",
       "    .dataframe thead th {\n",
       "        text-align: right;\n",
       "    }\n",
       "</style>\n",
       "<table border=\"1\" class=\"dataframe\">\n",
       "  <thead>\n",
       "    <tr style=\"text-align: right;\">\n",
       "      <th></th>\n",
       "      <th>id</th>\n",
       "      <th>userId</th>\n",
       "      <th>brochure_dateCreated</th>\n",
       "      <th>page_turn_count</th>\n",
       "      <th>view_duration</th>\n",
       "      <th>brochure_id</th>\n",
       "      <th>origin</th>\n",
       "    </tr>\n",
       "  </thead>\n",
       "  <tbody>\n",
       "    <tr>\n",
       "      <th>52478</th>\n",
       "      <td>5859928322</td>\n",
       "      <td>0715AF30-52A5-4936-BA65-D3A65A822363</td>\n",
       "      <td>2017-04-09 14:07:00.7590000</td>\n",
       "      <td>34</td>\n",
       "      <td>134000.0</td>\n",
       "      <td>666027879</td>\n",
       "      <td>past</td>\n",
       "    </tr>\n",
       "    <tr>\n",
       "      <th>52484</th>\n",
       "      <td>5859684902</td>\n",
       "      <td>0715AF30-52A5-4936-BA65-D3A65A822363</td>\n",
       "      <td>2017-04-09 13:50:03.3420000</td>\n",
       "      <td>30</td>\n",
       "      <td>177000.0</td>\n",
       "      <td>665749226</td>\n",
       "      <td>past</td>\n",
       "    </tr>\n",
       "    <tr>\n",
       "      <th>52485</th>\n",
       "      <td>5859784782</td>\n",
       "      <td>0715AF30-52A5-4936-BA65-D3A65A822363</td>\n",
       "      <td>2017-04-09 13:56:52.1690000</td>\n",
       "      <td>1</td>\n",
       "      <td>6000.0</td>\n",
       "      <td>541614364</td>\n",
       "      <td>past</td>\n",
       "    </tr>\n",
       "    <tr>\n",
       "      <th>52486</th>\n",
       "      <td>5859782142</td>\n",
       "      <td>0715AF30-52A5-4936-BA65-D3A65A822363</td>\n",
       "      <td>2017-04-09 13:56:40.5350000</td>\n",
       "      <td>1</td>\n",
       "      <td>1000.0</td>\n",
       "      <td>665749226</td>\n",
       "      <td>past</td>\n",
       "    </tr>\n",
       "  </tbody>\n",
       "</table>\n",
       "</div>"
      ],
      "text/plain": [
       "               id                                userId  \\\n",
       "52478  5859928322  0715AF30-52A5-4936-BA65-D3A65A822363   \n",
       "52484  5859684902  0715AF30-52A5-4936-BA65-D3A65A822363   \n",
       "52485  5859784782  0715AF30-52A5-4936-BA65-D3A65A822363   \n",
       "52486  5859782142  0715AF30-52A5-4936-BA65-D3A65A822363   \n",
       "\n",
       "              brochure_dateCreated  page_turn_count  view_duration  \\\n",
       "52478  2017-04-09 14:07:00.7590000               34       134000.0   \n",
       "52484  2017-04-09 13:50:03.3420000               30       177000.0   \n",
       "52485  2017-04-09 13:56:52.1690000                1         6000.0   \n",
       "52486  2017-04-09 13:56:40.5350000                1         1000.0   \n",
       "\n",
       "       brochure_id origin  \n",
       "52478    666027879   past  \n",
       "52484    665749226   past  \n",
       "52485    541614364   past  \n",
       "52486    665749226   past  "
      ]
     },
     "execution_count": 49,
     "metadata": {},
     "output_type": "execute_result"
    }
   ],
   "source": [
    "train_df[train_df.userId == '0715AF30-52A5-4936-BA65-D3A65A822363']"
   ]
  },
  {
   "cell_type": "code",
   "execution_count": 50,
   "id": "3c3df754-0d44-46ee-baa4-9f22681afa69",
   "metadata": {
    "pycharm": {
     "name": "#%%\n"
    }
   },
   "outputs": [
    {
     "data": {
      "text/html": [
       "<div>\n",
       "<style scoped>\n",
       "    .dataframe tbody tr th:only-of-type {\n",
       "        vertical-align: middle;\n",
       "    }\n",
       "\n",
       "    .dataframe tbody tr th {\n",
       "        vertical-align: top;\n",
       "    }\n",
       "\n",
       "    .dataframe thead th {\n",
       "        text-align: right;\n",
       "    }\n",
       "</style>\n",
       "<table border=\"1\" class=\"dataframe\">\n",
       "  <thead>\n",
       "    <tr style=\"text-align: right;\">\n",
       "      <th></th>\n",
       "      <th>id</th>\n",
       "      <th>InstallDate</th>\n",
       "      <th>productId</th>\n",
       "      <th>userId</th>\n",
       "      <th>model</th>\n",
       "      <th>campaignId</th>\n",
       "    </tr>\n",
       "  </thead>\n",
       "  <tbody>\n",
       "  </tbody>\n",
       "</table>\n",
       "</div>"
      ],
      "text/plain": [
       "Empty DataFrame\n",
       "Columns: [id, InstallDate, productId, userId, model, campaignId]\n",
       "Index: []"
      ]
     },
     "execution_count": 50,
     "metadata": {},
     "output_type": "execute_result"
    }
   ],
   "source": [
    "installs_df[installs_df.userId == '0715AF30-52A5-4936-BA65-D3A65A822363']"
   ]
  },
  {
   "cell_type": "code",
   "execution_count": 51,
   "id": "c81a3b55-04da-44d9-9df3-81f8be003e74",
   "metadata": {
    "pycharm": {
     "name": "#%%\n"
    }
   },
   "outputs": [
    {
     "data": {
      "text/plain": [
       "2458"
      ]
     },
     "execution_count": 51,
     "metadata": {},
     "output_type": "execute_result"
    }
   ],
   "source": [
    "len(set(train_df.userId.unique()) - set(installs_df.userId.unique()))"
   ]
  },
  {
   "cell_type": "code",
   "execution_count": 52,
   "id": "b68fd9d8-bb66-4ab9-b6d2-98984afd9db4",
   "metadata": {
    "tags": [],
    "pycharm": {
     "name": "#%%\n"
    }
   },
   "outputs": [
    {
     "data": {
      "text/plain": [
       "151"
      ]
     },
     "execution_count": 52,
     "metadata": {},
     "output_type": "execute_result"
    }
   ],
   "source": [
    "len(set(train_app_df.userId.unique()) - set(installs_df.userId.unique()))"
   ]
  },
  {
   "cell_type": "code",
   "execution_count": 53,
   "id": "a7fcf858-7993-4a4d-ab83-de697281dc67",
   "metadata": {
    "pycharm": {
     "name": "#%%\n"
    }
   },
   "outputs": [
    {
     "data": {
      "text/plain": [
       "2464"
      ]
     },
     "execution_count": 53,
     "metadata": {},
     "output_type": "execute_result"
    }
   ],
   "source": [
    "len(set(train_df.userId.unique()) - set(train_app_df.userId.unique()))"
   ]
  },
  {
   "cell_type": "code",
   "execution_count": 54,
   "id": "fcd5c30f-01b9-4066-8a00-8113b6fb2545",
   "metadata": {
    "pycharm": {
     "name": "#%%\n"
    }
   },
   "outputs": [
    {
     "data": {
      "text/plain": [
       "(11061, 20075, 20000)"
      ]
     },
     "execution_count": 54,
     "metadata": {},
     "output_type": "execute_result"
    }
   ],
   "source": [
    "train_df.userId.nunique(), train_app_df.userId.nunique(), installs_df.userId.nunique()"
   ]
  },
  {
   "cell_type": "code",
   "execution_count": 55,
   "id": "f01e17b6-f45c-4761-99df-36373ec97954",
   "metadata": {
    "pycharm": {
     "name": "#%%\n"
    }
   },
   "outputs": [
    {
     "data": {
      "text/plain": [
       "('2017-04-01 00:29:01.7110000', '2017-07-31 23:59:12.1720000')"
      ]
     },
     "execution_count": 55,
     "metadata": {},
     "output_type": "execute_result"
    }
   ],
   "source": [
    "train_df.brochure_dateCreated.min(), train_df.brochure_dateCreated.max()"
   ]
  },
  {
   "cell_type": "code",
   "execution_count": 56,
   "id": "72c13047-cfc7-4fd7-9f28-f6949fdfbf5f",
   "metadata": {
    "pycharm": {
     "name": "#%%\n"
    }
   },
   "outputs": [
    {
     "data": {
      "text/plain": [
       "('2017-04-01 00:07:05.0000000', '2017-07-31 23:59:31.5100000')"
      ]
     },
     "execution_count": 56,
     "metadata": {},
     "output_type": "execute_result"
    }
   ],
   "source": [
    "train_app_df.app_start_dateCreated.min(), train_app_df.app_start_dateCreated.max()"
   ]
  },
  {
   "cell_type": "code",
   "execution_count": 57,
   "id": "19fded1e-b072-482f-ac3b-988792613aba",
   "metadata": {
    "pycharm": {
     "name": "#%%\n"
    }
   },
   "outputs": [
    {
     "data": {
      "text/plain": [
       "('2017-04-01 00:07:03.0000000', '2017-05-31 23:45:33.9950000')"
      ]
     },
     "execution_count": 57,
     "metadata": {},
     "output_type": "execute_result"
    }
   ],
   "source": [
    "installs_df.InstallDate.min(), installs_df.InstallDate.max()"
   ]
  },
  {
   "cell_type": "code",
   "execution_count": null,
   "id": "5ede0f82-b4fd-4580-97c5-3d33a2cd18a7",
   "metadata": {
    "pycharm": {
     "name": "#%%\n"
    }
   },
   "outputs": [],
   "source": []
  },
  {
   "cell_type": "code",
   "execution_count": 58,
   "id": "500942a1-32cc-43de-8727-6af31f977d75",
   "metadata": {
    "pycharm": {
     "name": "#%%\n"
    }
   },
   "outputs": [
    {
     "data": {
      "text/html": [
       "<div>\n",
       "<style scoped>\n",
       "    .dataframe tbody tr th:only-of-type {\n",
       "        vertical-align: middle;\n",
       "    }\n",
       "\n",
       "    .dataframe tbody tr th {\n",
       "        vertical-align: top;\n",
       "    }\n",
       "\n",
       "    .dataframe thead th {\n",
       "        text-align: right;\n",
       "    }\n",
       "</style>\n",
       "<table border=\"1\" class=\"dataframe\">\n",
       "  <thead>\n",
       "    <tr style=\"text-align: right;\">\n",
       "      <th></th>\n",
       "      <th>app_start_dateCreated</th>\n",
       "      <th>userId</th>\n",
       "      <th>app_origin</th>\n",
       "    </tr>\n",
       "  </thead>\n",
       "  <tbody>\n",
       "    <tr>\n",
       "      <th>0</th>\n",
       "      <td>2017-06-30 14:14:54.7930000</td>\n",
       "      <td>50e72534-a4f4-40d7-96d5-ecbe4eb314e9</td>\n",
       "      <td>past</td>\n",
       "    </tr>\n",
       "  </tbody>\n",
       "</table>\n",
       "</div>"
      ],
      "text/plain": [
       "         app_start_dateCreated                                userId  \\\n",
       "0  2017-06-30 14:14:54.7930000  50e72534-a4f4-40d7-96d5-ecbe4eb314e9   \n",
       "\n",
       "  app_origin  \n",
       "0       past  "
      ]
     },
     "execution_count": 58,
     "metadata": {},
     "output_type": "execute_result"
    }
   ],
   "source": [
    "train_app_df[train_app_df.app_start_dateCreated == '2017-06-30 14:14:54.7930000']"
   ]
  },
  {
   "cell_type": "code",
   "execution_count": 59,
   "id": "cd625a19-eaf1-43ab-9e9a-215240c2c57b",
   "metadata": {
    "pycharm": {
     "name": "#%%\n"
    }
   },
   "outputs": [
    {
     "data": {
      "text/html": [
       "<div>\n",
       "<style scoped>\n",
       "    .dataframe tbody tr th:only-of-type {\n",
       "        vertical-align: middle;\n",
       "    }\n",
       "\n",
       "    .dataframe tbody tr th {\n",
       "        vertical-align: top;\n",
       "    }\n",
       "\n",
       "    .dataframe thead th {\n",
       "        text-align: right;\n",
       "    }\n",
       "</style>\n",
       "<table border=\"1\" class=\"dataframe\">\n",
       "  <thead>\n",
       "    <tr style=\"text-align: right;\">\n",
       "      <th></th>\n",
       "      <th>id</th>\n",
       "      <th>InstallDate</th>\n",
       "      <th>productId</th>\n",
       "      <th>userId</th>\n",
       "      <th>model</th>\n",
       "      <th>campaignId</th>\n",
       "    </tr>\n",
       "  </thead>\n",
       "  <tbody>\n",
       "    <tr>\n",
       "      <th>2009</th>\n",
       "      <td>36840989</td>\n",
       "      <td>2017-04-21 13:16:18.5990000</td>\n",
       "      <td>com-bonial-kaufda</td>\n",
       "      <td>50e72534-a4f4-40d7-96d5-ecbe4eb314e9</td>\n",
       "      <td>sm-g950f</td>\n",
       "      <td>000000</td>\n",
       "    </tr>\n",
       "  </tbody>\n",
       "</table>\n",
       "</div>"
      ],
      "text/plain": [
       "            id                  InstallDate          productId  \\\n",
       "2009  36840989  2017-04-21 13:16:18.5990000  com-bonial-kaufda   \n",
       "\n",
       "                                    userId     model campaignId  \n",
       "2009  50e72534-a4f4-40d7-96d5-ecbe4eb314e9  sm-g950f     000000  "
      ]
     },
     "execution_count": 59,
     "metadata": {},
     "output_type": "execute_result"
    }
   ],
   "source": [
    "installs_df[installs_df.userId == '50e72534-a4f4-40d7-96d5-ecbe4eb314e9']\n"
   ]
  },
  {
   "cell_type": "code",
   "execution_count": 60,
   "id": "23f24ac0-96ae-42f1-9ce0-848500c54624",
   "metadata": {
    "pycharm": {
     "name": "#%%\n"
    }
   },
   "outputs": [
    {
     "data": {
      "text/html": [
       "<div>\n",
       "<style scoped>\n",
       "    .dataframe tbody tr th:only-of-type {\n",
       "        vertical-align: middle;\n",
       "    }\n",
       "\n",
       "    .dataframe tbody tr th {\n",
       "        vertical-align: top;\n",
       "    }\n",
       "\n",
       "    .dataframe thead th {\n",
       "        text-align: right;\n",
       "    }\n",
       "</style>\n",
       "<table border=\"1\" class=\"dataframe\">\n",
       "  <thead>\n",
       "    <tr style=\"text-align: right;\">\n",
       "      <th></th>\n",
       "      <th>app_start_dateCreated</th>\n",
       "      <th>userId</th>\n",
       "      <th>app_origin</th>\n",
       "    </tr>\n",
       "  </thead>\n",
       "  <tbody>\n",
       "    <tr>\n",
       "      <th>142034</th>\n",
       "      <td>2017-04-21 13:16:18.8280000</td>\n",
       "      <td>50e72534-a4f4-40d7-96d5-ecbe4eb314e9</td>\n",
       "      <td>past</td>\n",
       "    </tr>\n",
       "  </tbody>\n",
       "</table>\n",
       "</div>"
      ],
      "text/plain": [
       "              app_start_dateCreated                                userId  \\\n",
       "142034  2017-04-21 13:16:18.8280000  50e72534-a4f4-40d7-96d5-ecbe4eb314e9   \n",
       "\n",
       "       app_origin  \n",
       "142034       past  "
      ]
     },
     "execution_count": 60,
     "metadata": {},
     "output_type": "execute_result"
    }
   ],
   "source": [
    "train_app_df[(train_app_df.userId == '50e72534-a4f4-40d7-96d5-ecbe4eb314e9') & (train_app_df.app_start_dateCreated == '2017-04-21 13:16:18.8280000')]\n"
   ]
  },
  {
   "cell_type": "code",
   "execution_count": 61,
   "id": "e9eb5274-1964-4ba2-929a-5900e9573dbd",
   "metadata": {
    "pycharm": {
     "name": "#%%\n"
    }
   },
   "outputs": [
    {
     "data": {
      "text/html": [
       "<div>\n",
       "<style scoped>\n",
       "    .dataframe tbody tr th:only-of-type {\n",
       "        vertical-align: middle;\n",
       "    }\n",
       "\n",
       "    .dataframe tbody tr th {\n",
       "        vertical-align: top;\n",
       "    }\n",
       "\n",
       "    .dataframe thead th {\n",
       "        text-align: right;\n",
       "    }\n",
       "</style>\n",
       "<table border=\"1\" class=\"dataframe\">\n",
       "  <thead>\n",
       "    <tr style=\"text-align: right;\">\n",
       "      <th></th>\n",
       "      <th>id</th>\n",
       "      <th>userId</th>\n",
       "      <th>brochure_dateCreated</th>\n",
       "      <th>page_turn_count</th>\n",
       "      <th>view_duration</th>\n",
       "      <th>brochure_id</th>\n",
       "      <th>origin</th>\n",
       "    </tr>\n",
       "  </thead>\n",
       "  <tbody>\n",
       "    <tr>\n",
       "      <th>26470</th>\n",
       "      <td>6055159222</td>\n",
       "      <td>50e72534-a4f4-40d7-96d5-ecbe4eb314e9</td>\n",
       "      <td>2017-04-21 13:17:16.4390000</td>\n",
       "      <td>44</td>\n",
       "      <td>83906.0</td>\n",
       "      <td>669818703</td>\n",
       "      <td>past</td>\n",
       "    </tr>\n",
       "  </tbody>\n",
       "</table>\n",
       "</div>"
      ],
      "text/plain": [
       "               id                                userId  \\\n",
       "26470  6055159222  50e72534-a4f4-40d7-96d5-ecbe4eb314e9   \n",
       "\n",
       "              brochure_dateCreated  page_turn_count  view_duration  \\\n",
       "26470  2017-04-21 13:17:16.4390000               44        83906.0   \n",
       "\n",
       "       brochure_id origin  \n",
       "26470    669818703   past  "
      ]
     },
     "execution_count": 61,
     "metadata": {},
     "output_type": "execute_result"
    }
   ],
   "source": [
    "train_df[(train_df.userId == '50e72534-a4f4-40d7-96d5-ecbe4eb314e9') & (train_df.brochure_dateCreated == '2017-04-21 13:17:16.4390000')]\n"
   ]
  },
  {
   "cell_type": "code",
   "execution_count": 62,
   "id": "a8c3773f-09a8-45df-ab46-f1788173393a",
   "metadata": {
    "pycharm": {
     "name": "#%%\n"
    }
   },
   "outputs": [
    {
     "data": {
      "text/html": [
       "<div>\n",
       "<style scoped>\n",
       "    .dataframe tbody tr th:only-of-type {\n",
       "        vertical-align: middle;\n",
       "    }\n",
       "\n",
       "    .dataframe tbody tr th {\n",
       "        vertical-align: top;\n",
       "    }\n",
       "\n",
       "    .dataframe thead th {\n",
       "        text-align: right;\n",
       "    }\n",
       "</style>\n",
       "<table border=\"1\" class=\"dataframe\">\n",
       "  <thead>\n",
       "    <tr style=\"text-align: right;\">\n",
       "      <th></th>\n",
       "      <th>app_start_dateCreated</th>\n",
       "      <th>userId</th>\n",
       "      <th>app_origin</th>\n",
       "    </tr>\n",
       "  </thead>\n",
       "  <tbody>\n",
       "    <tr>\n",
       "      <th>0</th>\n",
       "      <td>2017-06-30 14:14:54.7930000</td>\n",
       "      <td>50e72534-a4f4-40d7-96d5-ecbe4eb314e9</td>\n",
       "      <td>past</td>\n",
       "    </tr>\n",
       "    <tr>\n",
       "      <th>1</th>\n",
       "      <td>2017-06-30 14:03:13.0100000</td>\n",
       "      <td>b3712849-595e-403f-84d2-4698439056b0</td>\n",
       "      <td>past</td>\n",
       "    </tr>\n",
       "    <tr>\n",
       "      <th>2</th>\n",
       "      <td>2017-06-28 16:26:48.3830000</td>\n",
       "      <td>99cea50b-3ecf-4102-8290-997eaf32a6b6</td>\n",
       "      <td>past</td>\n",
       "    </tr>\n",
       "    <tr>\n",
       "      <th>3</th>\n",
       "      <td>2017-06-27 10:23:29.9430000</td>\n",
       "      <td>78c06433-9ea8-4835-aff5-f64b262d0fb4</td>\n",
       "      <td>past</td>\n",
       "    </tr>\n",
       "    <tr>\n",
       "      <th>4</th>\n",
       "      <td>2017-06-27 10:11:27.6340000</td>\n",
       "      <td>510c5f9e-de54-45ee-909c-c14103130e5e</td>\n",
       "      <td>past</td>\n",
       "    </tr>\n",
       "  </tbody>\n",
       "</table>\n",
       "</div>"
      ],
      "text/plain": [
       "         app_start_dateCreated                                userId  \\\n",
       "0  2017-06-30 14:14:54.7930000  50e72534-a4f4-40d7-96d5-ecbe4eb314e9   \n",
       "1  2017-06-30 14:03:13.0100000  b3712849-595e-403f-84d2-4698439056b0   \n",
       "2  2017-06-28 16:26:48.3830000  99cea50b-3ecf-4102-8290-997eaf32a6b6   \n",
       "3  2017-06-27 10:23:29.9430000  78c06433-9ea8-4835-aff5-f64b262d0fb4   \n",
       "4  2017-06-27 10:11:27.6340000  510c5f9e-de54-45ee-909c-c14103130e5e   \n",
       "\n",
       "  app_origin  \n",
       "0       past  \n",
       "1       past  \n",
       "2       past  \n",
       "3       past  \n",
       "4       past  "
      ]
     },
     "execution_count": 62,
     "metadata": {},
     "output_type": "execute_result"
    }
   ],
   "source": [
    "train_app_df.head()"
   ]
  },
  {
   "cell_type": "code",
   "execution_count": 63,
   "id": "2912d5ab-079b-468f-8728-02abed25d633",
   "metadata": {
    "pycharm": {
     "name": "#%%\n"
    }
   },
   "outputs": [
    {
     "data": {
      "text/html": [
       "<div>\n",
       "<style scoped>\n",
       "    .dataframe tbody tr th:only-of-type {\n",
       "        vertical-align: middle;\n",
       "    }\n",
       "\n",
       "    .dataframe tbody tr th {\n",
       "        vertical-align: top;\n",
       "    }\n",
       "\n",
       "    .dataframe thead th {\n",
       "        text-align: right;\n",
       "    }\n",
       "</style>\n",
       "<table border=\"1\" class=\"dataframe\">\n",
       "  <thead>\n",
       "    <tr style=\"text-align: right;\">\n",
       "      <th></th>\n",
       "      <th>id</th>\n",
       "      <th>InstallDate</th>\n",
       "      <th>productId</th>\n",
       "      <th>userId</th>\n",
       "      <th>model</th>\n",
       "      <th>campaignId</th>\n",
       "    </tr>\n",
       "  </thead>\n",
       "  <tbody>\n",
       "    <tr>\n",
       "      <th>0</th>\n",
       "      <td>37371890</td>\n",
       "      <td>2017-05-04 10:06:27.8070000</td>\n",
       "      <td>de.kaufda.kaufda</td>\n",
       "      <td>5fc13850-de51-4426-96ce-72aaec895abb</td>\n",
       "      <td>ipad2,7</td>\n",
       "      <td>000000</td>\n",
       "    </tr>\n",
       "    <tr>\n",
       "      <th>1</th>\n",
       "      <td>36979918</td>\n",
       "      <td>2017-04-24 09:27:16.1730000</td>\n",
       "      <td>com-bonial-kaufda</td>\n",
       "      <td>b13a035e-e9bf-49db-8f93-b49d491bef53</td>\n",
       "      <td>sm-g800f</td>\n",
       "      <td>3iikhy</td>\n",
       "    </tr>\n",
       "    <tr>\n",
       "      <th>2</th>\n",
       "      <td>37371070</td>\n",
       "      <td>2017-05-04 16:05:09.5680000</td>\n",
       "      <td>de.kaufda.kaufda</td>\n",
       "      <td>5deb0aad-43bb-4ee1-868b-98f36c3d5bbf</td>\n",
       "      <td>iphone8,4</td>\n",
       "      <td>tl3cy8</td>\n",
       "    </tr>\n",
       "    <tr>\n",
       "      <th>3</th>\n",
       "      <td>36897929</td>\n",
       "      <td>2017-04-22 13:18:18.4370000</td>\n",
       "      <td>com-bonial-kaufda</td>\n",
       "      <td>64707e97-d5e1-4622-a89a-bebf8432fd33</td>\n",
       "      <td>sm-g955f</td>\n",
       "      <td>000000</td>\n",
       "    </tr>\n",
       "    <tr>\n",
       "      <th>4</th>\n",
       "      <td>36606053</td>\n",
       "      <td>2017-04-15 14:03:51.1990000</td>\n",
       "      <td>com-bonial-kaufda</td>\n",
       "      <td>770a391d-eda5-423b-b672-845f1e12661f</td>\n",
       "      <td>sm-j320h</td>\n",
       "      <td>000000</td>\n",
       "    </tr>\n",
       "  </tbody>\n",
       "</table>\n",
       "</div>"
      ],
      "text/plain": [
       "         id                  InstallDate          productId  \\\n",
       "0  37371890  2017-05-04 10:06:27.8070000   de.kaufda.kaufda   \n",
       "1  36979918  2017-04-24 09:27:16.1730000  com-bonial-kaufda   \n",
       "2  37371070  2017-05-04 16:05:09.5680000   de.kaufda.kaufda   \n",
       "3  36897929  2017-04-22 13:18:18.4370000  com-bonial-kaufda   \n",
       "4  36606053  2017-04-15 14:03:51.1990000  com-bonial-kaufda   \n",
       "\n",
       "                                 userId      model campaignId  \n",
       "0  5fc13850-de51-4426-96ce-72aaec895abb    ipad2,7     000000  \n",
       "1  b13a035e-e9bf-49db-8f93-b49d491bef53   sm-g800f     3iikhy  \n",
       "2  5deb0aad-43bb-4ee1-868b-98f36c3d5bbf  iphone8,4     tl3cy8  \n",
       "3  64707e97-d5e1-4622-a89a-bebf8432fd33   sm-g955f     000000  \n",
       "4  770a391d-eda5-423b-b672-845f1e12661f   sm-j320h     000000  "
      ]
     },
     "execution_count": 63,
     "metadata": {},
     "output_type": "execute_result"
    }
   ],
   "source": [
    "installs_df.head()"
   ]
  },
  {
   "cell_type": "code",
   "execution_count": 64,
   "id": "c9de4718-f7d5-4efa-9f1b-dae8df3bac60",
   "metadata": {
    "pycharm": {
     "name": "#%%\n"
    }
   },
   "outputs": [
    {
     "data": {
      "text/plain": [
       "((184073, 3), (20000, 6))"
      ]
     },
     "execution_count": 64,
     "metadata": {},
     "output_type": "execute_result"
    }
   ],
   "source": [
    "train_app_df.shape, installs_df.shape"
   ]
  },
  {
   "cell_type": "code",
   "execution_count": 65,
   "id": "5b4f7475-7f72-4e94-ab86-a1173a7a680e",
   "metadata": {
    "pycharm": {
     "name": "#%%\n"
    }
   },
   "outputs": [
    {
     "data": {
      "text/plain": [
       "(184073, 8)"
      ]
     },
     "execution_count": 65,
     "metadata": {},
     "output_type": "execute_result"
    }
   ],
   "source": [
    "train_app_df2 = pd.merge(train_app_df, installs_df,\n",
    "                        how=\"left\", on=[\"userId\"])\n",
    "train_app_df2.shape"
   ]
  },
  {
   "cell_type": "code",
   "execution_count": 66,
   "id": "f395ae8d-4380-401f-bf78-612220c1a49e",
   "metadata": {
    "pycharm": {
     "name": "#%%\n"
    }
   },
   "outputs": [
    {
     "data": {
      "text/html": [
       "<div>\n",
       "<style scoped>\n",
       "    .dataframe tbody tr th:only-of-type {\n",
       "        vertical-align: middle;\n",
       "    }\n",
       "\n",
       "    .dataframe tbody tr th {\n",
       "        vertical-align: top;\n",
       "    }\n",
       "\n",
       "    .dataframe thead th {\n",
       "        text-align: right;\n",
       "    }\n",
       "</style>\n",
       "<table border=\"1\" class=\"dataframe\">\n",
       "  <thead>\n",
       "    <tr style=\"text-align: right;\">\n",
       "      <th></th>\n",
       "      <th>app_start_dateCreated</th>\n",
       "      <th>userId</th>\n",
       "      <th>app_origin</th>\n",
       "      <th>id</th>\n",
       "      <th>InstallDate</th>\n",
       "      <th>productId</th>\n",
       "      <th>model</th>\n",
       "      <th>campaignId</th>\n",
       "    </tr>\n",
       "  </thead>\n",
       "  <tbody>\n",
       "    <tr>\n",
       "      <th>0</th>\n",
       "      <td>2017-06-30 14:14:54.7930000</td>\n",
       "      <td>50e72534-a4f4-40d7-96d5-ecbe4eb314e9</td>\n",
       "      <td>past</td>\n",
       "      <td>36840989.0</td>\n",
       "      <td>2017-04-21 13:16:18.5990000</td>\n",
       "      <td>com-bonial-kaufda</td>\n",
       "      <td>sm-g950f</td>\n",
       "      <td>000000</td>\n",
       "    </tr>\n",
       "    <tr>\n",
       "      <th>1</th>\n",
       "      <td>2017-06-30 14:03:13.0100000</td>\n",
       "      <td>b3712849-595e-403f-84d2-4698439056b0</td>\n",
       "      <td>past</td>\n",
       "      <td>37125830.0</td>\n",
       "      <td>2017-04-28 15:28:20.5460000</td>\n",
       "      <td>com-bonial-kaufda</td>\n",
       "      <td>sm-g935f</td>\n",
       "      <td>000000</td>\n",
       "    </tr>\n",
       "    <tr>\n",
       "      <th>2</th>\n",
       "      <td>2017-06-28 16:26:48.3830000</td>\n",
       "      <td>99cea50b-3ecf-4102-8290-997eaf32a6b6</td>\n",
       "      <td>past</td>\n",
       "      <td>37547780.0</td>\n",
       "      <td>2017-05-09 20:45:19.7230000</td>\n",
       "      <td>com-bonial-kaufda</td>\n",
       "      <td>sm-j510fn</td>\n",
       "      <td>000000</td>\n",
       "    </tr>\n",
       "    <tr>\n",
       "      <th>3</th>\n",
       "      <td>2017-06-27 10:23:29.9430000</td>\n",
       "      <td>78c06433-9ea8-4835-aff5-f64b262d0fb4</td>\n",
       "      <td>past</td>\n",
       "      <td>37860542.0</td>\n",
       "      <td>2017-05-15 13:29:37.3770000</td>\n",
       "      <td>com-bonial-kaufda</td>\n",
       "      <td>sm-g900f</td>\n",
       "      <td>000000</td>\n",
       "    </tr>\n",
       "    <tr>\n",
       "      <th>4</th>\n",
       "      <td>2017-06-27 10:11:27.6340000</td>\n",
       "      <td>510c5f9e-de54-45ee-909c-c14103130e5e</td>\n",
       "      <td>past</td>\n",
       "      <td>37462735.0</td>\n",
       "      <td>2017-05-07 08:03:04.5730000</td>\n",
       "      <td>com-bonial-kaufda</td>\n",
       "      <td>sm-t561</td>\n",
       "      <td>000000</td>\n",
       "    </tr>\n",
       "  </tbody>\n",
       "</table>\n",
       "</div>"
      ],
      "text/plain": [
       "         app_start_dateCreated                                userId  \\\n",
       "0  2017-06-30 14:14:54.7930000  50e72534-a4f4-40d7-96d5-ecbe4eb314e9   \n",
       "1  2017-06-30 14:03:13.0100000  b3712849-595e-403f-84d2-4698439056b0   \n",
       "2  2017-06-28 16:26:48.3830000  99cea50b-3ecf-4102-8290-997eaf32a6b6   \n",
       "3  2017-06-27 10:23:29.9430000  78c06433-9ea8-4835-aff5-f64b262d0fb4   \n",
       "4  2017-06-27 10:11:27.6340000  510c5f9e-de54-45ee-909c-c14103130e5e   \n",
       "\n",
       "  app_origin          id                  InstallDate          productId  \\\n",
       "0       past  36840989.0  2017-04-21 13:16:18.5990000  com-bonial-kaufda   \n",
       "1       past  37125830.0  2017-04-28 15:28:20.5460000  com-bonial-kaufda   \n",
       "2       past  37547780.0  2017-05-09 20:45:19.7230000  com-bonial-kaufda   \n",
       "3       past  37860542.0  2017-05-15 13:29:37.3770000  com-bonial-kaufda   \n",
       "4       past  37462735.0  2017-05-07 08:03:04.5730000  com-bonial-kaufda   \n",
       "\n",
       "       model campaignId  \n",
       "0   sm-g950f     000000  \n",
       "1   sm-g935f     000000  \n",
       "2  sm-j510fn     000000  \n",
       "3   sm-g900f     000000  \n",
       "4    sm-t561     000000  "
      ]
     },
     "execution_count": 66,
     "metadata": {},
     "output_type": "execute_result"
    }
   ],
   "source": [
    "train_app_df2.head()"
   ]
  },
  {
   "cell_type": "code",
   "execution_count": 67,
   "id": "4e18cba6-5b5a-46d6-98fa-fbdd436c8617",
   "metadata": {
    "pycharm": {
     "name": "#%%\n"
    }
   },
   "outputs": [
    {
     "data": {
      "text/plain": [
       "array(['sm-g950f', 'sm-g935f', 'sm-j510fn', ...,\n",
       "       'trekstor+surftab+theatre+13.3', 'HUAWEI+G730-U10', 'b10'],\n",
       "      dtype=object)"
      ]
     },
     "execution_count": 67,
     "metadata": {},
     "output_type": "execute_result"
    }
   ],
   "source": [
    "train_app_df2.model.unique()"
   ]
  },
  {
   "cell_type": "code",
   "execution_count": 68,
   "id": "4aaf75e1-44ad-4298-8353-7e9095d5f46d",
   "metadata": {
    "pycharm": {
     "name": "#%%\n"
    }
   },
   "outputs": [
    {
     "data": {
      "text/html": [
       "<div>\n",
       "<style scoped>\n",
       "    .dataframe tbody tr th:only-of-type {\n",
       "        vertical-align: middle;\n",
       "    }\n",
       "\n",
       "    .dataframe tbody tr th {\n",
       "        vertical-align: top;\n",
       "    }\n",
       "\n",
       "    .dataframe thead th {\n",
       "        text-align: right;\n",
       "    }\n",
       "</style>\n",
       "<table border=\"1\" class=\"dataframe\">\n",
       "  <thead>\n",
       "    <tr style=\"text-align: right;\">\n",
       "      <th></th>\n",
       "      <th>app_start_dateCreated</th>\n",
       "      <th>userId</th>\n",
       "      <th>app_origin</th>\n",
       "      <th>id</th>\n",
       "      <th>InstallDate</th>\n",
       "      <th>productId</th>\n",
       "      <th>model</th>\n",
       "      <th>campaignId</th>\n",
       "    </tr>\n",
       "  </thead>\n",
       "  <tbody>\n",
       "    <tr>\n",
       "      <th>67040</th>\n",
       "      <td>2017-05-15 01:31:24.3600000</td>\n",
       "      <td>0171deea-40bd-4c4e-a1a8-8e316d402051</td>\n",
       "      <td>past</td>\n",
       "      <td>NaN</td>\n",
       "      <td>NaN</td>\n",
       "      <td>NaN</td>\n",
       "      <td>NaN</td>\n",
       "      <td>NaN</td>\n",
       "    </tr>\n",
       "    <tr>\n",
       "      <th>67043</th>\n",
       "      <td>2017-05-15 00:58:52.3620000</td>\n",
       "      <td>0171deea-40bd-4c4e-a1a8-8e316d402051</td>\n",
       "      <td>past</td>\n",
       "      <td>NaN</td>\n",
       "      <td>NaN</td>\n",
       "      <td>NaN</td>\n",
       "      <td>NaN</td>\n",
       "      <td>NaN</td>\n",
       "    </tr>\n",
       "    <tr>\n",
       "      <th>93715</th>\n",
       "      <td>2017-04-15 16:05:43.2570000</td>\n",
       "      <td>0171deea-40bd-4c4e-a1a8-8e316d402051</td>\n",
       "      <td>past</td>\n",
       "      <td>NaN</td>\n",
       "      <td>NaN</td>\n",
       "      <td>NaN</td>\n",
       "      <td>NaN</td>\n",
       "      <td>NaN</td>\n",
       "    </tr>\n",
       "    <tr>\n",
       "      <th>104205</th>\n",
       "      <td>2017-04-06 12:57:58.2510000</td>\n",
       "      <td>0171deea-40bd-4c4e-a1a8-8e316d402051</td>\n",
       "      <td>past</td>\n",
       "      <td>NaN</td>\n",
       "      <td>NaN</td>\n",
       "      <td>NaN</td>\n",
       "      <td>NaN</td>\n",
       "      <td>NaN</td>\n",
       "    </tr>\n",
       "    <tr>\n",
       "      <th>123400</th>\n",
       "      <td>2017-04-19 01:46:37.7370000</td>\n",
       "      <td>0171deea-40bd-4c4e-a1a8-8e316d402051</td>\n",
       "      <td>past</td>\n",
       "      <td>NaN</td>\n",
       "      <td>NaN</td>\n",
       "      <td>NaN</td>\n",
       "      <td>NaN</td>\n",
       "      <td>NaN</td>\n",
       "    </tr>\n",
       "    <tr>\n",
       "      <th>149995</th>\n",
       "      <td>2017-07-08 02:11:08.7440000</td>\n",
       "      <td>0171deea-40bd-4c4e-a1a8-8e316d402051</td>\n",
       "      <td>july</td>\n",
       "      <td>NaN</td>\n",
       "      <td>NaN</td>\n",
       "      <td>NaN</td>\n",
       "      <td>NaN</td>\n",
       "      <td>NaN</td>\n",
       "    </tr>\n",
       "    <tr>\n",
       "      <th>155667</th>\n",
       "      <td>2017-07-01 09:36:45.4120000</td>\n",
       "      <td>0171deea-40bd-4c4e-a1a8-8e316d402051</td>\n",
       "      <td>july</td>\n",
       "      <td>NaN</td>\n",
       "      <td>NaN</td>\n",
       "      <td>NaN</td>\n",
       "      <td>NaN</td>\n",
       "      <td>NaN</td>\n",
       "    </tr>\n",
       "    <tr>\n",
       "      <th>174646</th>\n",
       "      <td>2017-07-10 13:45:27.3450000</td>\n",
       "      <td>0171deea-40bd-4c4e-a1a8-8e316d402051</td>\n",
       "      <td>july</td>\n",
       "      <td>NaN</td>\n",
       "      <td>NaN</td>\n",
       "      <td>NaN</td>\n",
       "      <td>NaN</td>\n",
       "      <td>NaN</td>\n",
       "    </tr>\n",
       "  </tbody>\n",
       "</table>\n",
       "</div>"
      ],
      "text/plain": [
       "              app_start_dateCreated                                userId  \\\n",
       "67040   2017-05-15 01:31:24.3600000  0171deea-40bd-4c4e-a1a8-8e316d402051   \n",
       "67043   2017-05-15 00:58:52.3620000  0171deea-40bd-4c4e-a1a8-8e316d402051   \n",
       "93715   2017-04-15 16:05:43.2570000  0171deea-40bd-4c4e-a1a8-8e316d402051   \n",
       "104205  2017-04-06 12:57:58.2510000  0171deea-40bd-4c4e-a1a8-8e316d402051   \n",
       "123400  2017-04-19 01:46:37.7370000  0171deea-40bd-4c4e-a1a8-8e316d402051   \n",
       "149995  2017-07-08 02:11:08.7440000  0171deea-40bd-4c4e-a1a8-8e316d402051   \n",
       "155667  2017-07-01 09:36:45.4120000  0171deea-40bd-4c4e-a1a8-8e316d402051   \n",
       "174646  2017-07-10 13:45:27.3450000  0171deea-40bd-4c4e-a1a8-8e316d402051   \n",
       "\n",
       "       app_origin  id InstallDate productId model campaignId  \n",
       "67040        past NaN         NaN       NaN   NaN        NaN  \n",
       "67043        past NaN         NaN       NaN   NaN        NaN  \n",
       "93715        past NaN         NaN       NaN   NaN        NaN  \n",
       "104205       past NaN         NaN       NaN   NaN        NaN  \n",
       "123400       past NaN         NaN       NaN   NaN        NaN  \n",
       "149995       july NaN         NaN       NaN   NaN        NaN  \n",
       "155667       july NaN         NaN       NaN   NaN        NaN  \n",
       "174646       july NaN         NaN       NaN   NaN        NaN  "
      ]
     },
     "execution_count": 68,
     "metadata": {},
     "output_type": "execute_result"
    }
   ],
   "source": [
    "train_app_df2[train_app_df2.userId == '0171deea-40bd-4c4e-a1a8-8e316d402051']"
   ]
  },
  {
   "cell_type": "code",
   "execution_count": 69,
   "id": "79a137e7-c815-4251-8dce-5c986fd1eea4",
   "metadata": {
    "pycharm": {
     "name": "#%%\n"
    }
   },
   "outputs": [
    {
     "data": {
      "text/plain": [
       "array(['sm-g950f', 'sm-g935f', 'sm-j510fn', ...,\n",
       "       'trekstor+surftab+theatre+13.3', 'HUAWEI+G730-U10', 'b10'],\n",
       "      dtype=object)"
      ]
     },
     "execution_count": 69,
     "metadata": {},
     "output_type": "execute_result"
    }
   ],
   "source": [
    "train_app_df2.model.unique()"
   ]
  },
  {
   "cell_type": "code",
   "execution_count": 70,
   "id": "fb0281ba-5519-4473-a91f-1b83df26a21f",
   "metadata": {
    "pycharm": {
     "name": "#%%\n"
    }
   },
   "outputs": [
    {
     "data": {
      "text/plain": [
       "('000000', 'zhqyx6')"
      ]
     },
     "execution_count": 70,
     "metadata": {},
     "output_type": "execute_result"
    }
   ],
   "source": [
    "train_app_df2.campaignId.astype(str).min(),train_app_df2.campaignId.astype(str).max()"
   ]
  },
  {
   "cell_type": "code",
   "execution_count": 71,
   "id": "9e3d2e4e-848b-4325-aa0b-b4ce5fb2f298",
   "metadata": {
    "pycharm": {
     "name": "#%%\n"
    }
   },
   "outputs": [
    {
     "data": {
      "text/plain": [
       "(0, 99)"
      ]
     },
     "execution_count": 71,
     "metadata": {},
     "output_type": "execute_result"
    }
   ],
   "source": [
    "liste = np.random.randint(0,100,size=(100, 1))\n",
    "liste.min(), liste.max()"
   ]
  },
  {
   "cell_type": "code",
   "execution_count": 72,
   "id": "76b99c65-e40e-41e1-b857-ba845487dced",
   "metadata": {
    "pycharm": {
     "name": "#%%\n"
    }
   },
   "outputs": [],
   "source": [
    "r = lambda: random.randint(0,255)\n",
    "\n",
    "train_app_df2.id = train_app_df2.id.fillna(0)\n",
    "train_app_df2.productId = train_app_df2.productId.fillna(0)\n",
    "train_app_df2.model = train_app_df2.model.fillna(\"XXX\")\n",
    "#train_app_df2.campaignId = train_app_df2.campaignId.fillna('%02X%02X%02X' % (r(),r(),r()))\n",
    "train_app_df2.campaignId = train_app_df2.campaignId.fillna('XXXXXX')\n",
    "train_app_df2.InstallDate = train_app_df2.InstallDate.fillna('2000-01-01 00:00:01.0000000')\n"
   ]
  },
  {
   "cell_type": "code",
   "execution_count": 73,
   "id": "23e4ed94-a0eb-4e4f-99f5-772c212a8a1e",
   "metadata": {
    "pycharm": {
     "name": "#%%\n"
    }
   },
   "outputs": [
    {
     "data": {
      "text/plain": [
       "'2000-01-01 00:00:01.0000000'"
      ]
     },
     "execution_count": 73,
     "metadata": {},
     "output_type": "execute_result"
    }
   ],
   "source": [
    "train_app_df2.InstallDate.astype(str).min()"
   ]
  },
  {
   "cell_type": "code",
   "execution_count": 74,
   "id": "15c42457-834c-4f98-961b-4d72d9c87eb9",
   "metadata": {
    "pycharm": {
     "name": "#%%\n"
    }
   },
   "outputs": [
    {
     "data": {
      "text/html": [
       "<div>\n",
       "<style scoped>\n",
       "    .dataframe tbody tr th:only-of-type {\n",
       "        vertical-align: middle;\n",
       "    }\n",
       "\n",
       "    .dataframe tbody tr th {\n",
       "        vertical-align: top;\n",
       "    }\n",
       "\n",
       "    .dataframe thead th {\n",
       "        text-align: right;\n",
       "    }\n",
       "</style>\n",
       "<table border=\"1\" class=\"dataframe\">\n",
       "  <thead>\n",
       "    <tr style=\"text-align: right;\">\n",
       "      <th></th>\n",
       "      <th>app_start_dateCreated</th>\n",
       "      <th>userId</th>\n",
       "      <th>app_origin</th>\n",
       "      <th>id</th>\n",
       "      <th>InstallDate</th>\n",
       "      <th>productId</th>\n",
       "      <th>model</th>\n",
       "      <th>campaignId</th>\n",
       "    </tr>\n",
       "  </thead>\n",
       "  <tbody>\n",
       "    <tr>\n",
       "      <th>67040</th>\n",
       "      <td>2017-05-15 01:31:24.3600000</td>\n",
       "      <td>0171deea-40bd-4c4e-a1a8-8e316d402051</td>\n",
       "      <td>past</td>\n",
       "      <td>0.0</td>\n",
       "      <td>2000-01-01 00:00:01.0000000</td>\n",
       "      <td>0</td>\n",
       "      <td>XXX</td>\n",
       "      <td>XXXXXX</td>\n",
       "    </tr>\n",
       "    <tr>\n",
       "      <th>67043</th>\n",
       "      <td>2017-05-15 00:58:52.3620000</td>\n",
       "      <td>0171deea-40bd-4c4e-a1a8-8e316d402051</td>\n",
       "      <td>past</td>\n",
       "      <td>0.0</td>\n",
       "      <td>2000-01-01 00:00:01.0000000</td>\n",
       "      <td>0</td>\n",
       "      <td>XXX</td>\n",
       "      <td>XXXXXX</td>\n",
       "    </tr>\n",
       "    <tr>\n",
       "      <th>93715</th>\n",
       "      <td>2017-04-15 16:05:43.2570000</td>\n",
       "      <td>0171deea-40bd-4c4e-a1a8-8e316d402051</td>\n",
       "      <td>past</td>\n",
       "      <td>0.0</td>\n",
       "      <td>2000-01-01 00:00:01.0000000</td>\n",
       "      <td>0</td>\n",
       "      <td>XXX</td>\n",
       "      <td>XXXXXX</td>\n",
       "    </tr>\n",
       "    <tr>\n",
       "      <th>104205</th>\n",
       "      <td>2017-04-06 12:57:58.2510000</td>\n",
       "      <td>0171deea-40bd-4c4e-a1a8-8e316d402051</td>\n",
       "      <td>past</td>\n",
       "      <td>0.0</td>\n",
       "      <td>2000-01-01 00:00:01.0000000</td>\n",
       "      <td>0</td>\n",
       "      <td>XXX</td>\n",
       "      <td>XXXXXX</td>\n",
       "    </tr>\n",
       "    <tr>\n",
       "      <th>123400</th>\n",
       "      <td>2017-04-19 01:46:37.7370000</td>\n",
       "      <td>0171deea-40bd-4c4e-a1a8-8e316d402051</td>\n",
       "      <td>past</td>\n",
       "      <td>0.0</td>\n",
       "      <td>2000-01-01 00:00:01.0000000</td>\n",
       "      <td>0</td>\n",
       "      <td>XXX</td>\n",
       "      <td>XXXXXX</td>\n",
       "    </tr>\n",
       "    <tr>\n",
       "      <th>149995</th>\n",
       "      <td>2017-07-08 02:11:08.7440000</td>\n",
       "      <td>0171deea-40bd-4c4e-a1a8-8e316d402051</td>\n",
       "      <td>july</td>\n",
       "      <td>0.0</td>\n",
       "      <td>2000-01-01 00:00:01.0000000</td>\n",
       "      <td>0</td>\n",
       "      <td>XXX</td>\n",
       "      <td>XXXXXX</td>\n",
       "    </tr>\n",
       "    <tr>\n",
       "      <th>155667</th>\n",
       "      <td>2017-07-01 09:36:45.4120000</td>\n",
       "      <td>0171deea-40bd-4c4e-a1a8-8e316d402051</td>\n",
       "      <td>july</td>\n",
       "      <td>0.0</td>\n",
       "      <td>2000-01-01 00:00:01.0000000</td>\n",
       "      <td>0</td>\n",
       "      <td>XXX</td>\n",
       "      <td>XXXXXX</td>\n",
       "    </tr>\n",
       "    <tr>\n",
       "      <th>174646</th>\n",
       "      <td>2017-07-10 13:45:27.3450000</td>\n",
       "      <td>0171deea-40bd-4c4e-a1a8-8e316d402051</td>\n",
       "      <td>july</td>\n",
       "      <td>0.0</td>\n",
       "      <td>2000-01-01 00:00:01.0000000</td>\n",
       "      <td>0</td>\n",
       "      <td>XXX</td>\n",
       "      <td>XXXXXX</td>\n",
       "    </tr>\n",
       "  </tbody>\n",
       "</table>\n",
       "</div>"
      ],
      "text/plain": [
       "              app_start_dateCreated                                userId  \\\n",
       "67040   2017-05-15 01:31:24.3600000  0171deea-40bd-4c4e-a1a8-8e316d402051   \n",
       "67043   2017-05-15 00:58:52.3620000  0171deea-40bd-4c4e-a1a8-8e316d402051   \n",
       "93715   2017-04-15 16:05:43.2570000  0171deea-40bd-4c4e-a1a8-8e316d402051   \n",
       "104205  2017-04-06 12:57:58.2510000  0171deea-40bd-4c4e-a1a8-8e316d402051   \n",
       "123400  2017-04-19 01:46:37.7370000  0171deea-40bd-4c4e-a1a8-8e316d402051   \n",
       "149995  2017-07-08 02:11:08.7440000  0171deea-40bd-4c4e-a1a8-8e316d402051   \n",
       "155667  2017-07-01 09:36:45.4120000  0171deea-40bd-4c4e-a1a8-8e316d402051   \n",
       "174646  2017-07-10 13:45:27.3450000  0171deea-40bd-4c4e-a1a8-8e316d402051   \n",
       "\n",
       "       app_origin   id                  InstallDate productId model campaignId  \n",
       "67040        past  0.0  2000-01-01 00:00:01.0000000         0   XXX     XXXXXX  \n",
       "67043        past  0.0  2000-01-01 00:00:01.0000000         0   XXX     XXXXXX  \n",
       "93715        past  0.0  2000-01-01 00:00:01.0000000         0   XXX     XXXXXX  \n",
       "104205       past  0.0  2000-01-01 00:00:01.0000000         0   XXX     XXXXXX  \n",
       "123400       past  0.0  2000-01-01 00:00:01.0000000         0   XXX     XXXXXX  \n",
       "149995       july  0.0  2000-01-01 00:00:01.0000000         0   XXX     XXXXXX  \n",
       "155667       july  0.0  2000-01-01 00:00:01.0000000         0   XXX     XXXXXX  \n",
       "174646       july  0.0  2000-01-01 00:00:01.0000000         0   XXX     XXXXXX  "
      ]
     },
     "execution_count": 74,
     "metadata": {},
     "output_type": "execute_result"
    }
   ],
   "source": [
    "train_app_df2[train_app_df2.userId == '0171deea-40bd-4c4e-a1a8-8e316d402051']"
   ]
  },
  {
   "cell_type": "code",
   "execution_count": 75,
   "id": "1be66114-3d48-4a02-9284-2fc1bc41db8e",
   "metadata": {
    "pycharm": {
     "name": "#%%\n"
    }
   },
   "outputs": [
    {
     "data": {
      "text/html": [
       "<div>\n",
       "<style scoped>\n",
       "    .dataframe tbody tr th:only-of-type {\n",
       "        vertical-align: middle;\n",
       "    }\n",
       "\n",
       "    .dataframe tbody tr th {\n",
       "        vertical-align: top;\n",
       "    }\n",
       "\n",
       "    .dataframe thead th {\n",
       "        text-align: right;\n",
       "    }\n",
       "</style>\n",
       "<table border=\"1\" class=\"dataframe\">\n",
       "  <thead>\n",
       "    <tr style=\"text-align: right;\">\n",
       "      <th></th>\n",
       "      <th>id</th>\n",
       "      <th>userId</th>\n",
       "      <th>brochure_dateCreated</th>\n",
       "      <th>page_turn_count</th>\n",
       "      <th>view_duration</th>\n",
       "      <th>brochure_id</th>\n",
       "      <th>origin</th>\n",
       "    </tr>\n",
       "  </thead>\n",
       "  <tbody>\n",
       "    <tr>\n",
       "      <th>0</th>\n",
       "      <td>6269194661</td>\n",
       "      <td>9491a960-206a-4a58-9177-e78cb1f05e70</td>\n",
       "      <td>2017-04-30 23:47:09.5390000</td>\n",
       "      <td>30</td>\n",
       "      <td>95172.0</td>\n",
       "      <td>672239440</td>\n",
       "      <td>past</td>\n",
       "    </tr>\n",
       "    <tr>\n",
       "      <th>1</th>\n",
       "      <td>6269192581</td>\n",
       "      <td>9491a960-206a-4a58-9177-e78cb1f05e70</td>\n",
       "      <td>2017-04-30 23:47:00.6970000</td>\n",
       "      <td>2</td>\n",
       "      <td>4000.0</td>\n",
       "      <td>673861625</td>\n",
       "      <td>past</td>\n",
       "    </tr>\n",
       "    <tr>\n",
       "      <th>2</th>\n",
       "      <td>6269188351</td>\n",
       "      <td>9491a960-206a-4a58-9177-e78cb1f05e70</td>\n",
       "      <td>2017-04-30 23:46:39.9170000</td>\n",
       "      <td>1</td>\n",
       "      <td>14000.0</td>\n",
       "      <td>660764240</td>\n",
       "      <td>past</td>\n",
       "    </tr>\n",
       "    <tr>\n",
       "      <th>3</th>\n",
       "      <td>6204426632</td>\n",
       "      <td>fa623647-dfc9-49b4-bbb6-77cbacd599f4</td>\n",
       "      <td>2017-04-30 23:46:13.5970000</td>\n",
       "      <td>64</td>\n",
       "      <td>168000.0</td>\n",
       "      <td>672658544</td>\n",
       "      <td>past</td>\n",
       "    </tr>\n",
       "    <tr>\n",
       "      <th>4</th>\n",
       "      <td>6204424112</td>\n",
       "      <td>9491a960-206a-4a58-9177-e78cb1f05e70</td>\n",
       "      <td>2017-04-30 23:46:02.1970000</td>\n",
       "      <td>1</td>\n",
       "      <td>33000.0</td>\n",
       "      <td>660764240</td>\n",
       "      <td>past</td>\n",
       "    </tr>\n",
       "  </tbody>\n",
       "</table>\n",
       "</div>"
      ],
      "text/plain": [
       "           id                                userId  \\\n",
       "0  6269194661  9491a960-206a-4a58-9177-e78cb1f05e70   \n",
       "1  6269192581  9491a960-206a-4a58-9177-e78cb1f05e70   \n",
       "2  6269188351  9491a960-206a-4a58-9177-e78cb1f05e70   \n",
       "3  6204426632  fa623647-dfc9-49b4-bbb6-77cbacd599f4   \n",
       "4  6204424112  9491a960-206a-4a58-9177-e78cb1f05e70   \n",
       "\n",
       "          brochure_dateCreated  page_turn_count  view_duration  brochure_id  \\\n",
       "0  2017-04-30 23:47:09.5390000               30        95172.0    672239440   \n",
       "1  2017-04-30 23:47:00.6970000                2         4000.0    673861625   \n",
       "2  2017-04-30 23:46:39.9170000                1        14000.0    660764240   \n",
       "3  2017-04-30 23:46:13.5970000               64       168000.0    672658544   \n",
       "4  2017-04-30 23:46:02.1970000                1        33000.0    660764240   \n",
       "\n",
       "  origin  \n",
       "0   past  \n",
       "1   past  \n",
       "2   past  \n",
       "3   past  \n",
       "4   past  "
      ]
     },
     "execution_count": 75,
     "metadata": {},
     "output_type": "execute_result"
    }
   ],
   "source": [
    "train_df.head()"
   ]
  },
  {
   "cell_type": "code",
   "execution_count": 78,
   "id": "1dd241a7-37b5-48ef-8a6b-52d112b23a7b",
   "metadata": {
    "pycharm": {
     "name": "#%%\n"
    }
   },
   "outputs": [
    {
     "data": {
      "text/html": [
       "<div>\n",
       "<style scoped>\n",
       "    .dataframe tbody tr th:only-of-type {\n",
       "        vertical-align: middle;\n",
       "    }\n",
       "\n",
       "    .dataframe tbody tr th {\n",
       "        vertical-align: top;\n",
       "    }\n",
       "\n",
       "    .dataframe thead th {\n",
       "        text-align: right;\n",
       "    }\n",
       "</style>\n",
       "<table border=\"1\" class=\"dataframe\">\n",
       "  <thead>\n",
       "    <tr style=\"text-align: right;\">\n",
       "      <th></th>\n",
       "      <th>app_start_dateCreated</th>\n",
       "      <th>userId</th>\n",
       "      <th>app_origin</th>\n",
       "      <th>InstallDate</th>\n",
       "      <th>productId</th>\n",
       "      <th>model</th>\n",
       "      <th>campaignId</th>\n",
       "    </tr>\n",
       "  </thead>\n",
       "  <tbody>\n",
       "    <tr>\n",
       "      <th>0</th>\n",
       "      <td>2017-06-30 14:14:54.7930000</td>\n",
       "      <td>50e72534-a4f4-40d7-96d5-ecbe4eb314e9</td>\n",
       "      <td>past</td>\n",
       "      <td>2017-04-21 13:16:18.5990000</td>\n",
       "      <td>com-bonial-kaufda</td>\n",
       "      <td>sm-g950f</td>\n",
       "      <td>000000</td>\n",
       "    </tr>\n",
       "    <tr>\n",
       "      <th>1</th>\n",
       "      <td>2017-06-30 14:03:13.0100000</td>\n",
       "      <td>b3712849-595e-403f-84d2-4698439056b0</td>\n",
       "      <td>past</td>\n",
       "      <td>2017-04-28 15:28:20.5460000</td>\n",
       "      <td>com-bonial-kaufda</td>\n",
       "      <td>sm-g935f</td>\n",
       "      <td>000000</td>\n",
       "    </tr>\n",
       "    <tr>\n",
       "      <th>2</th>\n",
       "      <td>2017-06-28 16:26:48.3830000</td>\n",
       "      <td>99cea50b-3ecf-4102-8290-997eaf32a6b6</td>\n",
       "      <td>past</td>\n",
       "      <td>2017-05-09 20:45:19.7230000</td>\n",
       "      <td>com-bonial-kaufda</td>\n",
       "      <td>sm-j510fn</td>\n",
       "      <td>000000</td>\n",
       "    </tr>\n",
       "    <tr>\n",
       "      <th>3</th>\n",
       "      <td>2017-06-27 10:23:29.9430000</td>\n",
       "      <td>78c06433-9ea8-4835-aff5-f64b262d0fb4</td>\n",
       "      <td>past</td>\n",
       "      <td>2017-05-15 13:29:37.3770000</td>\n",
       "      <td>com-bonial-kaufda</td>\n",
       "      <td>sm-g900f</td>\n",
       "      <td>000000</td>\n",
       "    </tr>\n",
       "    <tr>\n",
       "      <th>4</th>\n",
       "      <td>2017-06-27 10:11:27.6340000</td>\n",
       "      <td>510c5f9e-de54-45ee-909c-c14103130e5e</td>\n",
       "      <td>past</td>\n",
       "      <td>2017-05-07 08:03:04.5730000</td>\n",
       "      <td>com-bonial-kaufda</td>\n",
       "      <td>sm-t561</td>\n",
       "      <td>000000</td>\n",
       "    </tr>\n",
       "  </tbody>\n",
       "</table>\n",
       "</div>"
      ],
      "text/plain": [
       "         app_start_dateCreated                                userId  \\\n",
       "0  2017-06-30 14:14:54.7930000  50e72534-a4f4-40d7-96d5-ecbe4eb314e9   \n",
       "1  2017-06-30 14:03:13.0100000  b3712849-595e-403f-84d2-4698439056b0   \n",
       "2  2017-06-28 16:26:48.3830000  99cea50b-3ecf-4102-8290-997eaf32a6b6   \n",
       "3  2017-06-27 10:23:29.9430000  78c06433-9ea8-4835-aff5-f64b262d0fb4   \n",
       "4  2017-06-27 10:11:27.6340000  510c5f9e-de54-45ee-909c-c14103130e5e   \n",
       "\n",
       "  app_origin                  InstallDate          productId      model  \\\n",
       "0       past  2017-04-21 13:16:18.5990000  com-bonial-kaufda   sm-g950f   \n",
       "1       past  2017-04-28 15:28:20.5460000  com-bonial-kaufda   sm-g935f   \n",
       "2       past  2017-05-09 20:45:19.7230000  com-bonial-kaufda  sm-j510fn   \n",
       "3       past  2017-05-15 13:29:37.3770000  com-bonial-kaufda   sm-g900f   \n",
       "4       past  2017-05-07 08:03:04.5730000  com-bonial-kaufda    sm-t561   \n",
       "\n",
       "  campaignId  \n",
       "0     000000  \n",
       "1     000000  \n",
       "2     000000  \n",
       "3     000000  \n",
       "4     000000  "
      ]
     },
     "execution_count": 78,
     "metadata": {},
     "output_type": "execute_result"
    }
   ],
   "source": [
    "train_app_df2.head()"
   ]
  },
  {
   "cell_type": "code",
   "execution_count": 92,
   "id": "47be3710-b5e2-428d-bdd3-64b8fe914662",
   "metadata": {
    "pycharm": {
     "name": "#%%\n"
    }
   },
   "outputs": [],
   "source": [
    "import datetime as dt"
   ]
  },
  {
   "cell_type": "code",
   "execution_count": 97,
   "id": "9f68124e-6515-4564-a239-2156ac7b826a",
   "metadata": {
    "pycharm": {
     "name": "#%%\n"
    }
   },
   "outputs": [
    {
     "data": {
      "text/html": [
       "<div>\n",
       "<style scoped>\n",
       "    .dataframe tbody tr th:only-of-type {\n",
       "        vertical-align: middle;\n",
       "    }\n",
       "\n",
       "    .dataframe tbody tr th {\n",
       "        vertical-align: top;\n",
       "    }\n",
       "\n",
       "    .dataframe thead th {\n",
       "        text-align: right;\n",
       "    }\n",
       "</style>\n",
       "<table border=\"1\" class=\"dataframe\">\n",
       "  <thead>\n",
       "    <tr style=\"text-align: right;\">\n",
       "      <th></th>\n",
       "      <th>userId</th>\n",
       "      <th>brochure_dateCreated</th>\n",
       "      <th>page_turn_count</th>\n",
       "      <th>view_duration</th>\n",
       "      <th>brochure_id</th>\n",
       "      <th>origin</th>\n",
       "    </tr>\n",
       "  </thead>\n",
       "  <tbody>\n",
       "    <tr>\n",
       "      <th>9</th>\n",
       "      <td>fa623647-dfc9-49b4-bbb6-77cbacd599f4</td>\n",
       "      <td>2017-04-30 23:42:57.6700000</td>\n",
       "      <td>2</td>\n",
       "      <td>8000.0</td>\n",
       "      <td>656735412</td>\n",
       "      <td>past</td>\n",
       "    </tr>\n",
       "    <tr>\n",
       "      <th>8</th>\n",
       "      <td>fa623647-dfc9-49b4-bbb6-77cbacd599f4</td>\n",
       "      <td>2017-04-30 23:43:11.0030000</td>\n",
       "      <td>14</td>\n",
       "      <td>351000.0</td>\n",
       "      <td>656735412</td>\n",
       "      <td>past</td>\n",
       "    </tr>\n",
       "    <tr>\n",
       "      <th>4</th>\n",
       "      <td>9491a960-206a-4a58-9177-e78cb1f05e70</td>\n",
       "      <td>2017-04-30 23:46:02.1970000</td>\n",
       "      <td>1</td>\n",
       "      <td>33000.0</td>\n",
       "      <td>660764240</td>\n",
       "      <td>past</td>\n",
       "    </tr>\n",
       "    <tr>\n",
       "      <th>3</th>\n",
       "      <td>fa623647-dfc9-49b4-bbb6-77cbacd599f4</td>\n",
       "      <td>2017-04-30 23:46:13.5970000</td>\n",
       "      <td>64</td>\n",
       "      <td>168000.0</td>\n",
       "      <td>672658544</td>\n",
       "      <td>past</td>\n",
       "    </tr>\n",
       "    <tr>\n",
       "      <th>2</th>\n",
       "      <td>9491a960-206a-4a58-9177-e78cb1f05e70</td>\n",
       "      <td>2017-04-30 23:46:39.9170000</td>\n",
       "      <td>1</td>\n",
       "      <td>14000.0</td>\n",
       "      <td>660764240</td>\n",
       "      <td>past</td>\n",
       "    </tr>\n",
       "  </tbody>\n",
       "</table>\n",
       "</div>"
      ],
      "text/plain": [
       "                                 userId         brochure_dateCreated  \\\n",
       "9  fa623647-dfc9-49b4-bbb6-77cbacd599f4  2017-04-30 23:42:57.6700000   \n",
       "8  fa623647-dfc9-49b4-bbb6-77cbacd599f4  2017-04-30 23:43:11.0030000   \n",
       "4  9491a960-206a-4a58-9177-e78cb1f05e70  2017-04-30 23:46:02.1970000   \n",
       "3  fa623647-dfc9-49b4-bbb6-77cbacd599f4  2017-04-30 23:46:13.5970000   \n",
       "2  9491a960-206a-4a58-9177-e78cb1f05e70  2017-04-30 23:46:39.9170000   \n",
       "\n",
       "   page_turn_count  view_duration  brochure_id origin  \n",
       "9                2         8000.0    656735412   past  \n",
       "8               14       351000.0    656735412   past  \n",
       "4                1        33000.0    660764240   past  \n",
       "3               64       168000.0    672658544   past  \n",
       "2                1        14000.0    660764240   past  "
      ]
     },
     "execution_count": 97,
     "metadata": {},
     "output_type": "execute_result"
    }
   ],
   "source": [
    "tf2 = train_df[:10].sort_values(\"brochure_dateCreated\").copy()\n",
    "tf2.head()"
   ]
  },
  {
   "cell_type": "code",
   "execution_count": 98,
   "id": "a78f1415-9760-40b0-8033-994fcd037572",
   "metadata": {
    "pycharm": {
     "name": "#%%\n"
    }
   },
   "outputs": [
    {
     "data": {
      "text/html": [
       "<div>\n",
       "<style scoped>\n",
       "    .dataframe tbody tr th:only-of-type {\n",
       "        vertical-align: middle;\n",
       "    }\n",
       "\n",
       "    .dataframe tbody tr th {\n",
       "        vertical-align: top;\n",
       "    }\n",
       "\n",
       "    .dataframe thead th {\n",
       "        text-align: right;\n",
       "    }\n",
       "</style>\n",
       "<table border=\"1\" class=\"dataframe\">\n",
       "  <thead>\n",
       "    <tr style=\"text-align: right;\">\n",
       "      <th></th>\n",
       "      <th>userId</th>\n",
       "      <th>brochure_dateCreated</th>\n",
       "      <th>page_turn_count</th>\n",
       "      <th>view_duration</th>\n",
       "      <th>brochure_id</th>\n",
       "      <th>origin</th>\n",
       "    </tr>\n",
       "  </thead>\n",
       "  <tbody>\n",
       "    <tr>\n",
       "      <th>9</th>\n",
       "      <td>fa623647-dfc9-49b4-bbb6-77cbacd599f4</td>\n",
       "      <td>2017-04-30</td>\n",
       "      <td>2</td>\n",
       "      <td>8000.0</td>\n",
       "      <td>656735412</td>\n",
       "      <td>past</td>\n",
       "    </tr>\n",
       "    <tr>\n",
       "      <th>8</th>\n",
       "      <td>fa623647-dfc9-49b4-bbb6-77cbacd599f4</td>\n",
       "      <td>2017-04-30</td>\n",
       "      <td>14</td>\n",
       "      <td>351000.0</td>\n",
       "      <td>656735412</td>\n",
       "      <td>past</td>\n",
       "    </tr>\n",
       "    <tr>\n",
       "      <th>4</th>\n",
       "      <td>9491a960-206a-4a58-9177-e78cb1f05e70</td>\n",
       "      <td>2017-04-30</td>\n",
       "      <td>1</td>\n",
       "      <td>33000.0</td>\n",
       "      <td>660764240</td>\n",
       "      <td>past</td>\n",
       "    </tr>\n",
       "    <tr>\n",
       "      <th>3</th>\n",
       "      <td>fa623647-dfc9-49b4-bbb6-77cbacd599f4</td>\n",
       "      <td>2017-04-30</td>\n",
       "      <td>64</td>\n",
       "      <td>168000.0</td>\n",
       "      <td>672658544</td>\n",
       "      <td>past</td>\n",
       "    </tr>\n",
       "    <tr>\n",
       "      <th>2</th>\n",
       "      <td>9491a960-206a-4a58-9177-e78cb1f05e70</td>\n",
       "      <td>2017-04-30</td>\n",
       "      <td>1</td>\n",
       "      <td>14000.0</td>\n",
       "      <td>660764240</td>\n",
       "      <td>past</td>\n",
       "    </tr>\n",
       "  </tbody>\n",
       "</table>\n",
       "</div>"
      ],
      "text/plain": [
       "                                 userId brochure_dateCreated  page_turn_count  \\\n",
       "9  fa623647-dfc9-49b4-bbb6-77cbacd599f4           2017-04-30                2   \n",
       "8  fa623647-dfc9-49b4-bbb6-77cbacd599f4           2017-04-30               14   \n",
       "4  9491a960-206a-4a58-9177-e78cb1f05e70           2017-04-30                1   \n",
       "3  fa623647-dfc9-49b4-bbb6-77cbacd599f4           2017-04-30               64   \n",
       "2  9491a960-206a-4a58-9177-e78cb1f05e70           2017-04-30                1   \n",
       "\n",
       "   view_duration  brochure_id origin  \n",
       "9         8000.0    656735412   past  \n",
       "8       351000.0    656735412   past  \n",
       "4        33000.0    660764240   past  \n",
       "3       168000.0    672658544   past  \n",
       "2        14000.0    660764240   past  "
      ]
     },
     "execution_count": 98,
     "metadata": {},
     "output_type": "execute_result"
    }
   ],
   "source": [
    "tf = train_df[:10].sort_values(\"brochure_dateCreated\").copy()\n",
    "tf['brochure_dateCreated'] = pd.to_datetime(tf['brochure_dateCreated'], format='%Y-%m-%d')\n",
    "tf['brochure_dateCreated'] = tf['brochure_dateCreated'].dt.strftime('%Y-%m-%d')\n",
    "tf.head()"
   ]
  },
  {
   "cell_type": "code",
   "execution_count": 86,
   "id": "68d9afbe-b1f7-48e6-b791-c9bf9a8e993a",
   "metadata": {
    "pycharm": {
     "name": "#%%\n"
    }
   },
   "outputs": [
    {
     "data": {
      "text/html": [
       "<div>\n",
       "<style scoped>\n",
       "    .dataframe tbody tr th:only-of-type {\n",
       "        vertical-align: middle;\n",
       "    }\n",
       "\n",
       "    .dataframe tbody tr th {\n",
       "        vertical-align: top;\n",
       "    }\n",
       "\n",
       "    .dataframe thead th {\n",
       "        text-align: right;\n",
       "    }\n",
       "</style>\n",
       "<table border=\"1\" class=\"dataframe\">\n",
       "  <thead>\n",
       "    <tr style=\"text-align: right;\">\n",
       "      <th></th>\n",
       "      <th>userId</th>\n",
       "      <th>brochure_dateCreated</th>\n",
       "      <th>page_turn_count</th>\n",
       "      <th>view_duration</th>\n",
       "      <th>brochure_id</th>\n",
       "      <th>origin</th>\n",
       "    </tr>\n",
       "  </thead>\n",
       "  <tbody>\n",
       "    <tr>\n",
       "      <th>59444</th>\n",
       "      <td>9491a960-206a-4a58-9177-e78cb1f05e70</td>\n",
       "      <td>2017-04-04 18:04:36.7820000</td>\n",
       "      <td>46</td>\n",
       "      <td>136000.0</td>\n",
       "      <td>663252848</td>\n",
       "      <td>past</td>\n",
       "    </tr>\n",
       "    <tr>\n",
       "      <th>55673</th>\n",
       "      <td>9491a960-206a-4a58-9177-e78cb1f05e70</td>\n",
       "      <td>2017-04-06 22:05:41.2870000</td>\n",
       "      <td>13</td>\n",
       "      <td>51000.0</td>\n",
       "      <td>663696350</td>\n",
       "      <td>past</td>\n",
       "    </tr>\n",
       "    <tr>\n",
       "      <th>52348</th>\n",
       "      <td>9491a960-206a-4a58-9177-e78cb1f05e70</td>\n",
       "      <td>2017-04-09 16:57:25.8960000</td>\n",
       "      <td>1</td>\n",
       "      <td>74000.0</td>\n",
       "      <td>660764207</td>\n",
       "      <td>past</td>\n",
       "    </tr>\n",
       "    <tr>\n",
       "      <th>52342</th>\n",
       "      <td>9491a960-206a-4a58-9177-e78cb1f05e70</td>\n",
       "      <td>2017-04-09 21:59:17.0780000</td>\n",
       "      <td>36</td>\n",
       "      <td>169714.0</td>\n",
       "      <td>666028021</td>\n",
       "      <td>past</td>\n",
       "    </tr>\n",
       "    <tr>\n",
       "      <th>50969</th>\n",
       "      <td>9491a960-206a-4a58-9177-e78cb1f05e70</td>\n",
       "      <td>2017-04-09 22:02:14.1670000</td>\n",
       "      <td>20</td>\n",
       "      <td>88000.0</td>\n",
       "      <td>665749310</td>\n",
       "      <td>past</td>\n",
       "    </tr>\n",
       "    <tr>\n",
       "      <th>...</th>\n",
       "      <td>...</td>\n",
       "      <td>...</td>\n",
       "      <td>...</td>\n",
       "      <td>...</td>\n",
       "      <td>...</td>\n",
       "      <td>...</td>\n",
       "    </tr>\n",
       "    <tr>\n",
       "      <th>280365</th>\n",
       "      <td>9491a960-206a-4a58-9177-e78cb1f05e70</td>\n",
       "      <td>2017-07-23 20:33:41.2160000</td>\n",
       "      <td>14</td>\n",
       "      <td>84000.0</td>\n",
       "      <td>702551081</td>\n",
       "      <td>july</td>\n",
       "    </tr>\n",
       "    <tr>\n",
       "      <th>283944</th>\n",
       "      <td>9491a960-206a-4a58-9177-e78cb1f05e70</td>\n",
       "      <td>2017-07-29 21:33:33.5490000</td>\n",
       "      <td>16</td>\n",
       "      <td>38000.0</td>\n",
       "      <td>710392070</td>\n",
       "      <td>july</td>\n",
       "    </tr>\n",
       "    <tr>\n",
       "      <th>323181</th>\n",
       "      <td>9491a960-206a-4a58-9177-e78cb1f05e70</td>\n",
       "      <td>2017-07-30 12:30:19.6400000</td>\n",
       "      <td>3</td>\n",
       "      <td>269000.0</td>\n",
       "      <td>685254855</td>\n",
       "      <td>july</td>\n",
       "    </tr>\n",
       "    <tr>\n",
       "      <th>302751</th>\n",
       "      <td>9491a960-206a-4a58-9177-e78cb1f05e70</td>\n",
       "      <td>2017-07-31 19:43:17.1000000</td>\n",
       "      <td>46</td>\n",
       "      <td>130000.0</td>\n",
       "      <td>710694479</td>\n",
       "      <td>july</td>\n",
       "    </tr>\n",
       "    <tr>\n",
       "      <th>344671</th>\n",
       "      <td>9491a960-206a-4a58-9177-e78cb1f05e70</td>\n",
       "      <td>2017-07-31 19:45:21.0460000</td>\n",
       "      <td>2</td>\n",
       "      <td>6000.0</td>\n",
       "      <td>699564256</td>\n",
       "      <td>july</td>\n",
       "    </tr>\n",
       "  </tbody>\n",
       "</table>\n",
       "<p>219 rows × 6 columns</p>\n",
       "</div>"
      ],
      "text/plain": [
       "                                      userId         brochure_dateCreated  \\\n",
       "59444   9491a960-206a-4a58-9177-e78cb1f05e70  2017-04-04 18:04:36.7820000   \n",
       "55673   9491a960-206a-4a58-9177-e78cb1f05e70  2017-04-06 22:05:41.2870000   \n",
       "52348   9491a960-206a-4a58-9177-e78cb1f05e70  2017-04-09 16:57:25.8960000   \n",
       "52342   9491a960-206a-4a58-9177-e78cb1f05e70  2017-04-09 21:59:17.0780000   \n",
       "50969   9491a960-206a-4a58-9177-e78cb1f05e70  2017-04-09 22:02:14.1670000   \n",
       "...                                      ...                          ...   \n",
       "280365  9491a960-206a-4a58-9177-e78cb1f05e70  2017-07-23 20:33:41.2160000   \n",
       "283944  9491a960-206a-4a58-9177-e78cb1f05e70  2017-07-29 21:33:33.5490000   \n",
       "323181  9491a960-206a-4a58-9177-e78cb1f05e70  2017-07-30 12:30:19.6400000   \n",
       "302751  9491a960-206a-4a58-9177-e78cb1f05e70  2017-07-31 19:43:17.1000000   \n",
       "344671  9491a960-206a-4a58-9177-e78cb1f05e70  2017-07-31 19:45:21.0460000   \n",
       "\n",
       "        page_turn_count  view_duration  brochure_id origin  \n",
       "59444                46       136000.0    663252848   past  \n",
       "55673                13        51000.0    663696350   past  \n",
       "52348                 1        74000.0    660764207   past  \n",
       "52342                36       169714.0    666028021   past  \n",
       "50969                20        88000.0    665749310   past  \n",
       "...                 ...            ...          ...    ...  \n",
       "280365               14        84000.0    702551081   july  \n",
       "283944               16        38000.0    710392070   july  \n",
       "323181                3       269000.0    685254855   july  \n",
       "302751               46       130000.0    710694479   july  \n",
       "344671                2         6000.0    699564256   july  \n",
       "\n",
       "[219 rows x 6 columns]"
      ]
     },
     "execution_count": 86,
     "metadata": {},
     "output_type": "execute_result"
    }
   ],
   "source": [
    "train_df[(train_df.userId == '9491a960-206a-4a58-9177-e78cb1f05e70')].sort_values(\"brochure_dateCreated\")"
   ]
  },
  {
   "cell_type": "code",
   "execution_count": 87,
   "id": "df968226-cff8-4602-ab2d-f0a28a50e1db",
   "metadata": {
    "pycharm": {
     "name": "#%%\n"
    }
   },
   "outputs": [
    {
     "data": {
      "text/html": [
       "<div>\n",
       "<style scoped>\n",
       "    .dataframe tbody tr th:only-of-type {\n",
       "        vertical-align: middle;\n",
       "    }\n",
       "\n",
       "    .dataframe tbody tr th {\n",
       "        vertical-align: top;\n",
       "    }\n",
       "\n",
       "    .dataframe thead th {\n",
       "        text-align: right;\n",
       "    }\n",
       "</style>\n",
       "<table border=\"1\" class=\"dataframe\">\n",
       "  <thead>\n",
       "    <tr style=\"text-align: right;\">\n",
       "      <th></th>\n",
       "      <th>app_start_dateCreated</th>\n",
       "      <th>userId</th>\n",
       "      <th>app_origin</th>\n",
       "      <th>InstallDate</th>\n",
       "      <th>productId</th>\n",
       "      <th>model</th>\n",
       "      <th>campaignId</th>\n",
       "    </tr>\n",
       "  </thead>\n",
       "  <tbody>\n",
       "    <tr>\n",
       "      <th>137794</th>\n",
       "      <td>2017-04-02 09:50:54.0000000</td>\n",
       "      <td>9491a960-206a-4a58-9177-e78cb1f05e70</td>\n",
       "      <td>past</td>\n",
       "      <td>2017-04-02 09:50:53.0000000</td>\n",
       "      <td>com-bonial-kaufda</td>\n",
       "      <td>GT-I9505</td>\n",
       "      <td>m9l4xq</td>\n",
       "    </tr>\n",
       "    <tr>\n",
       "      <th>137771</th>\n",
       "      <td>2017-04-04 18:04:34.0000000</td>\n",
       "      <td>9491a960-206a-4a58-9177-e78cb1f05e70</td>\n",
       "      <td>past</td>\n",
       "      <td>2017-04-02 09:50:53.0000000</td>\n",
       "      <td>com-bonial-kaufda</td>\n",
       "      <td>GT-I9505</td>\n",
       "      <td>m9l4xq</td>\n",
       "    </tr>\n",
       "    <tr>\n",
       "      <th>137708</th>\n",
       "      <td>2017-04-06 22:05:31.9520000</td>\n",
       "      <td>9491a960-206a-4a58-9177-e78cb1f05e70</td>\n",
       "      <td>past</td>\n",
       "      <td>2017-04-02 09:50:53.0000000</td>\n",
       "      <td>com-bonial-kaufda</td>\n",
       "      <td>GT-I9505</td>\n",
       "      <td>m9l4xq</td>\n",
       "    </tr>\n",
       "    <tr>\n",
       "      <th>108144</th>\n",
       "      <td>2017-04-09 16:57:25.7560000</td>\n",
       "      <td>9491a960-206a-4a58-9177-e78cb1f05e70</td>\n",
       "      <td>past</td>\n",
       "      <td>2017-04-02 09:50:53.0000000</td>\n",
       "      <td>com-bonial-kaufda</td>\n",
       "      <td>GT-I9505</td>\n",
       "      <td>m9l4xq</td>\n",
       "    </tr>\n",
       "    <tr>\n",
       "      <th>97430</th>\n",
       "      <td>2017-04-09 21:59:16.9260000</td>\n",
       "      <td>9491a960-206a-4a58-9177-e78cb1f05e70</td>\n",
       "      <td>past</td>\n",
       "      <td>2017-04-02 09:50:53.0000000</td>\n",
       "      <td>com-bonial-kaufda</td>\n",
       "      <td>GT-I9505</td>\n",
       "      <td>m9l4xq</td>\n",
       "    </tr>\n",
       "    <tr>\n",
       "      <th>...</th>\n",
       "      <td>...</td>\n",
       "      <td>...</td>\n",
       "      <td>...</td>\n",
       "      <td>...</td>\n",
       "      <td>...</td>\n",
       "      <td>...</td>\n",
       "      <td>...</td>\n",
       "    </tr>\n",
       "    <tr>\n",
       "      <th>176650</th>\n",
       "      <td>2017-07-23 20:26:28.7380000</td>\n",
       "      <td>9491a960-206a-4a58-9177-e78cb1f05e70</td>\n",
       "      <td>july</td>\n",
       "      <td>2017-04-02 09:50:53.0000000</td>\n",
       "      <td>com-bonial-kaufda</td>\n",
       "      <td>GT-I9505</td>\n",
       "      <td>m9l4xq</td>\n",
       "    </tr>\n",
       "    <tr>\n",
       "      <th>180219</th>\n",
       "      <td>2017-07-27 18:06:06.2050000</td>\n",
       "      <td>9491a960-206a-4a58-9177-e78cb1f05e70</td>\n",
       "      <td>july</td>\n",
       "      <td>2017-04-02 09:50:53.0000000</td>\n",
       "      <td>com-bonial-kaufda</td>\n",
       "      <td>GT-I9505</td>\n",
       "      <td>m9l4xq</td>\n",
       "    </tr>\n",
       "    <tr>\n",
       "      <th>157346</th>\n",
       "      <td>2017-07-29 21:33:25.0840000</td>\n",
       "      <td>9491a960-206a-4a58-9177-e78cb1f05e70</td>\n",
       "      <td>july</td>\n",
       "      <td>2017-04-02 09:50:53.0000000</td>\n",
       "      <td>com-bonial-kaufda</td>\n",
       "      <td>GT-I9505</td>\n",
       "      <td>m9l4xq</td>\n",
       "    </tr>\n",
       "    <tr>\n",
       "      <th>153389</th>\n",
       "      <td>2017-07-30 12:30:14.4000000</td>\n",
       "      <td>9491a960-206a-4a58-9177-e78cb1f05e70</td>\n",
       "      <td>july</td>\n",
       "      <td>2017-04-02 09:50:53.0000000</td>\n",
       "      <td>com-bonial-kaufda</td>\n",
       "      <td>GT-I9505</td>\n",
       "      <td>m9l4xq</td>\n",
       "    </tr>\n",
       "    <tr>\n",
       "      <th>168841</th>\n",
       "      <td>2017-07-31 19:43:16.7780000</td>\n",
       "      <td>9491a960-206a-4a58-9177-e78cb1f05e70</td>\n",
       "      <td>july</td>\n",
       "      <td>2017-04-02 09:50:53.0000000</td>\n",
       "      <td>com-bonial-kaufda</td>\n",
       "      <td>GT-I9505</td>\n",
       "      <td>m9l4xq</td>\n",
       "    </tr>\n",
       "  </tbody>\n",
       "</table>\n",
       "<p>65 rows × 7 columns</p>\n",
       "</div>"
      ],
      "text/plain": [
       "              app_start_dateCreated                                userId  \\\n",
       "137794  2017-04-02 09:50:54.0000000  9491a960-206a-4a58-9177-e78cb1f05e70   \n",
       "137771  2017-04-04 18:04:34.0000000  9491a960-206a-4a58-9177-e78cb1f05e70   \n",
       "137708  2017-04-06 22:05:31.9520000  9491a960-206a-4a58-9177-e78cb1f05e70   \n",
       "108144  2017-04-09 16:57:25.7560000  9491a960-206a-4a58-9177-e78cb1f05e70   \n",
       "97430   2017-04-09 21:59:16.9260000  9491a960-206a-4a58-9177-e78cb1f05e70   \n",
       "...                             ...                                   ...   \n",
       "176650  2017-07-23 20:26:28.7380000  9491a960-206a-4a58-9177-e78cb1f05e70   \n",
       "180219  2017-07-27 18:06:06.2050000  9491a960-206a-4a58-9177-e78cb1f05e70   \n",
       "157346  2017-07-29 21:33:25.0840000  9491a960-206a-4a58-9177-e78cb1f05e70   \n",
       "153389  2017-07-30 12:30:14.4000000  9491a960-206a-4a58-9177-e78cb1f05e70   \n",
       "168841  2017-07-31 19:43:16.7780000  9491a960-206a-4a58-9177-e78cb1f05e70   \n",
       "\n",
       "       app_origin                  InstallDate          productId     model  \\\n",
       "137794       past  2017-04-02 09:50:53.0000000  com-bonial-kaufda  GT-I9505   \n",
       "137771       past  2017-04-02 09:50:53.0000000  com-bonial-kaufda  GT-I9505   \n",
       "137708       past  2017-04-02 09:50:53.0000000  com-bonial-kaufda  GT-I9505   \n",
       "108144       past  2017-04-02 09:50:53.0000000  com-bonial-kaufda  GT-I9505   \n",
       "97430        past  2017-04-02 09:50:53.0000000  com-bonial-kaufda  GT-I9505   \n",
       "...           ...                          ...                ...       ...   \n",
       "176650       july  2017-04-02 09:50:53.0000000  com-bonial-kaufda  GT-I9505   \n",
       "180219       july  2017-04-02 09:50:53.0000000  com-bonial-kaufda  GT-I9505   \n",
       "157346       july  2017-04-02 09:50:53.0000000  com-bonial-kaufda  GT-I9505   \n",
       "153389       july  2017-04-02 09:50:53.0000000  com-bonial-kaufda  GT-I9505   \n",
       "168841       july  2017-04-02 09:50:53.0000000  com-bonial-kaufda  GT-I9505   \n",
       "\n",
       "       campaignId  \n",
       "137794     m9l4xq  \n",
       "137771     m9l4xq  \n",
       "137708     m9l4xq  \n",
       "108144     m9l4xq  \n",
       "97430      m9l4xq  \n",
       "...           ...  \n",
       "176650     m9l4xq  \n",
       "180219     m9l4xq  \n",
       "157346     m9l4xq  \n",
       "153389     m9l4xq  \n",
       "168841     m9l4xq  \n",
       "\n",
       "[65 rows x 7 columns]"
      ]
     },
     "execution_count": 87,
     "metadata": {},
     "output_type": "execute_result"
    }
   ],
   "source": [
    "train_app_df2[(train_app_df2.userId == '9491a960-206a-4a58-9177-e78cb1f05e70')].sort_values(\"app_start_dateCreated\")"
   ]
  },
  {
   "cell_type": "code",
   "execution_count": null,
   "id": "3349602c-ce8b-4093-b422-6302cc74d8f6",
   "metadata": {
    "pycharm": {
     "name": "#%%\n"
    }
   },
   "outputs": [],
   "source": []
  },
  {
   "cell_type": "code",
   "execution_count": null,
   "id": "9aea3d60-5f37-4d37-a690-90a658e5e2e2",
   "metadata": {
    "pycharm": {
     "name": "#%%\n"
    }
   },
   "outputs": [],
   "source": []
  },
  {
   "cell_type": "code",
   "execution_count": null,
   "id": "284f9e1e-4844-4877-b981-0a37d72e531e",
   "metadata": {
    "pycharm": {
     "name": "#%%\n"
    }
   },
   "outputs": [],
   "source": []
  },
  {
   "cell_type": "code",
   "execution_count": null,
   "id": "6863d1ad-249f-4ced-9bba-4f19ae0d417e",
   "metadata": {
    "pycharm": {
     "name": "#%%\n"
    }
   },
   "outputs": [],
   "source": []
  },
  {
   "cell_type": "code",
   "execution_count": 77,
   "id": "3014b791-a60f-4dd1-8cee-9f6398562285",
   "metadata": {
    "pycharm": {
     "name": "#%%\n"
    }
   },
   "outputs": [],
   "source": [
    "train_df = train_df.drop(columns='id')\n",
    "train_app_df2 = train_app_df2.drop(columns='id')"
   ]
  },
  {
   "cell_type": "code",
   "execution_count": null,
   "id": "f44eb246-d8e8-4588-9a20-b7b26a413623",
   "metadata": {
    "pycharm": {
     "name": "#%%\n"
    }
   },
   "outputs": [],
   "source": [
    "train_df2 = pd.merge(train_df, train_app_df2,\n",
    "                        how=\"left\", on=[\"userId\"])\n",
    "train_df2.shape"
   ]
  },
  {
   "cell_type": "raw",
   "id": "dab680a1-6c10-4a8e-a52d-20fd0dd6409b",
   "metadata": {
    "pycharm": {
     "name": "#%% raw\n"
    }
   },
   "source": [
    "(15673569, 12)\n"
   ]
  },
  {
   "cell_type": "code",
   "execution_count": null,
   "id": "c9b47b6e-4285-4ade-8cac-aa269ced9abe",
   "metadata": {
    "pycharm": {
     "name": "#%%\n"
    }
   },
   "outputs": [],
   "source": [
    "train_app_df2[(train_app_df2.userId == '9491a960-206a-4a58-9177-e78cb1f05e70')].productId.unique()"
   ]
  },
  {
   "cell_type": "code",
   "execution_count": null,
   "id": "a811d5d5-583f-4f9f-9e95-b408be60f7e8",
   "metadata": {
    "pycharm": {
     "name": "#%%\n"
    }
   },
   "outputs": [],
   "source": [
    "train_app_df2[(train_app_df2.userId == '9491a960-206a-4a58-9177-e78cb1f05e70')].InstallDate.unique()"
   ]
  },
  {
   "cell_type": "code",
   "execution_count": null,
   "id": "f22b1896-5c93-40ca-810a-e910952bb0b5",
   "metadata": {
    "pycharm": {
     "name": "#%%\n"
    }
   },
   "outputs": [],
   "source": [
    "train_app_df2[(train_app_df2.userId == '9491a960-206a-4a58-9177-e78cb1f05e70')].model.unique()"
   ]
  },
  {
   "cell_type": "code",
   "execution_count": null,
   "id": "877554df-a196-4ef6-8653-fcdedb822068",
   "metadata": {
    "pycharm": {
     "name": "#%%\n"
    }
   },
   "outputs": [],
   "source": [
    "train_app_df2[(train_app_df2.userId == '9491a960-206a-4a58-9177-e78cb1f05e70')].campaignId.unique()"
   ]
  },
  {
   "cell_type": "code",
   "execution_count": null,
   "id": "ce1397e3-f1c2-4ab7-9014-1d98ab561890",
   "metadata": {
    "pycharm": {
     "name": "#%%\n"
    }
   },
   "outputs": [],
   "source": [
    "train_df2.head(10)"
   ]
  },
  {
   "cell_type": "code",
   "execution_count": null,
   "id": "e863d3ea-19f4-4ef7-a0b9-c769b31bae92",
   "metadata": {
    "pycharm": {
     "name": "#%%\n"
    }
   },
   "outputs": [],
   "source": [
    "train_app_df2[train_app_df2.userId == '9491a960-206a-4a58-9177-e78cb1f05e70'].head(100)"
   ]
  },
  {
   "cell_type": "code",
   "execution_count": null,
   "id": "72ad49d8-8aad-4617-a8e7-009736a8e1b6",
   "metadata": {
    "pycharm": {
     "name": "#%%\n"
    }
   },
   "outputs": [],
   "source": [
    "train_df[train_df.userId == '9491a960-206a-4a58-9177-e78cb1f05e70'].head(100)"
   ]
  },
  {
   "cell_type": "code",
   "execution_count": null,
   "id": "33570941-9716-45b4-96db-cabd77c00d1b",
   "metadata": {
    "pycharm": {
     "name": "#%%\n"
    }
   },
   "outputs": [],
   "source": []
  },
  {
   "cell_type": "code",
   "execution_count": null,
   "id": "064e05c7-c72b-42f0-a85b-643b9ab8db49",
   "metadata": {
    "pycharm": {
     "name": "#%%\n"
    }
   },
   "outputs": [],
   "source": [
    "group = train_df.groupby('userId')\n",
    "\n",
    "df2 = group.apply(lambda x: x['brochure_id'].unique())"
   ]
  },
  {
   "cell_type": "code",
   "execution_count": null,
   "id": "57a76bca-5ba7-4198-b8df-cc261efc96d5",
   "metadata": {
    "pycharm": {
     "name": "#%%\n"
    }
   },
   "outputs": [],
   "source": [
    "df2 = df2.apply(pd.Series)\n",
    "df2.shape"
   ]
  },
  {
   "cell_type": "code",
   "execution_count": null,
   "id": "c1297d49-81c3-4e71-a74a-095094355cb1",
   "metadata": {
    "pycharm": {
     "name": "#%%\n"
    }
   },
   "outputs": [],
   "source": [
    "df2.iloc[:,:20].head()"
   ]
  },
  {
   "cell_type": "code",
   "execution_count": null,
   "id": "9120641a-d687-4489-ad67-bfdb488f3003",
   "metadata": {
    "pycharm": {
     "name": "#%%\n"
    }
   },
   "outputs": [],
   "source": []
  },
  {
   "cell_type": "code",
   "execution_count": null,
   "id": "3586b8fe-ec16-44e7-ab6e-4e2979b363ef",
   "metadata": {
    "pycharm": {
     "name": "#%%\n"
    }
   },
   "outputs": [],
   "source": [
    "len(set(train_df.id.unique()) - set(train_app_df2.id.unique()))"
   ]
  },
  {
   "cell_type": "code",
   "execution_count": null,
   "id": "4e017e16-2311-4902-9f52-51c45abf29ba",
   "metadata": {
    "pycharm": {
     "name": "#%%\n"
    }
   },
   "outputs": [],
   "source": [
    "train_df.id.max(), train_app_df2.id.max()"
   ]
  },
  {
   "cell_type": "code",
   "execution_count": null,
   "id": "4eb5f76f-eedf-4504-90c3-8f924f3b399b",
   "metadata": {
    "pycharm": {
     "name": "#%%\n"
    }
   },
   "outputs": [],
   "source": [
    "train_df.shape"
   ]
  },
  {
   "cell_type": "code",
   "execution_count": null,
   "id": "59585553-4e5c-4c7f-991f-93303fa92fad",
   "metadata": {
    "pycharm": {
     "name": "#%%\n"
    }
   },
   "outputs": [],
   "source": [
    "df = train_df.groupby(['userId', 'brochure_id']).sum('id')\n",
    "df.shape"
   ]
  },
  {
   "cell_type": "code",
   "execution_count": null,
   "id": "7a93f6a4-daed-43af-89c1-22bd2d9c4433",
   "metadata": {
    "pycharm": {
     "name": "#%%\n"
    }
   },
   "outputs": [],
   "source": [
    "df.head(20)"
   ]
  },
  {
   "cell_type": "code",
   "execution_count": null,
   "id": "8dedf78e-f38f-4e46-90b1-df28aa643f64",
   "metadata": {
    "pycharm": {
     "name": "#%%\n"
    }
   },
   "outputs": [],
   "source": [
    "df2 = train_df.groupby(['userId', 'brochure_id']).sum('page_turn_count')\n",
    "df2.shape"
   ]
  },
  {
   "cell_type": "code",
   "execution_count": null,
   "id": "a2f69908-0c1a-4ea8-884d-a6b4808e3f8d",
   "metadata": {
    "pycharm": {
     "name": "#%%\n"
    }
   },
   "outputs": [],
   "source": [
    "df2.head(20)"
   ]
  },
  {
   "cell_type": "code",
   "execution_count": null,
   "id": "246ba6bb-0518-44a5-9d65-55b0bd1c4870",
   "metadata": {
    "pycharm": {
     "name": "#%%\n"
    }
   },
   "outputs": [],
   "source": []
  }
 ],
 "metadata": {
  "kernelspec": {
   "display_name": "Python 3 (ipykernel)",
   "language": "python",
   "name": "python3"
  },
  "language_info": {
   "codemirror_mode": {
    "name": "ipython",
    "version": 3
   },
   "file_extension": ".py",
   "mimetype": "text/x-python",
   "name": "python",
   "nbconvert_exporter": "python",
   "pygments_lexer": "ipython3",
   "version": "3.9.12"
  }
 },
 "nbformat": 4,
 "nbformat_minor": 5
}